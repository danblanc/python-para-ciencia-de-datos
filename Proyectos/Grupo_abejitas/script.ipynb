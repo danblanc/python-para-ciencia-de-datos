{
 "cells": [
  {
   "cell_type": "markdown",
   "metadata": {},
   "source": [
    "# Cargo las librerías"
   ]
  },
  {
   "cell_type": "code",
   "execution_count": 1,
   "metadata": {},
   "outputs": [],
   "source": [
    "import pandas as pd\n",
    "import seaborn as sns\n",
    "import matplotlib.pyplot as plt\n",
    "import numpy as np\n",
    "import geopandas as gpd\n",
    "import plotly.graph_objects as go\n",
    "import plotly.express as px"
   ]
  },
  {
   "cell_type": "markdown",
   "metadata": {},
   "source": [
    "# Cargo la base de la ECH 2023 en csv"
   ]
  },
  {
   "cell_type": "code",
   "execution_count": 2,
   "metadata": {},
   "outputs": [],
   "source": [
    "ECH2023 = pd.read_csv('Data/ECH_implantacion_2023.csv')\n",
    "uruguay_map = gpd.read_file('Data/ine_depto.shp') \n"
   ]
  },
  {
   "cell_type": "markdown",
   "metadata": {},
   "source": [
    "# Caracterización de la variable e557 que identifica a quien informa los datos de la persona\n",
    "\n",
    "Esta variable toma los valores 1, 2 y 3:\n",
    "- 1 Sí, es la misma persona\n",
    "- 2 No, responde un miembro de este hogar\n",
    "- 3 No, responde un miembro calificado de otro hogar"
   ]
  },
  {
   "cell_type": "markdown",
   "metadata": {},
   "source": [
    "## Frecuencia de la variable"
   ]
  },
  {
   "cell_type": "code",
   "execution_count": 3,
   "metadata": {},
   "outputs": [],
   "source": [
    "tabla_porcentaje = ECH2023['e557'].value_counts(normalize=True).reset_index(name='Porcentaje') * 100\n",
    "tabla_porcentaje = pd.DataFrame(tabla_porcentaje)\n",
    "\n",
    "#agrego columna con los valores de la variable\n",
    "tabla_porcentaje['e557'] = [2,1,3]\n",
    "# creo columnas categoría y filtro\n",
    "tabla_porcentaje['Categoría'] = 'Total'\n",
    "tabla_porcentaje['Filtro'] = 'Total'"
   ]
  },
  {
   "cell_type": "markdown",
   "metadata": {},
   "source": [
    "## Por sexo"
   ]
  },
  {
   "cell_type": "code",
   "execution_count": 4,
   "metadata": {},
   "outputs": [],
   "source": [
    "# ahora hago frecuencia de esta variable pero por sexo\n",
    "tabla_sexo = ECH2023.groupby('e26')['e557'].value_counts(normalize=True).reset_index(name='Porcentaje')\n",
    "tabla_sexo['Porcentaje'] *= 100\n",
    "# modifico las categorías de la variable sexo (e26)\n",
    "tabla_sexo['e26'] = tabla_sexo['e26'].map({1: 'Hombre', 2: 'Mujer'})\n",
    "tabla_sexo.rename(columns={'e26': 'Categoría'}, inplace=True)\n",
    "# agrego una variable filtro\n",
    "tabla_sexo['Filtro'] = 'Sexo'"
   ]
  },
  {
   "cell_type": "code",
   "execution_count": 5,
   "metadata": {},
   "outputs": [],
   "source": [
    "#concateno las tablas\n",
    "tabla_junta_e557 = pd.concat([tabla_porcentaje, tabla_sexo], axis=0)"
   ]
  },
  {
   "cell_type": "markdown",
   "metadata": {},
   "source": [
    "## Por tramos de edad"
   ]
  },
  {
   "cell_type": "code",
   "execution_count": 6,
   "metadata": {},
   "outputs": [],
   "source": [
    "#Creo una variable de tramos de edad\n",
    "bins = [0, 13, 17, 40 ,64, 110]\n",
    "labels = ['[0 a 13]', '[14 a 17]', '[18 a 40]','[41 a 64]' ,'[65 o más]']\n",
    "\n",
    "ECH2023['tramo_edad'] = pd.cut(ECH2023['e27'], bins=bins, labels=labels, right=True)"
   ]
  },
  {
   "cell_type": "code",
   "execution_count": 7,
   "metadata": {},
   "outputs": [
    {
     "name": "stderr",
     "output_type": "stream",
     "text": [
      "C:\\Users\\Usuario\\AppData\\Local\\Temp\\ipykernel_16084\\1853299017.py:2: FutureWarning: The default of observed=False is deprecated and will be changed to True in a future version of pandas. Pass observed=False to retain current behavior or observed=True to adopt the future default and silence this warning.\n",
      "  tabla_edad = ECH2023.groupby('tramo_edad')['e557'].value_counts(normalize=True).reset_index(name='Porcentaje')\n"
     ]
    }
   ],
   "source": [
    "# ahora hago frecuencia de esta variable pero por tramos de edad\n",
    "tabla_edad = ECH2023.groupby('tramo_edad')['e557'].value_counts(normalize=True).reset_index(name='Porcentaje')\n",
    "tabla_edad['Porcentaje'] *= 100\n",
    "tabla_edad.rename(columns={'tramo_edad': 'Categoría'}, inplace=True)\n",
    "tabla_edad['Filtro'] = 'Tramo etario'\n"
   ]
  },
  {
   "cell_type": "code",
   "execution_count": 8,
   "metadata": {},
   "outputs": [],
   "source": [
    "#concateno a la tabla principal\n",
    "tabla_junta_e557 = pd.concat([tabla_junta_e557, tabla_edad], axis=0)"
   ]
  },
  {
   "cell_type": "markdown",
   "metadata": {},
   "source": [
    "## Por región"
   ]
  },
  {
   "cell_type": "code",
   "execution_count": 9,
   "metadata": {},
   "outputs": [],
   "source": [
    "#creo variable mdeo_int a partir de la variable dpto\n",
    "ECH2023['mdeo_int'] = np.where(ECH2023['dpto'] == 1, 'Montevideo', 'Interior')"
   ]
  },
  {
   "cell_type": "code",
   "execution_count": 10,
   "metadata": {},
   "outputs": [],
   "source": [
    "# calculo frecuencia de la variable pero por region\n",
    "tabla_region = ECH2023.groupby('mdeo_int')['e557'].value_counts(normalize=True).reset_index(name='Porcentaje')\n",
    "tabla_region['Porcentaje'] *= 100\n",
    "tabla_region.rename(columns={'mdeo_int': 'Categoría'}, inplace=True)\n",
    "tabla_region['Filtro'] = 'Región'"
   ]
  },
  {
   "cell_type": "code",
   "execution_count": 11,
   "metadata": {},
   "outputs": [],
   "source": [
    "#concateno a la tabla principal\n",
    "tabla_junta_e557 = pd.concat([tabla_junta_e557, tabla_region], axis=0)"
   ]
  },
  {
   "cell_type": "markdown",
   "metadata": {},
   "source": [
    "## Ajustes finales para esta tabla"
   ]
  },
  {
   "cell_type": "code",
   "execution_count": 12,
   "metadata": {},
   "outputs": [],
   "source": [
    "# creo la variable descripción a partir de la e557\n",
    "tabla_junta_e557['Descripción'] = tabla_junta_e557['e557'].apply(lambda x: 'Sí, es la misma persona' if x == 1 else ('No, responde un miembro de este hogar' if x == 2 else ('No, responde un miembro calificado de otro hogar' if x == 3 else 99)))\n",
    "\n",
    "#redondeo la variable porcentaje\n",
    "tabla_junta_e557['Porcentaje'] = tabla_junta_e557['Porcentaje'].round(1)\n",
    "\n",
    "# Finalmente restablezco el índice del DataFrame concatenado\n",
    "tabla_junta_e557 = tabla_junta_e557.reset_index(drop=True)\n"
   ]
  },
  {
   "cell_type": "markdown",
   "metadata": {},
   "source": [
    "# Análisis\n",
    "\n",
    "## Camino mínimo\n",
    "\n",
    "Se crea un DataFrame con los datos que se utilizarán en el filtrado y las visualizaciones.\n",
    "\n",
    "Las encuestas se puntúan según una selección de variables y valores que permiten acortar la realización de la ECH. Esta puntuación se clasifica en tres niveles: bajo, medio o alto.\n",
    "\n",
    "Posteriormente, se agrupa la información por departamento y se suman los puntajes, normalizándolos entre 0 y 1. A continuación, se genera un mapa donde los colores varían de blanco a rojo: cuanto más rojo sea un departamento, menor será el recorrido promedio de las encuestas en esa zona. Aunque esto podría estar relacionado con características sociodemográficas propias de cada departamento, se propone comparar estos resultados aplicando un filtro adicional: la \"Identificación del Informante\". De esta manera, se podrá evaluar si el recorrido de la encuesta varía significativamente cuando el informante es la misma persona u otra persona informa por el. Se plantea la hipótesis de que las encuestas realizadas por informantes \"proxy\" tendrán un recorrido menor."
   ]
  },
  {
   "cell_type": "code",
   "execution_count": 13,
   "metadata": {},
   "outputs": [
    {
     "name": "stderr",
     "output_type": "stream",
     "text": [
      "C:\\Users\\Usuario\\AppData\\Local\\Temp\\ipykernel_16084\\4165347116.py:6: SettingWithCopyWarning: \n",
      "A value is trying to be set on a copy of a slice from a DataFrame.\n",
      "Try using .loc[row_indexer,col_indexer] = value instead\n",
      "\n",
      "See the caveats in the documentation: https://pandas.pydata.org/pandas-docs/stable/user_guide/indexing.html#returning-a-view-versus-a-copy\n",
      "  df_selected['Informante'] = df_selected['e557'].apply(lambda x: 1 if x == 1 else 2)\n",
      "C:\\Users\\Usuario\\AppData\\Local\\Temp\\ipykernel_16084\\4165347116.py:12: SettingWithCopyWarning: \n",
      "A value is trying to be set on a copy of a slice from a DataFrame.\n",
      "Try using .loc[row_indexer,col_indexer] = value instead\n",
      "\n",
      "See the caveats in the documentation: https://pandas.pydata.org/pandas-docs/stable/user_guide/indexing.html#returning-a-view-versus-a-copy\n",
      "  df_selected['low_score'] = ((df_selected['c6_1'] == 1) & (df_selected['e38'] == 1)).astype(int)\n",
      "C:\\Users\\Usuario\\AppData\\Local\\Temp\\ipykernel_16084\\4165347116.py:15: SettingWithCopyWarning: \n",
      "A value is trying to be set on a copy of a slice from a DataFrame.\n",
      "Try using .loc[row_indexer,col_indexer] = value instead\n",
      "\n",
      "See the caveats in the documentation: https://pandas.pydata.org/pandas-docs/stable/user_guide/indexing.html#returning-a-view-versus-a-copy\n",
      "  df_selected['medium_score'] = ((df_selected['e46_cv'] == 2) | (df_selected['e582'] == 2) | (df_selected['f75'] == 1)).astype(int)\n",
      "C:\\Users\\Usuario\\AppData\\Local\\Temp\\ipykernel_16084\\4165347116.py:18: SettingWithCopyWarning: \n",
      "A value is trying to be set on a copy of a slice from a DataFrame.\n",
      "Try using .loc[row_indexer,col_indexer] = value instead\n",
      "\n",
      "See the caveats in the documentation: https://pandas.pydata.org/pandas-docs/stable/user_guide/indexing.html#returning-a-view-versus-a-copy\n",
      "  df_selected['high_score'] = (\n",
      "C:\\Users\\Usuario\\AppData\\Local\\Temp\\ipykernel_16084\\4165347116.py:26: SettingWithCopyWarning: \n",
      "A value is trying to be set on a copy of a slice from a DataFrame.\n",
      "Try using .loc[row_indexer,col_indexer] = value instead\n",
      "\n",
      "See the caveats in the documentation: https://pandas.pydata.org/pandas-docs/stable/user_guide/indexing.html#returning-a-view-versus-a-copy\n",
      "  df_selected['gradual_indicator'] = df_selected['low_score'] + df_selected['medium_score'] + df_selected['high_score']\n"
     ]
    }
   ],
   "source": [
    "# Crear un DataFrame con Variables Seleccionadas ---\n",
    "# Selecciono variables de interés, incluyendo 'e557' para futuros filtrados\n",
    "df_selected = ECH2023[['nom_dpto', 'ESTRED13', 'c6_1', 'e38', 'e46_cv', 'e582', 'f75', 'f285', 'f288', 'f99', 'f101', 'f102', 'f299', 'f110', 'f116', 'g132', 'g140', 'h161', 'e557']]\n",
    "\n",
    "# juntamos las categorias 2 y 3 de la variable e557, para diferenciar entre los que responden por si mismos y los que no\n",
    "df_selected['Informante'] = df_selected['e557'].apply(lambda x: 1 if x == 1 else 2)\n",
    "# 1 si informa por si mismo\n",
    "# 2 si informa otra persona\n",
    "\n",
    "# Implemento  un Sistema de Puntuación Gradual del Indicador\n",
    "# Puntuación baja: Observaciones que cumplen solo el primer grupo de condicionesç\n",
    "df_selected['low_score'] = ((df_selected['c6_1'] == 1) & (df_selected['e38'] == 1)).astype(int)\n",
    "\n",
    "# Puntuación media: Observaciones que cumplen con más condiciones\n",
    "df_selected['medium_score'] = ((df_selected['e46_cv'] == 2) | (df_selected['e582'] == 2) | (df_selected['f75'] == 1)).astype(int)\n",
    "\n",
    "# Puntuación alta: Observaciones que cumplen con la mayoría de las condiciones\n",
    "df_selected['high_score'] = (\n",
    "    (df_selected['f285'] == 2) | (df_selected['f288'].isin([2, 3])) | (df_selected['f99'] == 2) |\n",
    "    (df_selected['f101'].isin([2, 3, 4])) | (df_selected['f102'] == 2) | (df_selected['f299'] == 2) |\n",
    "    (df_selected['f110'] == 7) | (df_selected['f116'] == 2) | (df_selected['g132'] == 3) |\n",
    "    (df_selected['g140'] == 3) | (df_selected['h161'] == 2)\n",
    ").astype(int)\n",
    "\n",
    "# combino puntajes en un indicador gradual\n",
    "df_selected['gradual_indicator'] = df_selected['low_score'] + df_selected['medium_score'] + df_selected['high_score']\n",
    "\n",
    "# Agrego puntajes por departamento y estrato\n",
    "df_grouped = df_selected.groupby(['nom_dpto', 'ESTRED13']).agg(\n",
    "    total_score=('gradual_indicator', 'sum'),  \n",
    "    count=('gradual_indicator', 'size')  \n",
    ").reset_index()\n",
    "\n",
    "# Normalizar la Puntuación a un Rango de 0 a 1 ---\n",
    "# Calcula la puntuación máxima posible para la normalización\n",
    "max_score = df_grouped['total_score'].max()\n",
    "df_grouped['normalized_score'] = df_grouped['total_score'] / max_score  \n",
    "\n",
    "#  Merge de datos y visualizacion de mapa\n",
    "# Llevo las variables para hacer el merge a mayúscula para que se matcheen los datos correctamente\n",
    "df_grouped['nom_dpto'] = df_grouped['nom_dpto'].str.upper()\n",
    "uruguay_map['NOMBRE'] = uruguay_map['NOMBRE'].str.upper()\n",
    "\n",
    "# Realizo el merge\n",
    "merged_map = uruguay_map.merge(df_grouped, left_on='NOMBRE', right_on='nom_dpto', how='left')\n",
    "\n",
    "# Ploteo el mapa\n",
    "#fig, ax = plt.subplots(1, 1, figsize=(10, 10))\n",
    "#merged_map.boundary.plot(ax=ax)  \n",
    "#merged_map.plot(column='normalized_score', ax=ax, legend=True, cmap='Reds', missing_kwds={\"color\": \"lightgrey\"})  \n",
    "#merged_map.plot(column='normalized_score', ax=ax, legend=True, cmap='Reds', missing_kwds={\"color\": \"white\"})\n",
    "#plt.title('Puntaje de mínimo recorrido por departamento')\n",
    "#plt.show()\n"
   ]
  },
  {
   "cell_type": "code",
   "execution_count": 44,
   "metadata": {},
   "outputs": [],
   "source": [
    "# Creo una visualización Sunburst interactiva\n",
    "#fig = px.sunburst(\n",
    " #   df_grouped,\n",
    "  #  path=['nom_dpto', 'ESTRED13'],  \n",
    "   # values='normalized_score',  # Uso puntuación normalizada para el tamaño de las secciones\n",
    "    #color='normalized_score',  # Color por puntación normalizada\n",
    "    #color_continuous_scale='Reds',  # Escala entre blanco y rojo\n",
    "    #title=\"Distribución por estrato y departamento del puntaje de riesgo por menor recorrido en la encuesta\"\n",
    "#)\n",
    "\n",
    "# Mejoro la visualización\n",
    "#fig.update_layout(\n",
    " #   margin=dict(t=50, l=25, r=25, b=25),  # Set margins\n",
    "  #  coloraxis_colorbar=dict(title=\"Score Normalizado\")  # Title for the color bar\n",
    "#)\n",
    "\n",
    "# Show the sunburst chart\n",
    "#fig.show()"
   ]
  },
  {
   "cell_type": "markdown",
   "metadata": {},
   "source": [
    "## Análisis de ingresos y horas efectivas"
   ]
  },
  {
   "cell_type": "markdown",
   "metadata": {},
   "source": [
    "Se realiza un análisis para poder observar si existen diferencias en los ingresos por trabajo y las horas efectivas trabajadas, entre las personas que informan por si mismas y quienes tienen un informante que responde por ellas (proxy).\n",
    "Para esto se seleccionan algunas ramas de ocupación (particularmente las que tienen mayor representación en la ECH 2023), y se calcula el ingreso promedio y la media de las horas efectivas trabajadas en la semana de referencia por sexo y por nivel educativo, tanto para informantes como proxys."
   ]
  },
  {
   "cell_type": "code",
   "execution_count": 14,
   "metadata": {},
   "outputs": [
    {
     "name": "stderr",
     "output_type": "stream",
     "text": [
      "C:\\Users\\Usuario\\AppData\\Local\\Temp\\ipykernel_16084\\1221567277.py:6: SettingWithCopyWarning: \n",
      "A value is trying to be set on a copy of a slice from a DataFrame.\n",
      "Try using .loc[row_indexer,col_indexer] = value instead\n",
      "\n",
      "See the caveats in the documentation: https://pandas.pydata.org/pandas-docs/stable/user_guide/indexing.html#returning-a-view-versus-a-copy\n",
      "  df_ocupacion_filtrada['Informante'] = df_ocupacion_filtrada['e557'].apply(lambda x: 1 if x == 1 else 2)\n"
     ]
    }
   ],
   "source": [
    "# Definir los códigos de ocupación que nos interesan\n",
    "codigos_interes = [9700, 8610, 4100, 141, 4711]\n",
    "\n",
    "# Filtrar las filas donde f72_2 coincide con los códigos de interés\n",
    "df_ocupacion_filtrada = ECH2023[ECH2023['f72_2'].isin(codigos_interes)]\n",
    "df_ocupacion_filtrada['Informante'] = df_ocupacion_filtrada['e557'].apply(lambda x: 1 if x == 1 else 2)"
   ]
  },
  {
   "cell_type": "code",
   "execution_count": 15,
   "metadata": {},
   "outputs": [
    {
     "name": "stderr",
     "output_type": "stream",
     "text": [
      "C:\\Users\\Usuario\\AppData\\Local\\Temp\\ipykernel_16084\\1285675240.py:2: SettingWithCopyWarning: \n",
      "A value is trying to be set on a copy of a slice from a DataFrame.\n",
      "Try using .loc[row_indexer,col_indexer] = value instead\n",
      "\n",
      "See the caveats in the documentation: https://pandas.pydata.org/pandas-docs/stable/user_guide/indexing.html#returning-a-view-versus-a-copy\n",
      "  df_ocupacion_filtrada['NIVEDURR'] = df_ocupacion_filtrada.apply(lambda x: (\n",
      "C:\\Users\\Usuario\\AppData\\Local\\Temp\\ipykernel_16084\\1285675240.py:15: SettingWithCopyWarning: \n",
      "A value is trying to be set on a copy of a slice from a DataFrame.\n",
      "Try using .loc[row_indexer,col_indexer] = value instead\n",
      "\n",
      "See the caveats in the documentation: https://pandas.pydata.org/pandas-docs/stable/user_guide/indexing.html#returning-a-view-versus-a-copy\n",
      "  df_ocupacion_filtrada['NIVEDU2021'] = df_ocupacion_filtrada['NIVEDURR'].apply(lambda x: (\n",
      "C:\\Users\\Usuario\\AppData\\Local\\Temp\\ipykernel_16084\\1285675240.py:24: SettingWithCopyWarning: \n",
      "A value is trying to be set on a copy of a slice from a DataFrame.\n",
      "Try using .loc[row_indexer,col_indexer] = value instead\n",
      "\n",
      "See the caveats in the documentation: https://pandas.pydata.org/pandas-docs/stable/user_guide/indexing.html#returning-a-view-versus-a-copy\n",
      "  df_ocupacion_filtrada['NIVEDU2021_2'] = df_ocupacion_filtrada['NIVEDU2021'].apply(lambda x: (\n"
     ]
    }
   ],
   "source": [
    "# Crear la variable 'NIVEDURR' siguiendo la lógica dada\n",
    "df_ocupacion_filtrada['NIVEDURR'] = df_ocupacion_filtrada.apply(lambda x: (\n",
    "    \"9. TERCIARIA COMP\" if x['e215_1'] == 1 or x['e218_1'] == 1 or x['e221_1'] == 1 or x['e224_1'] == 1 else\n",
    "    \"8. TERCIARIA INCOMP\" if (x['e51_8'] + x['e51_9'] + x['e51_10']) > 0 else\n",
    "    \"7. EMS COMP\" if x['e201_1c'] == 1 or x['e201_1d'] == 1 else\n",
    "    \"6. EMS INCOMP\" if (x['e51_5'] + x['e51_6']) > 0 else\n",
    "    \"5. EM CICLO BASICO COMP\" if x['e201_1a'] == 1 or x['e201_1b'] == 1 else\n",
    "    \"4. EM CICLO BASICO INCOMP\" if (x['e51_4_a'] + x['e51_4_b']) > 0 else\n",
    "    \"3. PRIMARIA COMP\" if x['e197_1'] == 1 else\n",
    "    \"2. PRIMARIA INCOMP\" if (x['e51_2'] + x['e51_3']) > 0 else\n",
    "    \"0. SIN INSTRUCCION\" if x['e49'] == 2 else None\n",
    "), axis=1)\n",
    "\n",
    "# Crear la variable 'NIVEDU2021'\n",
    "df_ocupacion_filtrada['NIVEDU2021'] = df_ocupacion_filtrada['NIVEDURR'].apply(lambda x: (\n",
    "    \"0. S/INSTRUCCIÓN Y PRIM. INC\" if x in [\"0. SIN INSTRUCCION\", \"1. PRESCOLAR\", \"2. PRIMARIA INCOMP\"] else\n",
    "    \"1. PRIMARIA COMPLETA O CB INCOMPLETO\" if x in [\"3. PRIMARIA COMP\", \"4. EM CICLO BASICO INCOMP\"] else\n",
    "    \"2. CB COMPLETO O EMS INCOMP\" if x in [\"5. EM CICLO BASICO COMP\", \"6. EMS INCOMP\"] else\n",
    "    \"3. SEC. COMPLETA O TERCIARIA INCOMP\" if x in [\"7. EMS COMP\", \"8. TERCIARIA INCOMP\"] else\n",
    "    \"4. TERCIARIO COMPLETO O POSGRADO\" if x == \"9. TERCIARIA COMP\" else None\n",
    "))\n",
    "\n",
    "# Crear la variable 'NIVEDU2021_2'\n",
    "df_ocupacion_filtrada['NIVEDU2021_2'] = df_ocupacion_filtrada['NIVEDU2021'].apply(lambda x: (\n",
    "    \"1. CB INCOMPLETO O MENOS\" if x in [\"0. S/INSTRUCCIÓN Y PRIM. INC\", \"1. PRIMARIA COMPLETA O CB INCOMPLETO\"] else\n",
    "    \"2. CB COMPLETO O EMS INCOMP\" if x == \"2. CB COMPLETO O EMS INCOMP\" else\n",
    "    \"3. SEC. COMPLETA O TERCIARIA INCOMP\" if x == \"3. SEC. COMPLETA O TERCIARIA INCOMP\" else\n",
    "    \"4. TERCIARIO COMPLETO O POSGRADO\" if x == \"4. TERCIARIO COMPLETO O POSGRADO\" else None\n",
    "))\n"
   ]
  },
  {
   "cell_type": "code",
   "execution_count": 16,
   "metadata": {},
   "outputs": [
    {
     "name": "stderr",
     "output_type": "stream",
     "text": [
      "C:\\Users\\Usuario\\AppData\\Local\\Temp\\ipykernel_16084\\473280406.py:2: SettingWithCopyWarning: \n",
      "A value is trying to be set on a copy of a slice from a DataFrame.\n",
      "Try using .loc[row_indexer,col_indexer] = value instead\n",
      "\n",
      "See the caveats in the documentation: https://pandas.pydata.org/pandas-docs/stable/user_guide/indexing.html#returning-a-view-versus-a-copy\n",
      "  df_ocupacion_filtrada['Horas_efectivas'] = df_ocupacion_filtrada['f284_1']+df_ocupacion_filtrada['f284_2']+df_ocupacion_filtrada['f284_3']+df_ocupacion_filtrada['f284_4']+df_ocupacion_filtrada['f284_5']+df_ocupacion_filtrada['f284_6']+df_ocupacion_filtrada['f284_7']\n"
     ]
    }
   ],
   "source": [
    "#creo variable horas efectivas\n",
    "df_ocupacion_filtrada['Horas_efectivas'] = df_ocupacion_filtrada['f284_1']+df_ocupacion_filtrada['f284_2']+df_ocupacion_filtrada['f284_3']+df_ocupacion_filtrada['f284_4']+df_ocupacion_filtrada['f284_5']+df_ocupacion_filtrada['f284_6']+df_ocupacion_filtrada['f284_7']\n",
    "\n",
    "tabla_estadisticas_h = (\n",
    "    df_ocupacion_filtrada.groupby(['Informante','f72_2', 'NIVEDU2021_2', 'e26'])\n",
    "    .agg(\n",
    "        media_horas=('Horas_efectivas', 'mean'),\n",
    "        media_ingreso=('PT2', 'mean')\n",
    "    )\n",
    "    .reset_index()\n",
    ")\n",
    "\n",
    "# Redondear las estadísticas a 1 decimal\n",
    "tabla_estadisticas_h[['media_horas', 'media_ingreso']] = tabla_estadisticas_h[['media_horas', 'media_ingreso']].round(1)\n",
    "\n",
    "# Ordenar por la columna 'Frecuencia' en orden descendente\n",
    "tabla_estadisticas_h = tabla_estadisticas_h.sort_values(by='f72_2', ascending=False).reset_index(drop=True)\n",
    "\n",
    "tabla_estadisticas_h['e26'] = tabla_estadisticas_h['e26'].apply(lambda x: '1- Hombre' if x == 1 else '2- Mujer')\n",
    " \n",
    "# Modificar los valores de la variable de rama\n",
    "mapeo_ciu = { 8610: 'Act. Hospitales', 141: 'Cría de ganado vacuno', 4711: 'Comercio minorista', 9700: 'Act. Hogares', 4100: 'Construcción' } \n",
    "# Aplicar el mapeo a la columna \n",
    "tabla_estadisticas_h['f72_2'] = tabla_estadisticas_h['f72_2'].map(mapeo_ciu) \n",
    "\n",
    "\n"
   ]
  }
 ],
 "metadata": {
  "kernelspec": {
   "display_name": ".venv",
   "language": "python",
   "name": "python3"
  },
  "language_info": {
   "codemirror_mode": {
    "name": "ipython",
    "version": 3
   },
   "file_extension": ".py",
   "mimetype": "text/x-python",
   "name": "python",
   "nbconvert_exporter": "python",
   "pygments_lexer": "ipython3",
   "version": "3.12.7"
  }
 },
 "nbformat": 4,
 "nbformat_minor": 2
}
