{
 "cells": [
  {
   "cell_type": "markdown",
   "metadata": {},
   "source": [
    "Encuesta de Gasto e Ingresos de los Hogares - Engih 2016 - 2017\n",
    "\n",
    "\n",
    "La Encuesta de Gasto e Ingresos de los Hogares (ENGIH) 2016-2017 en Uruguay es un estudio fundamental realizado por el Instituto Nacional de Estadística (INE), cuyo propósito principal es obtener información detallada sobre el gasto, ingreso y condiciones de vida de los hogares uruguayos. A continuación te detallo sus principales características y objetivos:\n",
    "\n",
    "Características de la ENGIH 2016-2017:\n",
    "Periodicidad: Es una encuesta de carácter periódico, que generalmente se realiza cada 10 años aproximadamente, con el fin de actualizar la canasta de consumo que se utiliza para el cálculo del Índice de Precios al Consumo (IPC).\n",
    "\n",
    "    Cobertura: La ENGIH abarca todo el territorio nacional, incluyendo tanto zonas urbanas como rurales. Se encuesta una muestra representativa de hogares, permitiendo la inferencia de resultados a nivel nacional, por regiones y por distintos niveles socioeconómicos.\n",
    "\n",
    "    Método de recolección: La encuesta se realiza mediante entrevistas directas en los hogares, con el uso de un diario de gastos en el cual las familias registran todos sus gastos cotidianos por un período determinado.\n",
    "\n",
    "Contenido: La encuesta recopila información sobre:\n",
    "\n",
    "    Ingresos del hogar: Ingresos laborales y no laborales, pensiones, transferencias, entre otros.\n",
    "    Gastos del hogar: En bienes y servicios de consumo, gastos en salud, educación, transporte, alimentos, vivienda, etc.\n",
    "    Condiciones de vida: Características del hogar, tenencia de bienes durables, acceso a servicios básicos, entre otros.\n",
    "\n",
    "Duración del relevamiento: Se realizó a lo largo de un año, desde diciembre de 2016 hasta diciembre de 2017, con el fin de captar variaciones estacionales en los patrones de gasto e ingreso.\n",
    "\n"
   ]
  },
  {
   "cell_type": "markdown",
   "metadata": {},
   "source": [
    "Objetivos de la ENGIH 2016-2017:\n",
    "\n",
    "1.\tActualización de la canasta de consumo: Uno de los principales objetivos es actualizar la canasta de bienes y servicios que se utiliza para calcular el Índice de Precios al Consumo (IPC), el cual mide la evolución de los precios de bienes y servicios consumidos por los hogares uruguayos.\n",
    "\n",
    "2.\tMedición de la distribución del ingreso: La ENGIH permite estimar la distribución del ingreso en los hogares, lo que contribuye al análisis de la pobreza, la desigualdad y la equidad en Uruguay.\n",
    "\n",
    "3.\tConocer patrones de consumo: Ayuda a entender los patrones de gasto de los hogares uruguayos, identificando en qué productos y servicios destinan sus recursos, lo que es esencial para la formulación de políticas públicas y decisiones de mercado.\n",
    "\n",
    "4.\tAnálisis de condiciones de vida: La encuesta permite estudiar las condiciones de vida de los hogares, como la calidad de la vivienda, el acceso a servicios básicos, la tenencia de bienes, etc., información clave para el diseño de políticas sociales y económicas.\n",
    "\n",
    "5.\tEvaluación de políticas públicas: Provee una base de datos robusta para evaluar el impacto de diversas políticas públicas en la economía de los hogares, especialmente en relación con la pobreza, el empleo, y las transferencias de ingresos.\n",
    "\n",
    "6.\tEstimación de la demanda de bienes y servicios: Aporta insumos cruciales para la planificación y el diseño de políticas económicas y sociales, proporcionando datos sobre la estructura de la demanda interna de bienes y servicios.\n",
    "\n",
    "La ENGIH 2016-2017 es una herramienta vital para entender las dinámicas económicas y sociales de los hogares en Uruguay, y sus resultados son utilizados para la toma de decisiones en múltiples áreas, desde el cálculo de indicadores macroeconómicos hasta la formulación de políticas sociales."
   ]
  },
  {
   "cell_type": "markdown",
   "metadata": {},
   "source": [
    "En éste trabajo vamos a analizar\n",
    "\n",
    "1.\tCalorías totales\n",
    "2.\tDistribución porcentual de macronutrientes\n",
    "4.\tUltra procesados\n",
    "\n",
    "Todo con los filtros de\n",
    "1.\tRegión, \n",
    "2.\tquintiles y \n",
    "3.\thogares con menores de 5 años y sin niños menores de 5 años\n"
   ]
  },
  {
   "cell_type": "markdown",
   "metadata": {},
   "source": [
    "Lo primero que hacemos es quedarnos con la información de la Tabla de Gastos Engih 2016 que queremos. Nos quedamos con el consumo con destino al Hogar."
   ]
  },
  {
   "cell_type": "code",
   "execution_count": 1,
   "metadata": {},
   "outputs": [],
   "source": [
    "import pandas as pd\n",
    "import numpy as np\n",
    "import openpyxl\n",
    "\n",
    "# Cargar archivo de gastos \n",
    "ruta_gastos = '../data/ENGIH 2016 Base de Datos Gastos.xlsx' \n",
    "df_gastos = pd.read_excel(ruta_gastos)\n",
    "\n",
    "# Crear una nueva columna `gasto_hogar` basada en las condiciones (DESTINOCODIGO 1 o 5)\n",
    "df_gastos['gasto_hogar'] = np.where((df_gastos['DESTINOCODIGO'] == 1) | (df_gastos['DESTINOCODIGO'] == 5), 1, 0)\n",
    "\n",
    "# Filtrar por gasto_hogar igual a 1\n",
    "df_gastos_filtrado = df_gastos[df_gastos['gasto_hogar'] == 1]\n",
    "\n"
   ]
  },
  {
   "cell_type": "markdown",
   "metadata": {},
   "source": [
    "A partir de acá macheamos las tablas asociadas a la Tabla de Gastos Engih 2016"
   ]
  },
  {
   "cell_type": "code",
   "execution_count": 2,
   "metadata": {},
   "outputs": [],
   "source": [
    "# Cargar la tabla de composición química\n",
    "ruta_composicion = '../data/TC_MACH.xlsx' \n",
    "df_composicion = pd.read_excel(ruta_composicion)\n",
    "\n",
    "# Hacer el match por 'ARTICULOCODIGO'\n",
    "df_merged = pd.merge(df_gastos_filtrado, df_composicion, on='ARTICULOCODIGO', how='left')\n",
    "\n",
    "# Hacer el match con otras tablas\n",
    "ruta_ninos_hogar = '../data/Niños hogar.xlsx' \n",
    "df_ninos_hogar = pd.read_excel(ruta_ninos_hogar)\n",
    "\n",
    "df_merged = pd.merge(df_merged, df_ninos_hogar, on='NUMERO', how='left')\n",
    "\n",
    "# Cargar otras tablas y hacer merge con CCIF_2016\n",
    "ruta_grupos = '../data/Grupos 2006 y ultra msp.xlsx' \n",
    "df_grupos = pd.read_excel(ruta_grupos)\n",
    "\n",
    "# Eliminar la columna 'CCIF_2016_y'\n",
    "df_merged = df_merged.drop(columns=['CCIF_2016_y'])\n",
    "\n",
    "# Renombrar 'CCIF_2016_x' a 'CCIF_2016'\n",
    "df_merged = df_merged.rename(columns={'CCIF_2016_x': 'CCIF_2016'})\n",
    "\n",
    "df_merged = pd.merge(df_merged, df_grupos, on='CCIF_2016', how='left')\n",
    "\n",
    "# Cargar variables ingresos y hacer merge con NUMERO\n",
    "ruta_ingresos = '../data/variables ingresos.xlsx' \n",
    "df_ingresos = pd.read_excel(ruta_ingresos)\n",
    "\n",
    "df_merged = pd.merge(df_merged, df_ingresos, on='NUMERO', how='left')\n",
    "\n"
   ]
  },
  {
   "cell_type": "markdown",
   "metadata": {},
   "source": [
    "Convertimos las cantidades a cantidades consumidas ejecutando lo que se llama Factor de Corrección"
   ]
  },
  {
   "cell_type": "code",
   "execution_count": 3,
   "metadata": {},
   "outputs": [],
   "source": [
    "# Recalcular CANTIDADCONVERTIDA y calorías finales\n",
    "df_merged['CANTIDADCONVERTIDA'] = df_merged['CANTIDADCONVERTIDA'] / df_merged['FC']\n",
    "df_merged['Calorias_final'] = df_merged['CANTIDADCONVERTIDA'] * df_merged['Calorias_2016'] / 100\n",
    "\n",
    "# Calcular gr_mes basado en la cantidad convertida\n",
    "df_merged['gr_mes'] = df_merged['CANTIDADCONVERTIDA'] * 4.3"
   ]
  },
  {
   "cell_type": "code",
   "execution_count": 4,
   "metadata": {},
   "outputs": [],
   "source": [
    "# Crear la columna de Niños_hogar basado en la suma de Niños_hogar_sum\n",
    "df_merged['Niños_hogar'] = np.where(df_merged['Niños_hogar_sum'] >= 1, 1, 0)\n",
    "\n",
    "# Asignar etiquetas a la nueva columna\n",
    "df_merged['Niños_hogar'] = df_merged['Niños_hogar'].map({0: \"Hogar sin niños\", 1: \"Hogar con niños\"})\n"
   ]
  },
  {
   "cell_type": "code",
   "execution_count": 5,
   "metadata": {},
   "outputs": [],
   "source": [
    "# Cálculo de gramos por día\n",
    "df_merged['gr_dia'] = df_merged['CANTIDADCONVERTIDA'] * 52.179 / 366\n",
    "\n",
    "# Agregar por 'NUMERO' para calcular gramos por hogar\n",
    "df_gr_hogar = df_merged.groupby('NUMERO', as_index=False)['gr_dia'].sum()\n",
    "df_gr_hogar.rename(columns={'gr_dia': 'gr_hogar'}, inplace=True)\n",
    "\n",
    "# Calcular gramos per cápita\n",
    "df_gr_hogar['gr_percapita'] = df_gr_hogar['gr_hogar'] / df_merged['nper_hogar']\n",
    "\n",
    "# Calcular calorías por artículo por día\n",
    "df_merged['Cal_articulo_dia'] = df_merged['gr_dia'] * df_merged['Calorias_2016'] / 100\n",
    "\n",
    "# Agregar por 'NUMERO' para calorías por hogar\n",
    "df_cal_hogar = df_merged.groupby('NUMERO', as_index=False)['Cal_articulo_dia'].sum()\n",
    "df_cal_hogar.rename(columns={'Cal_articulo_dia': 'Calorias_hogar'}, inplace=True)\n",
    "\n",
    "# Calorías per cápita\n",
    "df_cal_hogar['Cal_percapita'] = df_cal_hogar['Calorias_hogar'] / df_merged['nper_hogar']\n",
    "\n",
    "# Primero, asegurarte de que ambos DataFrames tengan una columna 'NUMERO' para hacer el merge\n",
    "df_merged = df_merged.merge(df_gr_hogar[['NUMERO', 'gr_percapita']], on='NUMERO', how='left')\n",
    "df_merged = df_merged.merge(df_cal_hogar[['NUMERO', 'Cal_percapita']], on='NUMERO', how='left')\n",
    "\n",
    "# Merge de gramos por hogar\n",
    "df_merged = df_merged.merge(df_gr_hogar[['NUMERO', 'gr_hogar']], on='NUMERO', how='left')\n",
    "\n",
    "# Merge de calorías por hogar\n",
    "df_merged = df_merged.merge(df_cal_hogar[['NUMERO', 'Calorias_hogar']], on='NUMERO', how='left')\n",
    "\n"
   ]
  },
  {
   "cell_type": "code",
   "execution_count": 6,
   "metadata": {},
   "outputs": [
    {
     "name": "stderr",
     "output_type": "stream",
     "text": [
      "C:\\Users\\ctoledo\\AppData\\Local\\Temp\\ipykernel_24800\\751093524.py:3: FutureWarning: A value is trying to be set on a copy of a DataFrame or Series through chained assignment using an inplace method.\n",
      "The behavior will change in pandas 3.0. This inplace method will never work because the intermediate object on which we are setting values always behaves as a copy.\n",
      "\n",
      "For example, when doing 'df[col].method(value, inplace=True)', try using 'df.method({col: value}, inplace=True)' or df[col] = df[col].method(value) instead, to perform the operation inplace on the original object.\n",
      "\n",
      "\n",
      "  df_merged['gr_proteinas'].fillna(0, inplace=True)\n",
      "C:\\Users\\ctoledo\\AppData\\Local\\Temp\\ipykernel_24800\\751093524.py:12: FutureWarning: A value is trying to be set on a copy of a DataFrame or Series through chained assignment using an inplace method.\n",
      "The behavior will change in pandas 3.0. This inplace method will never work because the intermediate object on which we are setting values always behaves as a copy.\n",
      "\n",
      "For example, when doing 'df[col].method(value, inplace=True)', try using 'df.method({col: value}, inplace=True)' or df[col] = df[col].method(value) instead, to perform the operation inplace on the original object.\n",
      "\n",
      "\n",
      "  df_merged['gr_grasas'].fillna(0, inplace=True)\n",
      "C:\\Users\\ctoledo\\AppData\\Local\\Temp\\ipykernel_24800\\751093524.py:21: FutureWarning: A value is trying to be set on a copy of a DataFrame or Series through chained assignment using an inplace method.\n",
      "The behavior will change in pandas 3.0. This inplace method will never work because the intermediate object on which we are setting values always behaves as a copy.\n",
      "\n",
      "For example, when doing 'df[col].method(value, inplace=True)', try using 'df.method({col: value}, inplace=True)' or df[col] = df[col].method(value) instead, to perform the operation inplace on the original object.\n",
      "\n",
      "\n",
      "  df_merged['gr_hidratos'].fillna(0, inplace=True)\n"
     ]
    }
   ],
   "source": [
    "# Cálculo de proteínas en gramos y su energía en calorías\n",
    "df_merged['gr_proteinas'] = df_merged['gr_dia'] * df_merged['Proteinas_2016'] / 100\n",
    "df_merged['gr_proteinas'].fillna(0, inplace=True)\n",
    "\n",
    "# Agregar proteínas por hogar\n",
    "df_prot_hogar = df_merged.groupby('NUMERO', as_index=False)['gr_proteinas'].sum()\n",
    "df_prot_hogar.rename(columns={'gr_proteinas': 'prot_hogar'}, inplace=True)\n",
    "df_prot_hogar['cal_proteinas'] = df_prot_hogar['prot_hogar'] * 4\n",
    "\n",
    "# Cálculo de grasas en gramos y su energía en calorías\n",
    "df_merged['gr_grasas'] = df_merged['gr_dia'] * df_merged['Grasas_2016'] / 100\n",
    "df_merged['gr_grasas'].fillna(0, inplace=True)\n",
    "\n",
    "# Agregar grasas por hogar\n",
    "df_grasas_hogar = df_merged.groupby('NUMERO', as_index=False)['gr_grasas'].sum()\n",
    "df_grasas_hogar.rename(columns={'gr_grasas': 'grasas_hogar'}, inplace=True)\n",
    "df_grasas_hogar['cal_grasas'] = df_grasas_hogar['grasas_hogar'] * 9\n",
    "\n",
    "# Cálculo de hidratos en gramos y su energía en calorías\n",
    "df_merged['gr_hidratos'] = df_merged['gr_dia'] * df_merged['Hidratos_2016'] / 100\n",
    "df_merged['gr_hidratos'].fillna(0, inplace=True)\n",
    "\n",
    "# Agregar hidratos por hogar\n",
    "df_hidratos_hogar = df_merged.groupby('NUMERO', as_index=False)['gr_hidratos'].sum()\n",
    "df_hidratos_hogar.rename(columns={'gr_hidratos': 'hidratos_hogar'}, inplace=True)\n",
    "df_hidratos_hogar['cal_hidratos'] = df_hidratos_hogar['hidratos_hogar'] * 4\n",
    "\n",
    "# Sumar las calorías de los macronutrientes\n",
    "df_calorias_macro = pd.merge(df_prot_hogar, df_grasas_hogar, on='NUMERO')\n",
    "df_calorias_macro = pd.merge(df_calorias_macro, df_hidratos_hogar, on='NUMERO')\n",
    "df_calorias_macro['calorias_macro'] = df_calorias_macro['cal_proteinas'] + df_calorias_macro['cal_grasas'] + df_calorias_macro['cal_hidratos']\n",
    "\n",
    "#Adecuación de los macronutrientes\n",
    "df_calorias_macro['adec_proteinas'] = df_calorias_macro['cal_proteinas'] * 100 / df_calorias_macro['calorias_macro']\n",
    "df_calorias_macro['adec_grasas'] = df_calorias_macro['cal_grasas'] * 100 / df_calorias_macro['calorias_macro']\n",
    "df_calorias_macro['adec_hidratos'] = df_calorias_macro['cal_hidratos'] * 100 / df_calorias_macro['calorias_macro']\n",
    "\n",
    "df_merged = df_merged.merge(df_calorias_macro[['NUMERO', 'cal_proteinas', 'cal_grasas', 'cal_hidratos',\n",
    "                                               'adec_proteinas', 'adec_grasas', 'adec_hidratos']], on='NUMERO', how='left')\n"
   ]
  },
  {
   "cell_type": "code",
   "execution_count": 7,
   "metadata": {},
   "outputs": [],
   "source": [
    "# Ultraprocesados \n",
    "df_merged['gr_ULT'] = np.where(df_merged['Ultra_mps'] == 1, df_merged['gr_dia'], 0)\n",
    "df_merged['cal_ULT'] = np.where(df_merged['Ultra_mps'] == 1, df_merged['Cal_articulo_dia'], 0)\n",
    "\n",
    "# Agregar gramos y calorías de ultraprocesados por hogar\n",
    "df_aggregated_ultra = df_merged.groupby('NUMERO', as_index=False).agg({\n",
    "    'gr_ULT': 'sum',\n",
    "    'cal_ULT': 'sum'\n",
    "})\n",
    "\n",
    "# Calcular per cápita\n",
    "df_aggregated_ultra['gr_ultra_percapita'] = df_aggregated_ultra['gr_ULT'] / df_merged['nper_hogar']\n",
    "df_aggregated_ultra['cal_ultra_percapita'] = df_aggregated_ultra['cal_ULT'] / df_merged['nper_hogar']\n",
    "\n",
    "# Eliminar variables temporales\n",
    "df_merged.drop(columns=['gr_ULT', 'cal_ULT'], inplace=True)\n",
    "\n",
    "# Calcular proporción de calorías ultraprocesadas\n",
    "df_aggregated_ultra['prop_ultra_percapita'] = df_aggregated_ultra['cal_ultra_percapita'] * 100 / df_merged['Cal_percapita']\n"
   ]
  },
  {
   "cell_type": "code",
   "execution_count": 8,
   "metadata": {},
   "outputs": [
    {
     "name": "stdout",
     "output_type": "stream",
     "text": [
      "Index(['DOMANIO', 'NUMERO', 'DOMMES', 'REGION', 'DOMSEMANA', 'DOMDEPARTAMENTO',\n",
      "       'CCIF_2016', 'ARTICULOCODIGO', 'DONDECODIGO', 'COMOCODIGO',\n",
      "       'DESTINOCODIGO', 'GASTOTIPO', 'DIVISION', 'VALORCONT', 'VALORCONTM',\n",
      "       'CANTIDADCONVERTIDA', 'VL_IMPUTADO', 'VALORCONT_IMPUTADO', 'CALORIAS',\n",
      "       'peso', 'gasto_hogar', 'Descripción_CCIF_2016', 'FC', 'Calorias_2016',\n",
      "       'Proteinas_2016', 'Grasas_2016', 'Hidratos_2016', 'Alimentos',\n",
      "       'GABA_2016', 'recomendados', 'Niños_hogar_sum', 'nper_hogar',\n",
      "       'grupos_2006', 'Ultra_mps', 'HT11', 'quintiles', 'deciles', 'percentil',\n",
      "       'pobre_5', 'pobre_20', 'rico_20', 'rico_5', 'Calorias_final', 'gr_mes',\n",
      "       'Niños_hogar', 'gr_dia', 'Cal_articulo_dia', 'gr_percapita',\n",
      "       'Cal_percapita', 'gr_hogar', 'Calorias_hogar', 'gr_proteinas',\n",
      "       'gr_grasas', 'gr_hidratos', 'cal_proteinas', 'cal_grasas',\n",
      "       'cal_hidratos', 'adec_proteinas', 'adec_grasas', 'adec_hidratos'],\n",
      "      dtype='object')\n"
     ]
    }
   ],
   "source": [
    "print(df_merged.columns)"
   ]
  },
  {
   "cell_type": "code",
   "execution_count": 9,
   "metadata": {},
   "outputs": [],
   "source": [
    "# # Definir las columnas que deseas incluir en el resumen\n",
    "# columnas_resumen = [\n",
    "#     'Cal_percapita', 'gr_percapita'  # Agregue las que son válidas\n",
    "# ]\n",
    "\n",
    "# # Filtrar las columnas que realmente existen en df_merged\n",
    "# columnas_validas = [col for col in columnas_resumen if col in df_merged.columns]\n",
    "\n",
    "# # Realizar el resumen\n",
    "# summary = df_merged.groupby('REGION').agg({\n",
    "#     col: ['mean', 'median'] for col in columnas_validas\n",
    "# })\n",
    "\n",
    "# print(summary)\n",
    "\n",
    "\n",
    "\n",
    "# # # Resumen de calorías per cápita y otras variables\n",
    "# # summary = df_merged.groupby('REGION').agg({\n",
    "# #     'Cal_percapita': ['mean', 'median'],\n",
    "# #     'adec_proteinas': ['mean', 'median'],\n",
    "# #     'adec_hidratos': ['mean', 'median'],\n",
    "# #     'adec_grasas': ['mean', 'median'],\n",
    "# #     'adec_AGS': ['mean', 'median'],\n",
    "# #     'sal_gr': ['mean', 'median'],\n",
    "# #     'sodio_mg': ['mean', 'median'],\n",
    "# #     'fibra_gr': ['mean', 'median'],\n",
    "# #     'hierro_percapita': ['mean', 'median'],\n",
    "# #     'AF_percapita': ['mean', 'median'],\n",
    "# #     'prop_azucar_libre': ['mean', 'median'],\n",
    "# #     'K_percapita': ['mean', 'median'],\n",
    "# #     'gr_vegyfruta_percapita': ['mean', 'median'],\n",
    "# #     'gr_Pescado_percapita': ['mean', 'median']\n",
    "# # })\n",
    "# # summary\n"
   ]
  },
  {
   "cell_type": "code",
   "execution_count": 10,
   "metadata": {},
   "outputs": [
    {
     "name": "stdout",
     "output_type": "stream",
     "text": [
      "Archivo final guardado.\n"
     ]
    }
   ],
   "source": [
    "# Guardar el archivo final\n",
    "df_merged.to_excel('../data/Base_Gastos_Con_Nutrientes_Final.xlsx', index=False)\n",
    "\n",
    "print(\"Archivo final guardado.\")\n"
   ]
  },
  {
   "cell_type": "code",
   "execution_count": 11,
   "metadata": {},
   "outputs": [
    {
     "name": "stdout",
     "output_type": "stream",
     "text": [
      "Archivo guardado con casos únicos por 'NUMERO'.\n"
     ]
    }
   ],
   "source": [
    "\n",
    "# Identificar duplicados basados en la columna 'NUMERO' y quedarse con solo uno\n",
    "df_merged_unique = df_merged.drop_duplicates(subset='NUMERO', keep='first')\n",
    "\n"
   ]
  },
  {
   "cell_type": "code",
   "execution_count": 13,
   "metadata": {},
   "outputs": [
    {
     "name": "stdout",
     "output_type": "stream",
     "text": [
      "Archivo guardado con casos únicos por 'NUMERO'.\n"
     ]
    }
   ],
   "source": [
    "Columnas_remover = ['DOMANIO',  'DOMSEMANA', 'CCIF_2016', 'ARTICULOCODIGO', 'DONDECODIGO', 'COMOCODIGO',\n",
    "'DESTINOCODIGO', 'GASTOTIPO', 'DIVISION', 'VALORCONT', 'VALORCONTM',\n",
    "'CANTIDADCONVERTIDA', 'VL_IMPUTADO', 'VALORCONT_IMPUTADO', 'CALORIAS',\n",
    "'gasto_hogar', 'Descripción_CCIF_2016', 'FC', 'Calorias_2016',\n",
    "'Proteinas_2016', 'Grasas_2016', 'Hidratos_2016', 'Alimentos',\n",
    "'GABA_2016', 'recomendados', 'grupos_2006', 'HT11', 'Calorias_final', 'gr_mes',\n",
    "'Cal_articulo_dia']\n",
    "\n",
    "df_merged_unique = df_merged_unique.drop(columns=Columnas_remover)\n",
    "   \n",
    "# Guardar el DataFrame resultante en un nuevo archivo Excel\n",
    "df_merged_unique.to_excel('../data/Hogar_Nutrientes_Final.xlsx', index=False)\n",
    "\n",
    "print(\"Archivo guardado con casos únicos por 'NUMERO'.\")\n"
   ]
  },
  {
   "cell_type": "code",
   "execution_count": 14,
   "metadata": {},
   "outputs": [
    {
     "name": "stdout",
     "output_type": "stream",
     "text": [
      "Index(['NUMERO', 'DOMMES', 'REGION', 'DOMDEPARTAMENTO', 'peso',\n",
      "       'Niños_hogar_sum', 'nper_hogar', 'Ultra_mps', 'quintiles', 'deciles',\n",
      "       'percentil', 'pobre_5', 'pobre_20', 'rico_20', 'rico_5', 'Niños_hogar',\n",
      "       'gr_dia', 'gr_percapita', 'Cal_percapita', 'gr_hogar', 'Calorias_hogar',\n",
      "       'gr_proteinas', 'gr_grasas', 'gr_hidratos', 'cal_proteinas',\n",
      "       'cal_grasas', 'cal_hidratos', 'adec_proteinas', 'adec_grasas',\n",
      "       'adec_hidratos'],\n",
      "      dtype='object')\n"
     ]
    }
   ],
   "source": [
    "print(df_merged_unique.columns)"
   ]
  },
  {
   "cell_type": "code",
   "execution_count": null,
   "metadata": {},
   "outputs": [],
   "source": [
    "#pip freeze > requirements.txt "
   ]
  }
 ],
 "metadata": {
  "kernelspec": {
   "display_name": "Python 3",
   "language": "python",
   "name": "python3"
  },
  "language_info": {
   "codemirror_mode": {
    "name": "ipython",
    "version": 3
   },
   "file_extension": ".py",
   "mimetype": "text/x-python",
   "name": "python",
   "nbconvert_exporter": "python",
   "pygments_lexer": "ipython3",
   "version": "3.12.6"
  }
 },
 "nbformat": 4,
 "nbformat_minor": 2
}
