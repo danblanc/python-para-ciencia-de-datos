{
 "cells": [
  {
   "cell_type": "markdown",
   "metadata": {},
   "source": [
    "#### **Generación de archivo farmacias_departamento.csv**\n",
    "El archivo de farmacias por departamento es utilizado para un gráfico de barras del dashboard"
   ]
  },
  {
   "cell_type": "code",
   "execution_count": 3,
   "metadata": {},
   "outputs": [
    {
     "name": "stderr",
     "output_type": "stream",
     "text": [
      "C:\\Users\\cchabay\\AppData\\Local\\Temp\\ipykernel_13924\\3439828179.py:5: DtypeWarning: Columns (8,9,10) have mixed types. Specify dtype option on import or set low_memory=False.\n",
      "  data = pd.read_csv('data/interseccion_zonas_buffer.csv')\n",
      "C:\\Users\\cchabay\\AppData\\Local\\Temp\\ipykernel_13924\\3439828179.py:20: SettingWithCopyWarning: \n",
      "A value is trying to be set on a copy of a slice from a DataFrame.\n",
      "Try using .loc[row_indexer,col_indexer] = value instead\n",
      "\n",
      "See the caveats in the documentation: https://pandas.pydata.org/pandas-docs/stable/user_guide/indexing.html#returning-a-view-versus-a-copy\n",
      "  df_farmacias_depto['CANT_FARMACIAS'] = df_farmacias_depto['NOMBRE'] + df_farmacias_depto['DIRECCION']\n",
      "C:\\Users\\cchabay\\AppData\\Local\\Temp\\ipykernel_13924\\3439828179.py:21: SettingWithCopyWarning: \n",
      "A value is trying to be set on a copy of a slice from a DataFrame\n",
      "\n",
      "See the caveats in the documentation: https://pandas.pydata.org/pandas-docs/stable/user_guide/indexing.html#returning-a-view-versus-a-copy\n",
      "  df_farmacias_depto.drop(columns=['NOMBRE', 'DIRECCION'], inplace=True)\n"
     ]
    },
    {
     "name": "stdout",
     "output_type": "stream",
     "text": [
      "                CANT_FARMACIAS\n",
      "NOMBDEPTO                     \n",
      "ARTIGAS                     12\n",
      "CANELONES                   72\n",
      "CERRO LARGO                  9\n",
      "COLONIA                     36\n",
      "DURAZNO                     11\n",
      "FLORES                       9\n",
      "FLORIDA                     15\n",
      "LAVALLEJA                   13\n",
      "MALDONADO                   48\n",
      "MONTEVIDEO                 172\n",
      "PAYSANDU                    15\n",
      "RIO NEGRO                   16\n",
      "RIVERA                      12\n",
      "ROCHA                       19\n",
      "SALTO                       12\n",
      "SAN JOSE                    20\n",
      "SORIANO                     21\n",
      "TACUAREMBO                  23\n",
      "TREINTA Y TRES               9\n"
     ]
    }
   ],
   "source": [
    "import pandas as pd\n",
    "\n",
    "# Carga archivo csv de farmacias, cada farmacia puede tener varias filas dependiendo\n",
    "# de las zonas que quedan comprendidas en un radio de 1 km (buffer)\n",
    "data = pd.read_csv('data/interseccion_zonas_buffer.csv')\n",
    "df = data.copy()\n",
    "\n",
    "# Convierte CODCOMP a string con 0 a la izquierda si departamento <= 9 \n",
    "df['CODCOMP_STR'] = (df['CODCOMP'].astype(str)).str.zfill(10)\n",
    "\n",
    "# Convierte CODLOC a string con 0 a la izquierda si departamento <= 9 \n",
    "df['CODLOC_STR'] = (df['CODLOC'].astype(str)).str.zfill(5)\n",
    "\n",
    "# Elimina las columnas innecesarias\n",
    "df.drop(columns=['fid', 'NOMLOC', 'CODCOMP_A', 'CODCOMP', 'CODLOC'], inplace=True)\n",
    "\n",
    "# Se crea el dataframe df_farmacias_depto a partir de las columnas NOMBDEPTO, NOMBRE, DIRECCION\n",
    "df_farmacias_depto = df[['NOMBDEPTO', 'NOMBRE', 'DIRECCION']]\n",
    "# Crea la columna CANT_FARMACIAS con la concatenación de NOMBRE y DIRECCION de la farmacia\n",
    "df_farmacias_depto['CANT_FARMACIAS'] = df_farmacias_depto['NOMBRE'] + df_farmacias_depto['DIRECCION']\n",
    "df_farmacias_depto.drop(columns=['NOMBRE', 'DIRECCION'], inplace=True)\n",
    "# Elimina filas duplicadas\n",
    "df_farmacias_depto = df_farmacias_depto.drop_duplicates()\n",
    "# Cuenta farmacias por nombre de departamento\n",
    "df_farmacias_depto = df_farmacias_depto.groupby(by = ['NOMBDEPTO']).count()\n",
    "\n",
    "# Crea el archivo farmacias_departamento.csv\n",
    "df_farmacias_depto.to_csv('data/farmacias_departamento.csv')\n",
    "print(df_farmacias_depto)"
   ]
  },
  {
   "cell_type": "markdown",
   "metadata": {},
   "source": [
    "#### **Generación de los siguientes archivos:**\n",
    "- loc_pob_farm.csv - Población y cantidad de farmacias por localidad\n",
    "- loc_grandes_sin_farm.csv - Localidades de mas de 3.000 habitantes sin farmacias a menos de 1 km de distancia\n",
    "- loc_chicas_con_farm.csv - Localidades de menos de 3.000 habitantes con farmacias a menos de 1 km de distancia"
   ]
  },
  {
   "cell_type": "code",
   "execution_count": 4,
   "metadata": {},
   "outputs": [
    {
     "name": "stderr",
     "output_type": "stream",
     "text": [
      "C:\\Users\\cchabay\\AppData\\Local\\Temp\\ipykernel_13924\\2868486144.py:18: SettingWithCopyWarning: \n",
      "A value is trying to be set on a copy of a slice from a DataFrame.\n",
      "Try using .loc[row_indexer,col_indexer] = value instead\n",
      "\n",
      "See the caveats in the documentation: https://pandas.pydata.org/pandas-docs/stable/user_guide/indexing.html#returning-a-view-versus-a-copy\n",
      "  df_localidad_farmacias['CANT_FARMACIAS'] = df_localidad_farmacias['NOMBRE'] + df_localidad_farmacias['DIRECCION']\n",
      "C:\\Users\\cchabay\\AppData\\Local\\Temp\\ipykernel_13924\\2868486144.py:20: SettingWithCopyWarning: \n",
      "A value is trying to be set on a copy of a slice from a DataFrame\n",
      "\n",
      "See the caveats in the documentation: https://pandas.pydata.org/pandas-docs/stable/user_guide/indexing.html#returning-a-view-versus-a-copy\n",
      "  df_localidad_farmacias.drop(columns=['NOMBRE', 'DIRECCION'], inplace=True)\n"
     ]
    }
   ],
   "source": [
    "# Se crea el dataframe df_localidad_poblacion con poblacion x localidad\n",
    "\n",
    "df_localidad_poblacion = df[['NOMBDEPTO', 'CODCOMP_STR', 'CODLOC_STR', 'NOMBLOC', 'POBLACION']]\n",
    "df_localidad_poblacion = df_localidad_poblacion.drop_duplicates()\n",
    "\n",
    "# Elimina las columnas innecesarias\n",
    "df_localidad_poblacion.drop(columns=['CODCOMP_STR'], inplace=True)\n",
    "# Agrupa por localidad sumando población\n",
    "df_localidad_poblacion = df_localidad_poblacion.groupby(by = ['NOMBDEPTO', 'CODLOC_STR', 'NOMBLOC']).sum()\n",
    "# Ordena por localidad\n",
    "df_localidad_poblacion = df_localidad_poblacion.sort_values(by='CODLOC_STR')\n",
    "df_localidad_poblacion = df_localidad_poblacion.reset_index()\n",
    "\n",
    "# Se crea el dataframe df_localidad_farmacias\n",
    "\n",
    "df_localidad_farmacias = df[['CODLOC_STR', 'NOMBRE', 'DIRECCION']]\n",
    "# Crea la columna CANT_FARMACIAS con la concatenación de NOMBRE y DIRECCION de la farmacia\n",
    "df_localidad_farmacias['CANT_FARMACIAS'] = df_localidad_farmacias['NOMBRE'] + df_localidad_farmacias['DIRECCION']\n",
    "# Elimina columnas innecesarias\n",
    "df_localidad_farmacias.drop(columns=['NOMBRE', 'DIRECCION'], inplace=True)\n",
    "# Elimina filas duplicadas\n",
    "df_localidad_farmacias = df_localidad_farmacias.drop_duplicates()\n",
    "# Agrupa por localidad contando farmacias\n",
    "df_localidad_farmacias = df_localidad_farmacias.groupby(by = ['CODLOC_STR']).count()\n",
    "df_localidad_farmacias = df_localidad_farmacias.sort_values(by='CODLOC_STR')\n",
    "df_localidad_farmacias = df_localidad_farmacias.reset_index()\n",
    "df_localidad_farmacias.drop(columns=['CODLOC_STR'], inplace=True)\n",
    "\n",
    "# Crea el dataframe df_loc_pob_farm con las columnas de los\n",
    "# dataframes df_localidad_poblacion y df_localidad_farmacias\n",
    "df_loc_pob_farm = pd.concat([df_localidad_poblacion, df_localidad_farmacias], axis = 1)\n",
    "\n",
    "# Crea dataframe con POBLACION > 3000 y CANT_FARMACIAS == 0'\n",
    "df_loc_pob_farm.query('POBLACION > 3000 and CANT_FARMACIAS == 0').to_csv('data/loc_grandes_sin_farm.csv',\n",
    "                                                                        columns=['NOMBDEPTO','NOMBLOC','POBLACION','CANT_FARMACIAS'], index=False)\n",
    "# Crea dataframe con POBLACION < 3000 y CANT_FARMACIAS > 0\n",
    "df_loc_pob_farm.query('POBLACION < 3000 and CANT_FARMACIAS != 0').to_csv('data/loc_chicas_con_farm.csv',\n",
    "                                                                        columns=['NOMBDEPTO','NOMBLOC','POBLACION','CANT_FARMACIAS'], index=False)\n",
    "\n",
    "# Crea el archivo df_loc_pob_farm.csv\n",
    "df_loc_pob_farm.to_csv('data/loc_pob_farm.csv', columns=['NOMBDEPTO','NOMBLOC','POBLACION','CANT_FARMACIAS'], index=False)\n"
   ]
  }
 ],
 "metadata": {
  "kernelspec": {
   "display_name": "entorno-virtual",
   "language": "python",
   "name": "python3"
  },
  "language_info": {
   "codemirror_mode": {
    "name": "ipython",
    "version": 3
   },
   "file_extension": ".py",
   "mimetype": "text/x-python",
   "name": "python",
   "nbconvert_exporter": "python",
   "pygments_lexer": "ipython3",
   "version": "3.12.7"
  }
 },
 "nbformat": 4,
 "nbformat_minor": 2
}
