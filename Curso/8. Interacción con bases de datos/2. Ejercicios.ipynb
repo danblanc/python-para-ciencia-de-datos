{
 "cells": [
  {
   "cell_type": "markdown",
   "metadata": {},
   "source": [
    "### 1. Consultas SQL usando Python\n",
    "\n",
    "Genera un script de Python que se conecte con la base de datos de postgres en Azure. Obtiene el total de personas de la tabla `inscriptos` que necesitan PC y salvalo en una variable. Finalmente, imprímelo en pantalla.\n",
    "\n",
    "```sql\n",
    "select sum(necesita_pc) from inscriptos\n",
    "```"
   ]
  },
  {
   "cell_type": "code",
   "execution_count": null,
   "metadata": {},
   "outputs": [],
   "source": []
  },
  {
   "cell_type": "markdown",
   "metadata": {},
   "source": [
    "### 2. Obtención de datos\n",
    "\n",
    "Obtiene la tabla `inscriptos` de la base de datos de postgres en Azure y guárdala como un data frame. Haz un gráfico de barras por departamento y cantidad de inscriptos. Haz transformación de datos en caso de que no haya coherencia entre las categorías. "
   ]
  },
  {
   "cell_type": "markdown",
   "metadata": {},
   "source": []
  },
  {
   "cell_type": "markdown",
   "metadata": {},
   "source": [
    "### 3. Modificación y publicación de datos\n",
    "\n",
    "En caso de que te encuentres en la lista de `inscriptos`, eliminate de la misma y vuelve a publicarla en la base de datos, reemplazando a la existente. En caso de que no se encuentres en la lista, agrega tus datos y vuelve a publicarla reemplazando la existente. "
   ]
  },
  {
   "cell_type": "markdown",
   "metadata": {},
   "source": []
  }
 ],
 "metadata": {
  "language_info": {
   "name": "python"
  }
 },
 "nbformat": 4,
 "nbformat_minor": 2
}
