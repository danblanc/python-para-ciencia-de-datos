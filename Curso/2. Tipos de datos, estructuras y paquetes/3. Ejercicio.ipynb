{
 "cells": [
  {
   "cell_type": "markdown",
   "metadata": {},
   "source": [
    "### Ejercicio 1: Manipulación de listas\n",
    "\n",
    "Dada la siguiente lista de números:\n",
    "\n",
    "```python\n",
    "numeros = [5, 10, 15, 20, 25, 30]\n",
    "```\n",
    "\n",
    "1. Cambia el segundo elemento de la lista a `12`.\n",
    "2. Agrega el número `35` al final de la lista.\n",
    "3. Elimina el primer elemento de la lista.\n",
    "4. Imprime el número total de elementos en la lista.\n",
    "5. Utiliza un bucle `for` para imprimir cada número multiplicado por 2."
   ]
  },
  {
   "cell_type": "code",
   "execution_count": null,
   "metadata": {},
   "outputs": [],
   "source": []
  },
  {
   "cell_type": "markdown",
   "metadata": {},
   "source": [
    "### Ejercicio 2: Diccionarios y condicionales\n",
    "\n",
    "Dado el siguiente diccionario que representa a una persona:\n",
    "\n",
    "```python\n",
    "persona = {'nombre': 'Ana', 'edad': 28, 'ciudad': 'Buenos Aires'}\n",
    "```\n",
    "\n",
    "1. Imprime el valor de la clave `nombre`.\n",
    "2. Agrega una nueva clave llamada `profesión` con el valor `'Ingeniera'`.\n",
    "3. Modifica la edad a `29`.\n",
    "4. Escribe una estructura condicional (`if`) que imprima \"Mayor de edad\" si la persona tiene 18 años o más, y \"Menor de edad\" en caso contrario."
   ]
  },
  {
   "cell_type": "code",
   "execution_count": null,
   "metadata": {},
   "outputs": [],
   "source": []
  },
  {
   "cell_type": "markdown",
   "metadata": {},
   "source": [
    "### Ejercicio 3: Conjuntos y bucles `while`\n",
    "\n",
    "Dado el conjunto:\n",
    "\n",
    "```python\n",
    "numeros_set = {1, 2, 3, 4, 5}\n",
    "```\n",
    "\n",
    "1. Agrega los números `6` y `7` al conjunto.\n",
    "2. Escribe un bucle `while` que elimine un número del conjunto en cada iteración hasta que el conjunto esté vacío. Imprime el conjunto después de cada eliminación."
   ]
  },
  {
   "cell_type": "code",
   "execution_count": null,
   "metadata": {},
   "outputs": [],
   "source": []
  },
  {
   "cell_type": "markdown",
   "metadata": {},
   "source": [
    "### Ejercicio 4: Tuplas y ciclos `for`\n",
    "\n",
    "Dada la siguiente tupla:\n",
    "\n",
    "```python\n",
    "colores = ('rojo', 'verde', 'azul', 'amarillo')\n",
    "```\n",
    "\n",
    "1. Escribe un ciclo `for` que imprima cada color en la tupla.\n",
    "2. Crea una nueva tupla que contenga los mismos colores pero en orden inverso. Imprime la nueva tupla."
   ]
  },
  {
   "cell_type": "code",
   "execution_count": null,
   "metadata": {},
   "outputs": [],
   "source": []
  },
  {
   "cell_type": "markdown",
   "metadata": {},
   "source": [
    "### Ejercicio 5: Números y control de flujo\n",
    "\n",
    "Escribe un programa que realice lo siguiente:\n",
    "\n",
    "1. Solicite al usuario ingresar un número entero.\n",
    "2. Si el número es positivo, imprima \"El número es positivo\".\n",
    "3. Si el número es negativo, imprima \"El número es negativo\".\n",
    "4. Si el número es cero, imprima \"El número es cero\".\n",
    "5. Utiliza un bucle `for` para imprimir todos los números del 1 hasta el número ingresado (solo si es positivo)."
   ]
  },
  {
   "cell_type": "code",
   "execution_count": null,
   "metadata": {},
   "outputs": [],
   "source": []
  },
  {
   "cell_type": "markdown",
   "metadata": {},
   "source": [
    "### Ejercicio 6 (Investigación): Control de flujos con inputs\n",
    "\n",
    "Investiga el concepto de **inputs** en Python. Escribe un programa que:\n",
    "\n",
    "1. Solicite al usuario que ingrese dos números.\n",
    "2. Intente dividir el primer número entre el segundo.\n",
    "3. Si el usuario intenta dividir entre cero, captura la excepción y muestra un mensaje adecuado como \"Error: no se puede dividir entre cero\"."
   ]
  },
  {
   "cell_type": "code",
   "execution_count": null,
   "metadata": {},
   "outputs": [],
   "source": []
  }
 ],
 "metadata": {
  "language_info": {
   "name": "python"
  }
 },
 "nbformat": 4,
 "nbformat_minor": 2
}
