{
 "cells": [
  {
   "cell_type": "markdown",
   "metadata": {},
   "source": [
    "# Paquetes y Librerías en Python\n",
    "\n",
    "Python tiene una extensa colección de **paquetes y librerías** que amplían su funcionalidad básica. Estas librerías permiten realizar tareas complejas con solo importar módulos que encapsulan funciones, clases, y métodos específicos. En este módulo, exploraremos qué son los paquetes y librerías, cómo instalarlos, y cómo utilizarlos para acelerar el desarrollo de proyectos de ciencia de datos."
   ]
  },
  {
   "cell_type": "markdown",
   "metadata": {},
   "source": [
    "## 1. ¿Qué es una librería en Python?\n",
    "\n",
    "Una **librería** en Python es un conjunto de módulos, que a su vez son archivos que contienen definiciones y código para realizar tareas específicas. Las librerías pueden ser parte de la biblioteca estándar de Python o creadas por terceros y distribuidas a través de **PyPI** (Python Package Index).\n",
    "\n",
    "- **Ejemplo de librería estándar**: `math`, que proporciona funciones matemáticas.\n",
    "- **Ejemplo de librería externa**: `numpy`, una librería utilizada para trabajar con arrays y álgebra lineal.\n",
    "\n",
    "**Ejemplo de uso de una librería estándar:**"
   ]
  },
  {
   "cell_type": "code",
   "execution_count": 1,
   "metadata": {},
   "outputs": [
    {
     "name": "stdout",
     "output_type": "stream",
     "text": [
      "4.0\n"
     ]
    }
   ],
   "source": [
    "import math\n",
    "\n",
    "# Usar la función sqrt para calcular la raíz cuadrada de un número\n",
    "raiz = math.sqrt(16)\n",
    "print(raiz)"
   ]
  },
  {
   "cell_type": "markdown",
   "metadata": {},
   "source": [
    "## 2. ¿Qué es un paquete en Python?\n",
    "\n",
    "Un **paquete** en Python es una colección de módulos agrupados en un directorio. La diferencia entre un paquete y una librería es que el paquete puede contener múltiples módulos dentro de subcarpetas, organizando mejor el código.\n",
    "\n",
    "- **Ejemplo de paquete**: `scikit-learn`, que incluye múltiples módulos para algoritmos de machine learning.\n",
    "\n",
    "Los paquetes son ideales para organizar proyectos grandes y complejos."
   ]
  },
  {
   "cell_type": "markdown",
   "metadata": {},
   "source": [
    "## 3. ¿Por qué usar paquetes y librerías?\n",
    "\n",
    "Usar librerías y paquetes ofrece varios beneficios:\n",
    "\n",
    "- **Reutilización**: Puedes usar código ya desarrollado por otros para resolver problemas comunes, en lugar de escribir desde cero.\n",
    "- **Facilidad de uso**: Muchas librerías tienen funciones y métodos optimizados que son más eficientes y fáciles de usar que el código personalizado.\n",
    "- **Especialización**: Existen librerías específicas para ciertas disciplinas, como ciencia de datos, machine learning, visualización de datos, entre otras."
   ]
  },
  {
   "cell_type": "markdown",
   "metadata": {},
   "source": [
    "## 4. Cómo instalar paquetes en Python\n",
    "\n",
    "Los paquetes externos pueden instalarse utilizando **pip**, el gestor de paquetes de Python. Esto permite descargar e instalar cualquier paquete disponible en **PyPI**.\n",
    "\n",
    "**Comando básico para instalar un paquete:**\n",
    "\n",
    "```bash\n",
    "pip install nombre_paquete\n",
    "```\n",
    "\n",
    "**Ejemplo de instalación de la librería `numpy`:**\n",
    "\n",
    "```bash\n",
    "pip install numpy\n",
    "```\n",
    "\n",
    "Una vez instalado, puedes utilizar la librería en tu código como cualquier módulo estándar.\n",
    "\n",
    "**Ejemplo de uso de `numpy`:**"
   ]
  },
  {
   "cell_type": "code",
   "execution_count": 2,
   "metadata": {},
   "outputs": [
    {
     "name": "stdout",
     "output_type": "stream",
     "text": [
      "[1 2 3]\n"
     ]
    }
   ],
   "source": [
    "import numpy as np\n",
    "\n",
    "# Crear un array de 3 elementos\n",
    "arr = np.array([1, 2, 3])\n",
    "print(arr)"
   ]
  },
  {
   "cell_type": "markdown",
   "metadata": {},
   "source": [
    "## 5. Workshop: Instalación y uso de paquetes\n",
    "\n",
    "### Objetivo\n",
    "\n",
    "Instalar un paquete externo y usarlo en un entorno virtual para realizar una tarea sencilla.\n",
    "\n",
    "### Pasos\n",
    "\n",
    "1. Asegúrate de tener un **entorno virtual** activado (revisa el módulo anterior para crear uno).\n",
    "2. Usa el comando `pip` para instalar la librería **`requests`**, una librería popular para hacer solicitudes HTTP.\n",
    "\n",
    "```bash\n",
    "pip install requests\n",
    "```\n",
    "\n",
    "3. Crea un archivo Python o un bloque de código en tu Jupyter Notebook y utiliza la librería para hacer una solicitud a una API:\n",
    "\n",
    "```python\n",
    "import requests\n",
    "\n",
    "# Realizar una solicitud GET a una API pública\n",
    "respuesta = requests.get('https://api.github.com')\n",
    "\n",
    "# Imprimir el código de estado de la respuesta\n",
    "print(respuesta.status_code)\n",
    "```"
   ]
  },
  {
   "cell_type": "code",
   "execution_count": 3,
   "metadata": {},
   "outputs": [
    {
     "name": "stdout",
     "output_type": "stream",
     "text": [
      "200\n"
     ]
    }
   ],
   "source": [
    "import requests\n",
    "\n",
    "# Realizar una solicitud GET a una API pública\n",
    "respuesta = requests.get('https://api.github.com')\n",
    "\n",
    "# Imprimir el código de estado de la respuesta, si es 200 significa que la respuesta fue correcta\n",
    "print(respuesta.status_code)"
   ]
  }
 ],
 "metadata": {
  "kernelspec": {
   "display_name": "curso-ine",
   "language": "python",
   "name": "python3"
  },
  "language_info": {
   "codemirror_mode": {
    "name": "ipython",
    "version": 3
   },
   "file_extension": ".py",
   "mimetype": "text/x-python",
   "name": "python",
   "nbconvert_exporter": "python",
   "pygments_lexer": "ipython3",
   "version": "3.11.9"
  }
 },
 "nbformat": 4,
 "nbformat_minor": 2
}
