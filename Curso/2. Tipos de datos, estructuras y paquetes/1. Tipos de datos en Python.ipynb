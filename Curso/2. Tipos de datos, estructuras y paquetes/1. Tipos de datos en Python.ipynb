{
 "cells": [
  {
   "cell_type": "markdown",
   "metadata": {},
   "source": [
    "# Tipos de datos en Python\n",
    "\n",
    "Los bloques de Jupyter Notebook muestran en consola el último resultado que aparece. Si queremos ver múltiples outputs, debemos usar la función `print`."
   ]
  },
  {
   "cell_type": "code",
   "execution_count": 1,
   "metadata": {},
   "outputs": [
    {
     "name": "stdout",
     "output_type": "stream",
     "text": [
      "Hola!\n"
     ]
    }
   ],
   "source": [
    "print(\"Hola!\")"
   ]
  },
  {
   "cell_type": "code",
   "execution_count": 2,
   "metadata": {},
   "outputs": [],
   "source": [
    "# Variables\n",
    "enteros = 10 # int\n",
    "decimales = 3.14 # float\n",
    "caracteres = \"Hola chiques\" # str\n",
    "binario = True # bool "
   ]
  },
  {
   "cell_type": "code",
   "execution_count": null,
   "metadata": {},
   "outputs": [],
   "source": [
    "# Asignamientos múltiples\n",
    "a, b, c = 1, 2, 3\n",
    "print(a)\n",
    "print(b)\n",
    "print(c)"
   ]
  },
  {
   "cell_type": "markdown",
   "metadata": {},
   "source": [
    "### Algunas propiedades de los caracteres"
   ]
  },
  {
   "cell_type": "code",
   "execution_count": 12,
   "metadata": {},
   "outputs": [
    {
     "name": "stdout",
     "output_type": "stream",
     "text": [
      "HOLA\n",
      "hola\n"
     ]
    }
   ],
   "source": [
    "print(\"Hola\".upper())\n",
    "print(\"Hola\".lower())"
   ]
  },
  {
   "cell_type": "code",
   "execution_count": 11,
   "metadata": {},
   "outputs": [
    {
     "name": "stdout",
     "output_type": "stream",
     "text": [
      "['Hola', 'chiques']\n",
      "['Hola', 'chiques']\n",
      "Hola chiquis\n"
     ]
    }
   ],
   "source": [
    "print(\"Hola chiques\".split())\n",
    "print(\"Hola, chiques\".split(', '))\n",
    "print(\"Hola chiques\".replace('chiques', 'chiquis'))"
   ]
  },
  {
   "cell_type": "code",
   "execution_count": 13,
   "metadata": {},
   "outputs": [
    {
     "name": "stdout",
     "output_type": "stream",
     "text": [
      "Hola, chiques\n"
     ]
    }
   ],
   "source": [
    "print(', '.join([\"Hola\", \"chiques\"]))"
   ]
  },
  {
   "cell_type": "code",
   "execution_count": 14,
   "metadata": {},
   "outputs": [
    {
     "data": {
      "text/plain": [
       "13"
      ]
     },
     "execution_count": 14,
     "metadata": {},
     "output_type": "execute_result"
    }
   ],
   "source": [
    "len(\"Hola, chiques\")"
   ]
  },
  {
   "cell_type": "markdown",
   "metadata": {},
   "source": [
    "## Elementos de Python\n",
    "\n",
    "### Listas (list)\n",
    "\n",
    "Una lista es una colección ordenada y mutable de elementos. Los elementos de una lista pueden ser de cualquier tipo de dato, y es posible modificar, agregar o eliminar elementos.\n",
    "\n",
    "Características:\n",
    "\n",
    "- Ordenada: los elementos tienen un índice.\n",
    "- Mutable: se pueden cambiar los elementos después de la creación.\n",
    "- Permite duplicados."
   ]
  },
  {
   "cell_type": "code",
   "execution_count": 5,
   "metadata": {},
   "outputs": [
    {
     "name": "stdout",
     "output_type": "stream",
     "text": [
      "[1, 2, 'Hola', 3]\n",
      "2\n",
      "[100, 2, 'Hola', 3]\n",
      "[100, 2, 'Hola', 3, 4]\n",
      "[100, 2, 3, 4]\n",
      "[100, 2, 3]\n",
      "[2, 3, 100]\n",
      "[100, 3, 2]\n",
      "3\n"
     ]
    }
   ],
   "source": [
    "mi_lista = [1, 2, \"Hola\", 3]\n",
    "print(mi_lista)\n",
    "\n",
    "# Acceder a un elemento\n",
    "print(mi_lista[1])\n",
    "\n",
    "# Modificar un elemento\n",
    "mi_lista[0] = 100\n",
    "print(mi_lista)\n",
    "\n",
    "# Agregar un elemento\n",
    "mi_lista.append(4)\n",
    "print(mi_lista)\n",
    "\n",
    "# Remover primera aparición del 4\n",
    "mi_lista.remove(\"Hola\")\n",
    "print(mi_lista)\n",
    "\n",
    "# Remover último item\n",
    "mi_lista.pop()\n",
    "print(mi_lista)\n",
    "\n",
    "# Ordenar la lista de manera ascendente\n",
    "mi_lista.sort()\n",
    "print(mi_lista)\n",
    "\n",
    "# Ordenar la lista de manera descendente\n",
    "mi_lista.reverse()\n",
    "print(mi_lista)\n",
    "\n",
    "# Cantidad de objetos en la lista\n",
    "print(len(mi_lista))"
   ]
  },
  {
   "cell_type": "markdown",
   "metadata": {},
   "source": [
    "### Tuplas (tuple)\n",
    "\n",
    "Una tupla es similar a una lista, pero a diferencia de esta, es inmutable, lo que significa que no se pueden cambiar los elementos una vez que ha sido creada.\n",
    "\n",
    "Características:\n",
    "\n",
    "- Ordenada.\n",
    "- Inmutable: no se pueden modificar los elementos.\n",
    "- Permite duplicados."
   ]
  },
  {
   "cell_type": "code",
   "execution_count": 24,
   "metadata": {},
   "outputs": [
    {
     "name": "stdout",
     "output_type": "stream",
     "text": [
      "(1, 2, 3, 1)\n"
     ]
    },
    {
     "data": {
      "text/plain": [
       "2"
      ]
     },
     "execution_count": 24,
     "metadata": {},
     "output_type": "execute_result"
    }
   ],
   "source": [
    "mi_tupla = (1, 2, 3, 1)\n",
    "print(mi_tupla)\n",
    "\n",
    "# Permite fácilmente contar un determinado elemento\n",
    "mi_tupla.count(1)\n",
    "\n",
    "# Intentar modificar un elemento generará un error\n",
    "# mi_tupla.append(\"Hola\")\n",
    "# mi_tupla[0] = 100  # Error"
   ]
  },
  {
   "cell_type": "markdown",
   "metadata": {},
   "source": [
    "### Diccionarios (dict)\n",
    "\n",
    "Un diccionario es una colección no ordenada de pares clave-valor. Cada clave es única, y se utiliza para acceder a su valor correspondiente.\n",
    "\n",
    "Características:\n",
    "\n",
    "- No ordenado (antes de Python 3.7, ahora se mantiene el orden de inserción).\n",
    "- Mutable.\n",
    "- Las claves deben ser únicas y de un tipo inmutable (e.g., strings, números, tuplas)."
   ]
  },
  {
   "cell_type": "code",
   "execution_count": 20,
   "metadata": {},
   "outputs": [
    {
     "name": "stdout",
     "output_type": "stream",
     "text": [
      "{'nombre': 'Daniel', 'edad': 32}\n",
      "Daniel\n",
      "{'nombre': 'Daniel', 'edad': 33}\n",
      "{'nombre': 'Daniel', 'edad': 33, 'ciudad': 'Montevideo'}\n",
      "dict_keys(['nombre', 'edad', 'ciudad'])\n",
      "dict_values(['Daniel', 33, 'Montevideo'])\n",
      "nombre\n",
      "Daniel\n"
     ]
    }
   ],
   "source": [
    "mi_dict = {'nombre': 'Daniel', 'edad': 32}\n",
    "print(mi_dict)\n",
    "\n",
    "# Acceder a un valor por su clave\n",
    "print(mi_dict['nombre'])\n",
    "\n",
    "# Modificar un valor\n",
    "mi_dict['edad'] = 33\n",
    "print(mi_dict)\n",
    "\n",
    "# Agregar un nuevo par clave-valor\n",
    "mi_dict['ciudad'] = 'Montevideo'\n",
    "print(mi_dict)\n",
    "\n",
    "# Acceder a las claves\n",
    "print(mi_dict.keys())\n",
    "\n",
    "# Acceder a los valores\n",
    "print(mi_dict.values())\n",
    "\n",
    "# Acceder a las claves como lista\n",
    "claves = list(mi_dict.keys())\n",
    "print(claves[0])\n",
    "\n",
    "# Acceder a los valores como lista\n",
    "valores = list(mi_dict.values())\n",
    "print(valores[0])"
   ]
  },
  {
   "cell_type": "markdown",
   "metadata": {},
   "source": [
    "### Conjuntos (set)\n",
    "\n",
    "Un set es una colección no ordenada y sin elementos duplicados. Se utiliza para almacenar elementos únicos y es útil para realizar operaciones de conjuntos como uniones e intersecciones.\n",
    "\n",
    "Características:\n",
    "\n",
    "- No ordenado.\n",
    "- Mutable.\n",
    "- No permite duplicados."
   ]
  },
  {
   "cell_type": "code",
   "execution_count": 21,
   "metadata": {},
   "outputs": [
    {
     "name": "stdout",
     "output_type": "stream",
     "text": [
      "{1, 2, 3}\n",
      "{1, 2, 3, 4}\n",
      "{1, 2, 3, 4}\n",
      "Unión: {1, 2, 3, 4, 5}\n",
      "Intersección: {3, 4}\n"
     ]
    }
   ],
   "source": [
    "mi_set = {1, 2, 3}\n",
    "print(mi_set)\n",
    "\n",
    "# Agregar un nuevo elemento\n",
    "mi_set.add(4)\n",
    "print(mi_set)\n",
    "\n",
    "# Intentar agregar un duplicado (no tendrá efecto pero no dará error)\n",
    "mi_set.add(1)\n",
    "print(mi_set)\n",
    "\n",
    "# Operaciones de conjunto\n",
    "otro_set = {3, 4, 5}\n",
    "union = mi_set | otro_set  # Unión\n",
    "interseccion = mi_set & otro_set  # Intersección\n",
    "print(\"Unión:\", union)\n",
    "print(\"Intersección:\", interseccion)"
   ]
  },
  {
   "cell_type": "markdown",
   "metadata": {},
   "source": [
    "### Principales diferencias entre estas estructuras:\n",
    "\n",
    "| Tipo        | Ordenado | Mutable | Permite duplicados | Uso principal                               |\n",
    "|-------------|----------|---------|-------------------|---------------------------------------------|\n",
    "| **Lista**   | Sí       | Sí      | Sí                | Almacenar colecciones modificables.         |\n",
    "| **Tupla**   | Sí       | No      | Sí                | Datos que no deben cambiar.                 |\n",
    "| **Diccionario** | No       | Sí      | No (en claves)     | Almacenar pares clave-valor.                |\n",
    "| **Set**     | No       | Sí      | No                | Colección de elementos únicos y operaciones de conjuntos. |"
   ]
  }
 ],
 "metadata": {
  "kernelspec": {
   "display_name": "loop",
   "language": "python",
   "name": "python3"
  },
  "language_info": {
   "codemirror_mode": {
    "name": "ipython",
    "version": 3
   },
   "file_extension": ".py",
   "mimetype": "text/x-python",
   "name": "python",
   "nbconvert_exporter": "python",
   "pygments_lexer": "ipython3",
   "version": "3.11.9"
  }
 },
 "nbformat": 4,
 "nbformat_minor": 2
}
