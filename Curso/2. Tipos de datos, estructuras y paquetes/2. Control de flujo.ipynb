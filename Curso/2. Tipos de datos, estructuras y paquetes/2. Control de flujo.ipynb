{
 "cells": [
  {
   "cell_type": "markdown",
   "metadata": {},
   "source": [
    "# Control de flujo\n",
    "\n",
    "Los controles de flujo en Python permiten ejecutar diferentes bloques de código en función de condiciones específicas o de realizar iteraciones sobre estructuras de datos. Los más comunes son las sentencias if, los bucles for y los bucles while."
   ]
  },
  {
   "cell_type": "markdown",
   "metadata": {},
   "source": [
    "## Condicionales: if, elif, else\n",
    "\n",
    "La instrucción if evalúa una condición, y si esta es verdadera (True), ejecuta un bloque de código. También puedes utilizar elif (abreviatura de “else if”) para comprobar otras condiciones, y else para ejecutar un bloque en caso de que ninguna condición previa se cumpla."
   ]
  },
  {
   "cell_type": "code",
   "execution_count": 2,
   "metadata": {},
   "outputs": [
    {
     "name": "stdout",
     "output_type": "stream",
     "text": [
      "La variable condicion es falsa y la variable otra_condicion es verdadera\n"
     ]
    }
   ],
   "source": [
    "condicion = False\n",
    "otra_condicion = True\n",
    "\n",
    "if condicion:\n",
    "    print(\"La variable condicion es verdadera\")\n",
    "elif otra_condicion:\n",
    "    print(\"La variable condicion es falsa y la variable otra_condicion es verdadera\")\n",
    "else:\n",
    "    print(\"Las variables condicion y otra_condicion son falsas\")"
   ]
  },
  {
   "cell_type": "code",
   "execution_count": 3,
   "metadata": {},
   "outputs": [
    {
     "name": "stdout",
     "output_type": "stream",
     "text": [
      "x es igual a 10\n"
     ]
    }
   ],
   "source": [
    "x = 10\n",
    "\n",
    "if x > 10:\n",
    "    print(\"x es mayor que 10\")\n",
    "elif x == 10:\n",
    "    print(\"x es igual a 10\")\n",
    "else:\n",
    "    print(\"x es menor que 10\")"
   ]
  },
  {
   "cell_type": "markdown",
   "metadata": {},
   "source": [
    "## Bucles for\n",
    "\n",
    "El bucle for se utiliza para iterar sobre una secuencia de elementos, como una lista, tupla, diccionario, o cualquier objeto iterable. En cada iteración, ejecuta un bloque de código para cada elemento en la secuencia."
   ]
  },
  {
   "cell_type": "code",
   "execution_count": 4,
   "metadata": {},
   "outputs": [
    {
     "name": "stdout",
     "output_type": "stream",
     "text": [
      "Paul\n",
      "John\n",
      "George\n",
      "Ringo\n"
     ]
    }
   ],
   "source": [
    "iterable = ('Paul', 'John', 'George', 'Ringo')\n",
    "\n",
    "for variable in iterable:\n",
    "    print(variable)"
   ]
  },
  {
   "cell_type": "code",
   "execution_count": 5,
   "metadata": {},
   "outputs": [
    {
     "name": "stdout",
     "output_type": "stream",
     "text": [
      "Número: 1\n",
      "Número: 2\n",
      "Número: 3\n",
      "Número: 4\n",
      "Número: 5\n"
     ]
    }
   ],
   "source": [
    "mi_lista = [1, 2, 3, 4, 5]\n",
    "\n",
    "for numero in mi_lista:\n",
    "    print(f\"Número: {numero}\") # f-strings"
   ]
  },
  {
   "cell_type": "code",
   "execution_count": 9,
   "metadata": {},
   "outputs": [
    {
     "name": "stdout",
     "output_type": "stream",
     "text": [
      "dict_items([('nombre', 'Daniel'), ('edad', 32), ('profesion', 'docente')])\n",
      "nombre: Daniel\n",
      "edad: 32\n",
      "profesion: docente\n"
     ]
    }
   ],
   "source": [
    "mi_dict = {'nombre': 'Daniel', 'edad': 32, 'profesion': 'docente'}\n",
    "\n",
    "print(mi_dict.items())\n",
    "\n",
    "for clave, valor in mi_dict.items():\n",
    "    print(f\"{clave}: {valor}\")"
   ]
  },
  {
   "cell_type": "code",
   "execution_count": 10,
   "metadata": {},
   "outputs": [
    {
     "name": "stdout",
     "output_type": "stream",
     "text": [
      "Número: 1, Letra a\n",
      "Número: 2, Letra b\n",
      "Número: 3, Letra c\n",
      "Número: 4, Letra d\n"
     ]
    }
   ],
   "source": [
    "# Función zip\n",
    "\n",
    "lista_numerica = [1, 2, 3, 4]\n",
    "lista_alfabetica = ['a', 'b', 'c', 'd']\n",
    "\n",
    "for numero, letra in zip(lista_numerica, lista_alfabetica):\n",
    "    print(f\"Número: {numero}, Letra {letra}\")"
   ]
  },
  {
   "cell_type": "markdown",
   "metadata": {},
   "source": [
    "## Bucles while\n",
    "\n",
    "El bucle while repite un bloque de código mientras una condición especificada sea verdadera (True). Es útil cuando no sabes cuántas iteraciones necesitas realizar de antemano, y se basa en una condición que puede cambiar durante la ejecución del bucle."
   ]
  },
  {
   "cell_type": "code",
   "execution_count": 11,
   "metadata": {},
   "outputs": [
    {
     "name": "stdout",
     "output_type": "stream",
     "text": [
      "Contador: 0\n",
      "Contador: 1\n",
      "Contador: 2\n",
      "Contador: 3\n",
      "Contador: 4\n"
     ]
    }
   ],
   "source": [
    "contador = 0\n",
    "\n",
    "while contador < 5:\n",
    "    print(f\"Contador: {contador}\")\n",
    "    contador += 1  # Incrementar el contador"
   ]
  },
  {
   "cell_type": "markdown",
   "metadata": {},
   "source": [
    "Comparación entre for y while\n",
    "\n",
    "- **for**: Se utiliza cuando conoces el número de iteraciones o cuando deseas iterar sobre una estructura de datos.\n",
    "- **while**: Se utiliza cuando el número de iteraciones depende de una condición que se evalúa en cada ciclo."
   ]
  },
  {
   "cell_type": "markdown",
   "metadata": {},
   "source": [
    "## Control adicional de los bucles: break, continue\n",
    "\n",
    "1.\t*break*: Interrumpe un bucle antes de que termine naturalmente. Se utiliza, por ejemplo, cuando deseas salir de un bucle antes de que se completen todas las iteraciones."
   ]
  },
  {
   "cell_type": "code",
   "execution_count": 12,
   "metadata": {},
   "outputs": [
    {
     "name": "stdout",
     "output_type": "stream",
     "text": [
      "0\n",
      "1\n",
      "2\n",
      "3\n",
      "4\n"
     ]
    }
   ],
   "source": [
    "for i in range(10):\n",
    "    if i == 5:\n",
    "        break  # Detener el bucle cuando i es igual a 5\n",
    "    print(i)"
   ]
  },
  {
   "cell_type": "markdown",
   "metadata": {},
   "source": [
    "2.\t*continue*: Salta a la siguiente iteración del bucle sin ejecutar el resto del bloque de código."
   ]
  },
  {
   "cell_type": "code",
   "execution_count": 13,
   "metadata": {},
   "outputs": [
    {
     "name": "stdout",
     "output_type": "stream",
     "text": [
      "0\n",
      "1\n",
      "2\n",
      "4\n"
     ]
    }
   ],
   "source": [
    "for i in range(5):\n",
    "    if i == 3:\n",
    "        continue  # Saltar cuando i es igual a 3\n",
    "    print(i)"
   ]
  },
  {
   "cell_type": "markdown",
   "metadata": {},
   "source": [
    "## Resumen\n",
    "\n",
    "| Control de flujo | Descripción                                                                                  |\n",
    "|------------------|----------------------------------------------------------------------------------------------|\n",
    "| **`if`**         | Ejecuta un bloque de código si una condición es verdadera.                                    |\n",
    "| **`for`**        | Itera sobre los elementos de una secuencia (listas, tuplas, diccionarios, etc.).              |\n",
    "| **`while`**      | Repite un bloque de código mientras una condición sea verdadera.                              |\n",
    "| **`break`**      | Interrumpe un bucle antes de que finalice todas sus iteraciones.                              |\n",
    "| **`continue`**   | Salta el resto de las instrucciones en un bucle y pasa a la siguiente iteración.              |\n"
   ]
  },
  {
   "cell_type": "markdown",
   "metadata": {},
   "source": []
  }
 ],
 "metadata": {
  "kernelspec": {
   "display_name": "curso-ine",
   "language": "python",
   "name": "python3"
  },
  "language_info": {
   "codemirror_mode": {
    "name": "ipython",
    "version": 3
   },
   "file_extension": ".py",
   "mimetype": "text/x-python",
   "name": "python",
   "nbconvert_exporter": "python",
   "pygments_lexer": "ipython3",
   "version": "3.11.9"
  }
 },
 "nbformat": 4,
 "nbformat_minor": 2
}
