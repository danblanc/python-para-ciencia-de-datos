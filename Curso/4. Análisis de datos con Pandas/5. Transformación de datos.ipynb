{
 "cells": [
  {
   "cell_type": "markdown",
   "metadata": {},
   "source": [
    "## **Análisis de Datos con Pandas**\n",
    "\n",
    "El análisis de datos con pandas es crucial para extraer insights significativos de datos. A continuación, cubriremos técnicas importantes como la agregación, agrupación, pivoteo de tablas, y la visualización con Seaborn, así como la concatenación y el mergeo de DataFrames.\n",
    "\n",
    "### **1. Agregación y Agrupación de Datos**\n",
    "\n",
    "#### **Agregación**\n",
    "\n",
    "La agregación permite resumir datos mediante funciones estadísticas.\n",
    "\n",
    "**Ejemplo:**"
   ]
  },
  {
   "cell_type": "code",
   "execution_count": 1,
   "metadata": {},
   "outputs": [
    {
     "name": "stdout",
     "output_type": "stream",
     "text": [
      "Venta Total: 950\n",
      "Venta Promedio: 190.0\n"
     ]
    }
   ],
   "source": [
    "import pandas as pd\n",
    "\n",
    "data = {\n",
    "    'Vendedor': ['Ana', 'Luis', 'Ana', 'Pedro', 'Luis'],\n",
    "    'Ventas': [200, 150, 180, 300, 120],\n",
    "    'Mes': ['Enero', 'Enero', 'Febrero', 'Febrero', 'Enero']\n",
    "}\n",
    "\n",
    "df = pd.DataFrame(data)\n",
    "\n",
    "# Calcular la venta total\n",
    "venta_total = df['Ventas'].sum()\n",
    "\n",
    "# Calcular la venta promedio\n",
    "venta_promedio = df['Ventas'].mean()\n",
    "\n",
    "print(\"Venta Total:\", venta_total)\n",
    "print(\"Venta Promedio:\", venta_promedio)"
   ]
  },
  {
   "cell_type": "markdown",
   "metadata": {},
   "source": [
    "#### **Agrupación**\n",
    "\n",
    "La agrupación permite dividir el DataFrame en grupos basados en el valor de una o más columnas y aplicar funciones de agregación a cada grupo.\n",
    "\n",
    "**Ejemplo:**"
   ]
  },
  {
   "cell_type": "code",
   "execution_count": 2,
   "metadata": {},
   "outputs": [
    {
     "data": {
      "text/plain": [
       "Vendedor\n",
       "Ana      380\n",
       "Luis     270\n",
       "Pedro    300\n",
       "Name: Ventas, dtype: int64"
      ]
     },
     "execution_count": 2,
     "metadata": {},
     "output_type": "execute_result"
    }
   ],
   "source": [
    "# Agrupar por Vendedor y calcular la venta total por vendedor\n",
    "ventas_por_vendedor = df.groupby('Vendedor')['Ventas'].sum()\n",
    "ventas_por_vendedor"
   ]
  },
  {
   "cell_type": "code",
   "execution_count": 3,
   "metadata": {},
   "outputs": [
    {
     "data": {
      "text/plain": [
       "Mes\n",
       "Enero      156.666667\n",
       "Febrero    240.000000\n",
       "Name: Ventas, dtype: float64"
      ]
     },
     "execution_count": 3,
     "metadata": {},
     "output_type": "execute_result"
    }
   ],
   "source": [
    "# Agrupar por Mes y calcular la venta promedio por mes\n",
    "ventas_por_mes = df.groupby('Mes')['Ventas'].mean()\n",
    "ventas_por_mes"
   ]
  },
  {
   "cell_type": "markdown",
   "metadata": {},
   "source": [
    "### **2. Pivoteo de Tablas**\n",
    "\n",
    "El pivoteo transforma datos de un formato largo a uno ancho.\n",
    "\n",
    "**Ejemplo:**"
   ]
  },
  {
   "cell_type": "code",
   "execution_count": 5,
   "metadata": {},
   "outputs": [
    {
     "data": {
      "text/html": [
       "<div>\n",
       "<style scoped>\n",
       "    .dataframe tbody tr th:only-of-type {\n",
       "        vertical-align: middle;\n",
       "    }\n",
       "\n",
       "    .dataframe tbody tr th {\n",
       "        vertical-align: top;\n",
       "    }\n",
       "\n",
       "    .dataframe thead th {\n",
       "        text-align: right;\n",
       "    }\n",
       "</style>\n",
       "<table border=\"1\" class=\"dataframe\">\n",
       "  <thead>\n",
       "    <tr style=\"text-align: right;\">\n",
       "      <th>Mes</th>\n",
       "      <th>Enero</th>\n",
       "      <th>Febrero</th>\n",
       "    </tr>\n",
       "    <tr>\n",
       "      <th>Vendedor</th>\n",
       "      <th></th>\n",
       "      <th></th>\n",
       "    </tr>\n",
       "  </thead>\n",
       "  <tbody>\n",
       "    <tr>\n",
       "      <th>Ana</th>\n",
       "      <td>200</td>\n",
       "      <td>180</td>\n",
       "    </tr>\n",
       "    <tr>\n",
       "      <th>Luis</th>\n",
       "      <td>270</td>\n",
       "      <td>0</td>\n",
       "    </tr>\n",
       "    <tr>\n",
       "      <th>Pedro</th>\n",
       "      <td>0</td>\n",
       "      <td>300</td>\n",
       "    </tr>\n",
       "  </tbody>\n",
       "</table>\n",
       "</div>"
      ],
      "text/plain": [
       "Mes       Enero  Febrero\n",
       "Vendedor                \n",
       "Ana         200      180\n",
       "Luis        270        0\n",
       "Pedro         0      300"
      ]
     },
     "execution_count": 5,
     "metadata": {},
     "output_type": "execute_result"
    }
   ],
   "source": [
    "# Crear un DataFrame de ejemplo\n",
    "data = {\n",
    "    'Vendedor': ['Ana', 'Luis', 'Ana', 'Pedro', 'Luis'],\n",
    "    'Ventas': [200, 150, 180, 300, 120],\n",
    "    'Mes': ['Enero', 'Enero', 'Febrero', 'Febrero', 'Enero']\n",
    "}\n",
    "\n",
    "df = pd.DataFrame(data)\n",
    "\n",
    "# Crear una tabla dinámica\n",
    "pivot_table = df.pivot_table(values='Ventas', index='Vendedor', columns='Mes', aggfunc='sum', fill_value=0)\n",
    "pivot_table"
   ]
  },
  {
   "cell_type": "markdown",
   "metadata": {},
   "source": [
    "### **3. Visualización con Seaborn**\n",
    "\n",
    "#### **Instalación**\n",
    "\n",
    "```bash\n",
    "pip install seaborn\n",
    "```\n",
    "\n",
    "#### **Gráficos de Barras**\n",
    "\n",
    "**Ejemplo:**"
   ]
  },
  {
   "cell_type": "code",
   "execution_count": 6,
   "metadata": {},
   "outputs": [
    {
     "data": {
      "image/png": "[encoded data removed]",
      "text/plain": [
       "<Figure size 640x480 with 1 Axes>"
      ]
     },
     "metadata": {},
     "output_type": "display_data"
    }
   ],
   "source": [
    "import seaborn as sns\n",
    "import matplotlib.pyplot as plt\n",
    "\n",
    "data = {\n",
    "    'Vendedor': ['Ana', 'Luis', 'Pedro'],\n",
    "    'Ventas': [380, 270, 300]\n",
    "}\n",
    "\n",
    "df = pd.DataFrame(data)\n",
    "\n",
    "sns.barplot(x='Vendedor', y='Ventas', data=df, )\n",
    "plt.title('Ventas por Vendedor')\n",
    "plt.xlabel('Vendedor')\n",
    "plt.ylabel('Ventas')\n",
    "plt.show()"
   ]
  },
  {
   "cell_type": "markdown",
   "metadata": {},
   "source": [
    "#### **Series de Tiempo**\n",
    "\n",
    "**Ejemplo:**"
   ]
  },
  {
   "cell_type": "code",
   "execution_count": 7,
   "metadata": {},
   "outputs": [
    {
     "data": {
      "image/png": "[encoded data removed]",
      "text/plain": [
       "<Figure size 640x480 with 1 Axes>"
      ]
     },
     "metadata": {},
     "output_type": "display_data"
    }
   ],
   "source": [
    "data = {\n",
    "    'Fecha': pd.date_range(start='2023-01-01', periods=12, freq='M'),\n",
    "    'Ventas': [200, 180, 210, 220, 250, 230, 210, 220, 240, 260, 270, 290]\n",
    "}\n",
    "\n",
    "df = pd.DataFrame(data)\n",
    "\n",
    "sns.lineplot(x='Fecha', y='Ventas', data=df)\n",
    "plt.title('Ventas Mensuales')\n",
    "plt.xlabel('Fecha')\n",
    "plt.ylabel('Ventas')\n",
    "plt.xticks(rotation=45)\n",
    "plt.show()"
   ]
  },
  {
   "cell_type": "markdown",
   "metadata": {},
   "source": [
    "### **4. Concatenación de DataFrames**\n",
    "\n",
    "La concatenación permite unir DataFrames a lo largo de un eje (filas o columnas). Utiliza `pd.concat()` para combinar múltiples DataFrames.\n",
    "\n",
    "**Ejemplo:**"
   ]
  },
  {
   "cell_type": "code",
   "execution_count": 9,
   "metadata": {},
   "outputs": [
    {
     "name": "stdout",
     "output_type": "stream",
     "text": [
      "   A  B\n",
      "0  1  3\n",
      "1  2  4\n",
      "0  5  7\n",
      "1  6  8\n",
      "   A  B  A  B\n",
      "0  1  3  5  7\n",
      "1  2  4  6  8\n"
     ]
    }
   ],
   "source": [
    "# Crear DataFrames de ejemplo\n",
    "df1 = pd.DataFrame({'A': [1, 2], 'B': [3, 4]})\n",
    "df2 = pd.DataFrame({'A': [5, 6], 'B': [7, 8]})\n",
    "\n",
    "# Concatenar por filas\n",
    "df_concat = pd.concat([df1, df2], axis=0)\n",
    "print(df_concat)\n",
    "\n",
    "# Concatenar por columnas\n",
    "df_concat_col = pd.concat([df1, df2], axis=1)\n",
    "print(df_concat_col)"
   ]
  },
  {
   "cell_type": "markdown",
   "metadata": {},
   "source": [
    "### **5. Mergeo de DataFrames**\n",
    "\n",
    "El mergeo permite combinar DataFrames basados en valores comunes en columnas clave, similar a una operación JOIN en SQL. Utiliza `pd.merge()` para esto.\n",
    "\n",
    "**Ejemplo:**"
   ]
  },
  {
   "cell_type": "code",
   "execution_count": 12,
   "metadata": {},
   "outputs": [
    {
     "data": {
      "text/html": [
       "<div>\n",
       "<style scoped>\n",
       "    .dataframe tbody tr th:only-of-type {\n",
       "        vertical-align: middle;\n",
       "    }\n",
       "\n",
       "    .dataframe tbody tr th {\n",
       "        vertical-align: top;\n",
       "    }\n",
       "\n",
       "    .dataframe thead th {\n",
       "        text-align: right;\n",
       "    }\n",
       "</style>\n",
       "<table border=\"1\" class=\"dataframe\">\n",
       "  <thead>\n",
       "    <tr style=\"text-align: right;\">\n",
       "      <th></th>\n",
       "      <th>ID</th>\n",
       "      <th>Nombre</th>\n",
       "      <th>Ventas</th>\n",
       "    </tr>\n",
       "  </thead>\n",
       "  <tbody>\n",
       "    <tr>\n",
       "      <th>0</th>\n",
       "      <td>1</td>\n",
       "      <td>Ana</td>\n",
       "      <td>200</td>\n",
       "    </tr>\n",
       "    <tr>\n",
       "      <th>1</th>\n",
       "      <td>2</td>\n",
       "      <td>Luis</td>\n",
       "      <td>150</td>\n",
       "    </tr>\n",
       "  </tbody>\n",
       "</table>\n",
       "</div>"
      ],
      "text/plain": [
       "   ID Nombre  Ventas\n",
       "0   1    Ana     200\n",
       "1   2   Luis     150"
      ]
     },
     "execution_count": 12,
     "metadata": {},
     "output_type": "execute_result"
    }
   ],
   "source": [
    "# Crear DataFrames de ejemplo\n",
    "df1 = pd.DataFrame({'ID': [1, 2, 3], 'Nombre': ['Ana', 'Luis', 'Pedro']})\n",
    "df2 = pd.DataFrame({'ID': [1, 2, 4], 'Ventas': [200, 150, 300]})\n",
    "\n",
    "# Mergear DataFrames en base a la columna 'ID'\n",
    "df_merged = pd.merge(df1, df2, on='ID', how='inner')\n",
    "df_merged"
   ]
  },
  {
   "cell_type": "code",
   "execution_count": 13,
   "metadata": {},
   "outputs": [
    {
     "data": {
      "text/html": [
       "<div>\n",
       "<style scoped>\n",
       "    .dataframe tbody tr th:only-of-type {\n",
       "        vertical-align: middle;\n",
       "    }\n",
       "\n",
       "    .dataframe tbody tr th {\n",
       "        vertical-align: top;\n",
       "    }\n",
       "\n",
       "    .dataframe thead th {\n",
       "        text-align: right;\n",
       "    }\n",
       "</style>\n",
       "<table border=\"1\" class=\"dataframe\">\n",
       "  <thead>\n",
       "    <tr style=\"text-align: right;\">\n",
       "      <th></th>\n",
       "      <th>ID</th>\n",
       "      <th>Nombre</th>\n",
       "      <th>Ventas</th>\n",
       "    </tr>\n",
       "  </thead>\n",
       "  <tbody>\n",
       "    <tr>\n",
       "      <th>0</th>\n",
       "      <td>1</td>\n",
       "      <td>Ana</td>\n",
       "      <td>200.0</td>\n",
       "    </tr>\n",
       "    <tr>\n",
       "      <th>1</th>\n",
       "      <td>2</td>\n",
       "      <td>Luis</td>\n",
       "      <td>150.0</td>\n",
       "    </tr>\n",
       "    <tr>\n",
       "      <th>2</th>\n",
       "      <td>3</td>\n",
       "      <td>Pedro</td>\n",
       "      <td>NaN</td>\n",
       "    </tr>\n",
       "    <tr>\n",
       "      <th>3</th>\n",
       "      <td>4</td>\n",
       "      <td>NaN</td>\n",
       "      <td>300.0</td>\n",
       "    </tr>\n",
       "  </tbody>\n",
       "</table>\n",
       "</div>"
      ],
      "text/plain": [
       "   ID Nombre  Ventas\n",
       "0   1    Ana   200.0\n",
       "1   2   Luis   150.0\n",
       "2   3  Pedro     NaN\n",
       "3   4    NaN   300.0"
      ]
     },
     "execution_count": 13,
     "metadata": {},
     "output_type": "execute_result"
    }
   ],
   "source": [
    "# Mergear DataFrames con una unión externa\n",
    "df_merged_outer = pd.merge(df1, df2, on='ID', how='outer')\n",
    "df_merged_outer"
   ]
  }
 ],
 "metadata": {
  "kernelspec": {
   "display_name": "curso-ine",
   "language": "python",
   "name": "python3"
  },
  "language_info": {
   "codemirror_mode": {
    "name": "ipython",
    "version": 3
   },
   "file_extension": ".py",
   "mimetype": "text/x-python",
   "name": "python",
   "nbconvert_exporter": "python",
   "pygments_lexer": "ipython3",
   "version": "3.11.9"
  }
 },
 "nbformat": 4,
 "nbformat_minor": 2
}
