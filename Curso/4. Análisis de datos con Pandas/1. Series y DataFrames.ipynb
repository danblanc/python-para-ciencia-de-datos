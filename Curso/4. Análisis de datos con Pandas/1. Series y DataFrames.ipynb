{
 "cells": [
  {
   "cell_type": "markdown",
   "metadata": {},
   "source": [
    "### Series y DataFrames en Pandas\n",
    "\n",
    "En **Pandas**, dos estructuras de datos son fundamentales para el análisis y manipulación de datos: **Series** y **DataFrames**. A lo largo de este capítulo, profundizaremos en ambos conceptos, sus características y cómo se utilizan en análisis de datos con ejemplos prácticos."
   ]
  },
  {
   "cell_type": "markdown",
   "metadata": {},
   "source": [
    "### 1. Series\n",
    "\n",
    "Una **Serie** es una estructura de datos unidimensional en Pandas, similar a una lista o array de Python, pero con la ventaja de tener un índice etiquetado. Es ideal para trabajar con datos secuenciales donde cada valor tiene una etiqueta (índice).\n",
    "\n",
    "#### Características de una Serie:\n",
    "\n",
    "- Almacena una sola columna de datos.\n",
    "- Cada valor tiene un índice asociado.\n",
    "- Puede contener cualquier tipo de datos: numéricos, de texto, booleanos, etc.\n",
    "  \n",
    "#### Creación de Series\n",
    "\n",
    "Para crear una Serie, podemos usar la función `pd.Series()` de Pandas. Hay varias maneras de hacerlo, dependiendo de la fuente de datos.\n",
    "\n",
    "##### Creación desde una lista:"
   ]
  },
  {
   "cell_type": "code",
   "execution_count": 22,
   "metadata": {},
   "outputs": [
    {
     "name": "stdout",
     "output_type": "stream",
     "text": [
      "0    10\n",
      "1    20\n",
      "2    30\n",
      "3    40\n",
      "dtype: int64\n"
     ]
    }
   ],
   "source": [
    "import pandas as pd\n",
    "\n",
    "# Crear una Serie a partir de una lista\n",
    "mi_serie = pd.Series([10, 20, 30, 40])\n",
    "print(mi_serie)"
   ]
  },
  {
   "cell_type": "markdown",
   "metadata": {},
   "source": [
    "##### Creación desde un diccionario:"
   ]
  },
  {
   "cell_type": "code",
   "execution_count": 23,
   "metadata": {},
   "outputs": [
    {
     "name": "stdout",
     "output_type": "stream",
     "text": [
      "a    10\n",
      "b    20\n",
      "c    30\n",
      "dtype: int64\n"
     ]
    }
   ],
   "source": [
    "mi_serie = pd.Series({'a': 10, 'b': 20, 'c': 30})\n",
    "print(mi_serie)"
   ]
  },
  {
   "cell_type": "markdown",
   "metadata": {},
   "source": [
    "##### Índice personalizado:"
   ]
  },
  {
   "cell_type": "code",
   "execution_count": 24,
   "metadata": {},
   "outputs": [
    {
     "name": "stdout",
     "output_type": "stream",
     "text": [
      "uno     10\n",
      "dos     20\n",
      "tres    30\n",
      "dtype: int64\n"
     ]
    }
   ],
   "source": [
    "# Crear una Serie con un índice específico\n",
    "mi_serie = pd.Series([10, 20, 30], index=['uno', 'dos', 'tres'])\n",
    "print(mi_serie)"
   ]
  },
  {
   "cell_type": "markdown",
   "metadata": {},
   "source": [
    "#### Operaciones comunes con Series\n",
    "\n",
    "Las Series permiten realizar operaciones rápidas y eficaces sobre los datos:\n",
    "\n",
    "- **Acceder a elementos**: Utilizando el índice o la posición."
   ]
  },
  {
   "cell_type": "code",
   "execution_count": 25,
   "metadata": {},
   "outputs": [
    {
     "name": "stdout",
     "output_type": "stream",
     "text": [
      "10\n",
      "10\n"
     ]
    },
    {
     "name": "stderr",
     "output_type": "stream",
     "text": [
      "/var/folders/sz/gjpm00ys6zz089c9pw7fvwz80000gn/T/ipykernel_4000/1319432229.py:5: FutureWarning: Series.__getitem__ treating keys as positions is deprecated. In a future version, integer keys will always be treated as labels (consistent with DataFrame behavior). To access a value by position, use `ser.iloc[pos]`\n",
      "  print(mi_serie[0])\n"
     ]
    }
   ],
   "source": [
    "# Acceder por índice\n",
    "print(mi_serie['uno'])\n",
    "\n",
    "# Acceder por posición\n",
    "print(mi_serie[0])"
   ]
  },
  {
   "cell_type": "markdown",
   "metadata": {},
   "source": [
    "- **Realizar operaciones matemáticas**:"
   ]
  },
  {
   "cell_type": "code",
   "execution_count": 26,
   "metadata": {},
   "outputs": [
    {
     "name": "stdout",
     "output_type": "stream",
     "text": [
      "uno     15\n",
      "dos     25\n",
      "tres    35\n",
      "dtype: int64\n",
      "uno     15\n",
      "dos     30\n",
      "tres    45\n",
      "dtype: int64\n"
     ]
    }
   ],
   "source": [
    "# Sumar una constante a todos los elementos\n",
    "print(mi_serie + 5)\n",
    "\n",
    "# Sumar dos Series\n",
    "mi_serie2 = pd.Series([5, 10, 15], index=['uno', 'dos', 'tres'])\n",
    "print(mi_serie + mi_serie2)"
   ]
  },
  {
   "cell_type": "markdown",
   "metadata": {},
   "source": [
    "- **Estadísticas básicas**:"
   ]
  },
  {
   "cell_type": "code",
   "execution_count": 27,
   "metadata": {},
   "outputs": [
    {
     "name": "stdout",
     "output_type": "stream",
     "text": [
      "20.0\n",
      "60\n"
     ]
    }
   ],
   "source": [
    "# Calcular la media\n",
    "print(mi_serie.mean())\n",
    "\n",
    "# Calcular la suma\n",
    "print(mi_serie.sum())"
   ]
  },
  {
   "cell_type": "markdown",
   "metadata": {},
   "source": [
    "- **Filtrado y selección**:"
   ]
  },
  {
   "cell_type": "code",
   "execution_count": 28,
   "metadata": {},
   "outputs": [
    {
     "name": "stdout",
     "output_type": "stream",
     "text": [
      "dos     20\n",
      "tres    30\n",
      "dtype: int64\n"
     ]
    }
   ],
   "source": [
    "# Filtrar valores mayores a 15\n",
    "print(mi_serie[mi_serie > 15])"
   ]
  },
  {
   "cell_type": "markdown",
   "metadata": {},
   "source": [
    "### 2. DataFrames\n",
    "\n",
    "Un **DataFrame** es una estructura bidimensional que se asemeja a una tabla, donde los datos están organizados en filas y columnas. Es la estructura más poderosa y flexible para manejar y analizar datos en Pandas.\n",
    "\n",
    "#### Características de un DataFrame:\n",
    "\n",
    "- Almacena datos en formato tabular con etiquetas para las filas y las columnas.\n",
    "- Cada columna es una Serie, lo que permite manipular columnas individuales de forma eficiente.\n",
    "- Puede contener datos de diferentes tipos en cada columna (por ejemplo, una columna con valores numéricos y otra con cadenas).\n",
    "\n",
    "#### Creación de DataFrames\n",
    "\n",
    "Los DataFrames pueden crearse a partir de varias fuentes de datos: diccionarios, listas de listas, archivos de datos (CSV, Excel, SQL), entre otros.\n",
    "\n",
    "##### Creación desde un diccionario:"
   ]
  },
  {
   "cell_type": "code",
   "execution_count": 29,
   "metadata": {},
   "outputs": [
    {
     "name": "stdout",
     "output_type": "stream",
     "text": [
      "  Nombre  Edad\n",
      "0    Ana    23\n",
      "1   Luis    35\n",
      "2  María    29\n"
     ]
    }
   ],
   "source": [
    "# Crear un DataFrame desde un diccionario\n",
    "data = {'Nombre': ['Ana', 'Luis', 'María'], 'Edad': [23, 35, 29]}\n",
    "df = pd.DataFrame(data)\n",
    "print(df)"
   ]
  },
  {
   "cell_type": "markdown",
   "metadata": {},
   "source": [
    "##### Creación desde una lista de listas:"
   ]
  },
  {
   "cell_type": "code",
   "execution_count": 30,
   "metadata": {},
   "outputs": [
    {
     "name": "stdout",
     "output_type": "stream",
     "text": [
      "   Edad Nombre\n",
      "0    23    Ana\n",
      "1    35   Luis\n",
      "2    29  María\n"
     ]
    }
   ],
   "source": [
    "# Crear un DataFrame desde una lista de listas\n",
    "data = [[23, 'Ana'], [35, 'Luis'], [29, 'María']]\n",
    "df = pd.DataFrame(data, columns=['Edad', 'Nombre'])\n",
    "print(df)"
   ]
  },
  {
   "cell_type": "markdown",
   "metadata": {},
   "source": [
    "#### Operaciones comunes con DataFrames\n",
    "\n",
    "Los DataFrames proporcionan una amplia gama de operaciones para manipular y analizar datos.\n",
    "\n",
    "- **Acceder a columnas y filas**:"
   ]
  },
  {
   "cell_type": "code",
   "execution_count": 31,
   "metadata": {},
   "outputs": [
    {
     "name": "stdout",
     "output_type": "stream",
     "text": [
      "0      Ana\n",
      "1     Luis\n",
      "2    María\n",
      "Name: Nombre, dtype: object\n",
      "  Nombre  Edad\n",
      "0    Ana    23\n",
      "1   Luis    35\n",
      "2  María    29\n",
      "Edad       23\n",
      "Nombre    Ana\n",
      "Name: 0, dtype: object\n",
      "Edad       23\n",
      "Nombre    Ana\n",
      "Name: 0, dtype: object\n"
     ]
    }
   ],
   "source": [
    "# Seleccionar una columna\n",
    "print(df['Nombre'])\n",
    "\n",
    "# Seleccionar varias columnas\n",
    "print(df[['Nombre', 'Edad']])\n",
    "\n",
    "# Acceder a una fila específica\n",
    "print(df.loc[0])   # Acceso por índice\n",
    "print(df.iloc[0])  # Acceso por posición"
   ]
  },
  {
   "cell_type": "markdown",
   "metadata": {},
   "source": [
    "- **Filtrado y selección**:"
   ]
  },
  {
   "cell_type": "code",
   "execution_count": 32,
   "metadata": {},
   "outputs": [
    {
     "name": "stdout",
     "output_type": "stream",
     "text": [
      "   Edad Nombre\n",
      "1    35   Luis\n",
      "2    29  María\n"
     ]
    }
   ],
   "source": [
    "# Filtrar filas donde la Edad es mayor a 25\n",
    "print(df[df['Edad'] > 25])"
   ]
  },
  {
   "cell_type": "markdown",
   "metadata": {},
   "source": [
    "- **Agregar y eliminar columnas**:"
   ]
  },
  {
   "cell_type": "code",
   "execution_count": 33,
   "metadata": {},
   "outputs": [
    {
     "name": "stdout",
     "output_type": "stream",
     "text": [
      "   Edad Nombre  Salario\n",
      "0    23    Ana    50000\n",
      "1    35   Luis    60000\n",
      "2    29  María    70000\n",
      "   Edad Nombre\n",
      "0    23    Ana\n",
      "1    35   Luis\n",
      "2    29  María\n"
     ]
    }
   ],
   "source": [
    "# Agregar una nueva columna\n",
    "df['Salario'] = [50000, 60000, 70000]\n",
    "print(df)\n",
    "\n",
    "# Eliminar una columna\n",
    "df.drop(columns=['Salario'], inplace=True)\n",
    "print(df)"
   ]
  },
  {
   "cell_type": "markdown",
   "metadata": {},
   "source": [
    "- **Estadísticas básicas en DataFrames**:"
   ]
  },
  {
   "cell_type": "code",
   "execution_count": 34,
   "metadata": {},
   "outputs": [
    {
     "name": "stdout",
     "output_type": "stream",
     "text": [
      "29.0\n",
      "       Edad\n",
      "count   3.0\n",
      "mean   29.0\n",
      "std     6.0\n",
      "min    23.0\n",
      "25%    26.0\n",
      "50%    29.0\n",
      "75%    32.0\n",
      "max    35.0\n"
     ]
    }
   ],
   "source": [
    "# Calcular la media de una columna\n",
    "print(df['Edad'].mean())\n",
    "\n",
    "# Estadísticas generales del DataFrame\n",
    "print(df.describe())"
   ]
  },
  {
   "cell_type": "markdown",
   "metadata": {},
   "source": [
    "- **Ordenar los datos**:"
   ]
  },
  {
   "cell_type": "code",
   "execution_count": 35,
   "metadata": {},
   "outputs": [
    {
     "name": "stdout",
     "output_type": "stream",
     "text": [
      "   Edad Nombre\n",
      "0    23    Ana\n",
      "2    29  María\n",
      "1    35   Luis\n"
     ]
    }
   ],
   "source": [
    "# Ordenar por la columna 'Edad'\n",
    "df_ordenado = df.sort_values(by='Edad')\n",
    "print(df_ordenado)"
   ]
  },
  {
   "cell_type": "markdown",
   "metadata": {},
   "source": [
    "#### Modificación de un DataFrame\n",
    "\n",
    "- **Renombrar columnas**:"
   ]
  },
  {
   "cell_type": "code",
   "execution_count": 36,
   "metadata": {},
   "outputs": [
    {
     "name": "stdout",
     "output_type": "stream",
     "text": [
      "   Age   Name\n",
      "0   23    Ana\n",
      "1   35   Luis\n",
      "2   29  María\n"
     ]
    }
   ],
   "source": [
    "df.rename(columns={'Nombre': 'Name', 'Edad': 'Age'}, inplace=True)\n",
    "print(df)"
   ]
  },
  {
   "cell_type": "markdown",
   "metadata": {},
   "source": [
    "- **Reindexar filas**:"
   ]
  },
  {
   "cell_type": "code",
   "execution_count": 37,
   "metadata": {},
   "outputs": [
    {
     "name": "stdout",
     "output_type": "stream",
     "text": [
      "   Age   Name\n",
      "2   29  María\n",
      "0   23    Ana\n",
      "1   35   Luis\n"
     ]
    }
   ],
   "source": [
    "# Reindexar las filas\n",
    "df_reindex = df.reindex([2, 0, 1])\n",
    "print(df_reindex)"
   ]
  },
  {
   "cell_type": "markdown",
   "metadata": {},
   "source": [
    "- **Modificar valores**:"
   ]
  },
  {
   "cell_type": "code",
   "execution_count": 38,
   "metadata": {},
   "outputs": [
    {
     "name": "stdout",
     "output_type": "stream",
     "text": [
      "   Age   Name\n",
      "0   24    Ana\n",
      "1   35   Luis\n",
      "2   29  María\n"
     ]
    }
   ],
   "source": [
    "# Cambiar el valor en una celda específica\n",
    "df.at[0, 'Age'] = 24\n",
    "print(df)"
   ]
  },
  {
   "cell_type": "markdown",
   "metadata": {},
   "source": [
    "#### Importancia de los índices en DataFrames\n",
    "\n",
    "Los DataFrames en Pandas tienen un índice de fila que sirve para identificar cada fila de manera única. El índice puede ser numérico o de cadena, y también puede ser una combinación de varias columnas (índice multi-nivel)."
   ]
  },
  {
   "cell_type": "code",
   "execution_count": 40,
   "metadata": {},
   "outputs": [
    {
     "name": "stdout",
     "output_type": "stream",
     "text": [
      "       Age\n",
      "Name      \n",
      "Ana     24\n",
      "Luis    35\n",
      "María   29\n"
     ]
    }
   ],
   "source": [
    "# Establecer una columna como índice\n",
    "df.set_index('Name', inplace=True)\n",
    "print(df)"
   ]
  }
 ],
 "metadata": {
  "kernelspec": {
   "display_name": "curso-ine",
   "language": "python",
   "name": "python3"
  },
  "language_info": {
   "codemirror_mode": {
    "name": "ipython",
    "version": 3
   },
   "file_extension": ".py",
   "mimetype": "text/x-python",
   "name": "python",
   "nbconvert_exporter": "python",
   "pygments_lexer": "ipython3",
   "version": "3.11.9"
  }
 },
 "nbformat": 4,
 "nbformat_minor": 2
}
