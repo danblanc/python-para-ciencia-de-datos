{
 "cells": [
  {
   "cell_type": "markdown",
   "metadata": {},
   "source": [
    "### **Ejercicio 1: Análisis de Rentabilidad de Productos**\n",
    "Supongamos que eres analista de datos en una empresa de comercio electrónico. Tienes un DataFrame que lista varios productos, sus costos, precios de venta y unidades vendidas durante el último mes. Realiza un análisis para identificar qué productos son más rentables.\n",
    "\n",
    "- Calcula la ganancia por producto y agrega una columna de rentabilidad\n",
    "- Ordena los productos por rentabilidad"
   ]
  },
  {
   "cell_type": "code",
   "execution_count": 1,
   "metadata": {},
   "outputs": [],
   "source": [
    "import pandas as pd\n",
    "\n",
    "data = {\n",
    "    'Producto': ['Computadora', 'Tablet', 'Smartphone', 'Auriculares', 'Cargador'],\n",
    "    'Costo': [500, 300, 200, 50, 20],\n",
    "    'Precio_venta': [1000, 500, 300, 100, 50],\n",
    "    'Unidades_vendidas': [30, 50, 70, 100, 150]\n",
    "}\n",
    "\n",
    "df_productos = pd.DataFrame(data)"
   ]
  },
  {
   "cell_type": "code",
   "execution_count": null,
   "metadata": {},
   "outputs": [],
   "source": []
  },
  {
   "cell_type": "markdown",
   "metadata": {},
   "source": [
    "### **Ejercicio 2: Segmentación de Clientes por Edad y Consumo**\n",
    "Como analista de marketing en una cadena de tiendas, debes segmentar a los clientes en grupos de edad y analizar sus patrones de gasto para optimizar las campañas de marketing.\n",
    "\n",
    "- Agrupa los clientes por rangos de edad y calcula el gasto promedio (investiga el método `cut`)"
   ]
  },
  {
   "cell_type": "code",
   "execution_count": 2,
   "metadata": {},
   "outputs": [],
   "source": [
    "data_clientes = {\n",
    "    'Cliente': ['Ana', 'Luis', 'María', 'Carlos', 'Josefina'],\n",
    "    'Edad': [25, 35, 45, 55, 65],\n",
    "    'Gasto_mensual': [200, 400, 600, 800, 1000]\n",
    "}\n",
    "\n",
    "df_clientes = pd.DataFrame(data_clientes)"
   ]
  },
  {
   "cell_type": "code",
   "execution_count": null,
   "metadata": {},
   "outputs": [],
   "source": []
  },
  {
   "cell_type": "markdown",
   "metadata": {},
   "source": [
    "### **Ejercicio 3: Optimización de Inventarios**\n",
    "El departamento de operaciones necesita tu ayuda para ajustar los niveles de inventario basados en las ventas anuales y la rotación de productos.\n",
    "\n",
    "- Calcula la tasa de rotación de inventario"
   ]
  },
  {
   "cell_type": "code",
   "execution_count": 3,
   "metadata": {},
   "outputs": [],
   "source": [
    "data_inventario = {\n",
    "    'Producto': ['Laptop', 'Mouse', 'Teclado', 'Monitor'],\n",
    "    'Inventario_actual': [200, 1500, 800, 150],\n",
    "    'Ventas_anuales': [600, 1800, 900, 300]\n",
    "}\n",
    "\n",
    "df_inventario = pd.DataFrame(data_inventario)"
   ]
  },
  {
   "cell_type": "code",
   "execution_count": null,
   "metadata": {},
   "outputs": [],
   "source": []
  },
  {
   "cell_type": "markdown",
   "metadata": {},
   "source": [
    "### **Ejercicio 4: Evaluación de Campañas de Marketing**\n",
    "Se te ha proporcionado un DataFrame con los resultados de diferentes campañas de marketing en términos de alcance y conversiones. Analiza la eficacia de cada campaña para determinar cuál ha tenido el mejor rendimiento en términos de ROI (retorno de inversión)."
   ]
  },
  {
   "cell_type": "code",
   "execution_count": null,
   "metadata": {},
   "outputs": [],
   "source": [
    "data_campañas = {\n",
    "    'Campaña': ['A', 'B', 'C', 'D'],\n",
    "    'Alcance': [1000, 3000, 2000, 5000],\n",
    "    'Conversiones': [50, 150, 100, 200],\n",
    "    'Costo': [500, 1500, 1000, 2500]\n",
    "}\n",
    "\n",
    "df_campañas = pd.DataFrame(data_campañas)"
   ]
  },
  {
   "cell_type": "code",
   "execution_count": null,
   "metadata": {},
   "outputs": [],
   "source": []
  },
  {
   "cell_type": "markdown",
   "metadata": {},
   "source": [
    "### **Ejercicio 6 (Investigación): Uso del método `melt` en Pandas**\n",
    "\n",
    "**Investiga cómo se utiliza el método `melt` de pandas para transformar DataFrames de un formato ancho a uno largo.** Crea un DataFrame que represente ventas de varios productos en diferentes meses, utiliza `melt` para cambiar su estructura y analiza cómo podría ser útil este formato para comparaciones o visualizaciones posteriores."
   ]
  },
  {
   "cell_type": "code",
   "execution_count": 4,
   "metadata": {},
   "outputs": [],
   "source": [
    "data_ventas = {\n",
    "    'Producto': ['Laptop', 'Smartphone', 'Tablet'],\n",
    "    'Enero': [100, 150, 200],\n",
    "    'Febrero': [110, 120, 180]\n",
    "}\n",
    "\n",
    "df_ventas = pd.DataFrame(data_ventas)"
   ]
  },
  {
   "cell_type": "code",
   "execution_count": null,
   "metadata": {},
   "outputs": [],
   "source": []
  }
 ],
 "metadata": {
  "kernelspec": {
   "display_name": "curso-ine",
   "language": "python",
   "name": "python3"
  },
  "language_info": {
   "codemirror_mode": {
    "name": "ipython",
    "version": 3
   },
   "file_extension": ".py",
   "mimetype": "text/x-python",
   "name": "python",
   "nbconvert_exporter": "python",
   "pygments_lexer": "ipython3",
   "version": "3.11.9"
  }
 },
 "nbformat": 4,
 "nbformat_minor": 2
}
