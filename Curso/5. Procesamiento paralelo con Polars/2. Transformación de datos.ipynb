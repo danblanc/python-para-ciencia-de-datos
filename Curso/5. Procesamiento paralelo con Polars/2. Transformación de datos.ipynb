{
 "cells": [
  {
   "cell_type": "markdown",
   "metadata": {},
   "source": [
    "### **Transformación de Datos con Polars**\n",
    "\n",
    "En este apartado, aprenderemos a realizar diversas transformaciones de datos utilizando **Polars**. Polars es muy eficiente al manipular y transformar grandes volúmenes de datos gracias a su capacidad de procesamiento paralelo y su compatibilidad con la ejecución diferida (lazy execution). A continuación, cubriremos cómo crear nuevas columnas, tratar valores nulos y duplicados, pivotear tablas y visualizar los datos utilizando bibliotecas compatibles como **Seaborn**.\n",
    "\n",
    "### **1. Creación de Nuevas Columnas**\n",
    "\n",
    "Polars permite crear nuevas columnas de manera eficiente utilizando el método `with_columns()` para añadir columnas calculadas o transformadas.\n",
    "\n",
    "#### **Ejemplo: Crear una nueva columna**\n",
    "\n",
    "Supongamos que tenemos un DataFrame con información de productos y queremos calcular el valor total de ventas multiplicando el precio por la cantidad vendida."
   ]
  },
  {
   "cell_type": "code",
   "execution_count": 2,
   "metadata": {},
   "outputs": [
    {
     "name": "stdout",
     "output_type": "stream",
     "text": [
      "shape: (3, 4)\n",
      "┌────────────┬────────┬──────────┬──────────────┐\n",
      "│ Producto   ┆ Precio ┆ Cantidad ┆ Valor_Ventas │\n",
      "│ ---        ┆ ---    ┆ ---      ┆ ---          │\n",
      "│ str        ┆ i64    ┆ i64      ┆ i64          │\n",
      "╞════════════╪════════╪══════════╪══════════════╡\n",
      "│ Laptop     ┆ 1000   ┆ 5        ┆ 5000         │\n",
      "│ Tablet     ┆ 500    ┆ 10       ┆ 5000         │\n",
      "│ Smartphone ┆ 800    ┆ 8        ┆ 6400         │\n",
      "└────────────┴────────┴──────────┴──────────────┘\n"
     ]
    }
   ],
   "source": [
    "import polars as pl\n",
    "\n",
    "# Crear un DataFrame de ejemplo\n",
    "df = pl.DataFrame({\n",
    "    'Producto': ['Laptop', 'Tablet', 'Smartphone'],\n",
    "    'Precio': [1000, 500, 800],\n",
    "    'Cantidad': [5, 10, 8]\n",
    "})\n",
    "\n",
    "# Crear una nueva columna calculada 'Valor_Ventas'\n",
    "df = df.with_columns(\n",
    "    (pl.col('Precio') * pl.col('Cantidad')).alias('Valor_Ventas')\n",
    ")\n",
    "\n",
    "print(df)"
   ]
  },
  {
   "cell_type": "markdown",
   "metadata": {},
   "source": [
    "En este ejemplo, utilizamos `pl.col` para hacer referencia a las columnas existentes y `alias` para nombrar la nueva columna creada."
   ]
  },
  {
   "cell_type": "markdown",
   "metadata": {},
   "source": [
    "### **2. Tratamiento de Nulls y Duplicados**\n",
    "\n",
    "#### **a. Manejo de valores nulos (nulls)**\n",
    "\n",
    "Polars proporciona métodos como `fill_null()` para reemplazar los valores nulos y `drop_nulls()` para eliminarlos.\n",
    "\n",
    "**Ejemplo: Rellenar valores nulos con un valor específico**"
   ]
  },
  {
   "cell_type": "code",
   "execution_count": 2,
   "metadata": {},
   "outputs": [
    {
     "name": "stdout",
     "output_type": "stream",
     "text": [
      "shape: (4, 2)\n",
      "┌────────┬──────┐\n",
      "│ Nombre ┆ Edad │\n",
      "│ ---    ┆ ---  │\n",
      "│ str    ┆ i64  │\n",
      "╞════════╪══════╡\n",
      "│ Ana    ┆ 23   │\n",
      "│ Luis   ┆ null │\n",
      "│ María  ┆ 35   │\n",
      "│ null   ┆ 40   │\n",
      "└────────┴──────┘\n"
     ]
    }
   ],
   "source": [
    "# Crear un DataFrame con valores nulos\n",
    "df_null = pl.DataFrame({\n",
    "    'Nombre': ['Ana', 'Luis', 'María', None],\n",
    "    'Edad': [23, None, 35, 40]\n",
    "})\n",
    "\n",
    "print(df_null)"
   ]
  },
  {
   "cell_type": "code",
   "execution_count": 3,
   "metadata": {},
   "outputs": [
    {
     "name": "stdout",
     "output_type": "stream",
     "text": [
      "shape: (4, 2)\n",
      "┌────────┬───────────┐\n",
      "│ Nombre ┆ Edad      │\n",
      "│ ---    ┆ ---       │\n",
      "│ str    ┆ f64       │\n",
      "╞════════╪═══════════╡\n",
      "│ Ana    ┆ 23.0      │\n",
      "│ Luis   ┆ 32.666667 │\n",
      "│ María  ┆ 35.0      │\n",
      "│ null   ┆ 40.0      │\n",
      "└────────┴───────────┘\n"
     ]
    }
   ],
   "source": [
    "# Rellenar valores nulos en la columna 'Edad' con la media de la columna\n",
    "df_null = df_null.with_columns(\n",
    "    df_null['Edad'].fill_null(df_null['Edad'].mean())\n",
    ")\n",
    "\n",
    "print(df_null)"
   ]
  },
  {
   "cell_type": "markdown",
   "metadata": {},
   "source": [
    "#### **b. Eliminación de duplicados**\n",
    "\n",
    "Polars permite eliminar duplicados utilizando el método `unique()`.\n",
    "\n",
    "**Ejemplo: Eliminar duplicados**"
   ]
  },
  {
   "cell_type": "code",
   "execution_count": 4,
   "metadata": {},
   "outputs": [
    {
     "name": "stdout",
     "output_type": "stream",
     "text": [
      "shape: (3, 2)\n",
      "┌────────────┬────────┐\n",
      "│ Producto   ┆ Precio │\n",
      "│ ---        ┆ ---    │\n",
      "│ str        ┆ i64    │\n",
      "╞════════════╪════════╡\n",
      "│ Smartphone ┆ 800    │\n",
      "│ Laptop     ┆ 1000   │\n",
      "│ Tablet     ┆ 500    │\n",
      "└────────────┴────────┘\n"
     ]
    }
   ],
   "source": [
    "# Crear un DataFrame con filas duplicadas\n",
    "df_duplicados = pl.DataFrame({\n",
    "    'Producto': ['Laptop', 'Tablet', 'Laptop', 'Smartphone'],\n",
    "    'Precio': [1000, 500, 1000, 800]\n",
    "})\n",
    "\n",
    "# Eliminar filas duplicadas\n",
    "df_unicos = df_duplicados.unique()\n",
    "\n",
    "print(df_unicos)"
   ]
  },
  {
   "cell_type": "markdown",
   "metadata": {},
   "source": [
    "### **3. Pivotear Tablas**\n",
    "\n",
    "Polars ofrece funciones para pivotear tablas de datos y convertir datos de un formato largo a un formato ancho (y viceversa). Utilizamos `pivot()` para pivotear los datos.\n",
    "\n",
    "**Ejemplo: Pivotear una tabla**\n",
    "\n",
    "Supongamos que tenemos un DataFrame con ventas de productos por mes y queremos pivotearlo para que cada columna represente un mes."
   ]
  },
  {
   "cell_type": "code",
   "execution_count": 5,
   "metadata": {},
   "outputs": [
    {
     "name": "stdout",
     "output_type": "stream",
     "text": [
      "shape: (2, 3)\n",
      "┌──────────┬───────┬─────────┐\n",
      "│ Producto ┆ Enero ┆ Febrero │\n",
      "│ ---      ┆ ---   ┆ ---     │\n",
      "│ str      ┆ i64   ┆ i64     │\n",
      "╞══════════╪═══════╪═════════╡\n",
      "│ Laptop   ┆ 100   ┆ 150     │\n",
      "│ Tablet   ┆ 200   ┆ 250     │\n",
      "└──────────┴───────┴─────────┘\n"
     ]
    }
   ],
   "source": [
    "# Crear un DataFrame de ejemplo\n",
    "df_ventas = pl.DataFrame({\n",
    "    'Producto': ['Laptop', 'Laptop', 'Tablet', 'Tablet'],\n",
    "    'Mes': ['Enero', 'Febrero', 'Enero', 'Febrero'],\n",
    "    'Ventas': [100, 150, 200, 250]\n",
    "})\n",
    "\n",
    "# Pivotear la tabla para tener los meses como columnas\n",
    "df_pivot = df_ventas.pivot(\n",
    "    values='Ventas',\n",
    "    index='Producto',\n",
    "    on='Mes'\n",
    ")\n",
    "\n",
    "print(df_pivot)"
   ]
  },
  {
   "cell_type": "code",
   "execution_count": 6,
   "metadata": {},
   "outputs": [
    {
     "data": {
      "text/html": [
       "<div><style>\n",
       ".dataframe > thead > tr,\n",
       ".dataframe > tbody > tr {\n",
       "  text-align: right;\n",
       "  white-space: pre-wrap;\n",
       "}\n",
       "</style>\n",
       "<small>shape: (4, 3)</small><table border=\"1\" class=\"dataframe\"><thead><tr><th>Producto</th><th>variable</th><th>value</th></tr><tr><td>str</td><td>str</td><td>i64</td></tr></thead><tbody><tr><td>&quot;Laptop&quot;</td><td>&quot;Enero&quot;</td><td>100</td></tr><tr><td>&quot;Tablet&quot;</td><td>&quot;Enero&quot;</td><td>200</td></tr><tr><td>&quot;Laptop&quot;</td><td>&quot;Febrero&quot;</td><td>150</td></tr><tr><td>&quot;Tablet&quot;</td><td>&quot;Febrero&quot;</td><td>250</td></tr></tbody></table></div>"
      ],
      "text/plain": [
       "shape: (4, 3)\n",
       "┌──────────┬──────────┬───────┐\n",
       "│ Producto ┆ variable ┆ value │\n",
       "│ ---      ┆ ---      ┆ ---   │\n",
       "│ str      ┆ str      ┆ i64   │\n",
       "╞══════════╪══════════╪═══════╡\n",
       "│ Laptop   ┆ Enero    ┆ 100   │\n",
       "│ Tablet   ┆ Enero    ┆ 200   │\n",
       "│ Laptop   ┆ Febrero  ┆ 150   │\n",
       "│ Tablet   ┆ Febrero  ┆ 250   │\n",
       "└──────────┴──────────┴───────┘"
      ]
     },
     "execution_count": 6,
     "metadata": {},
     "output_type": "execute_result"
    }
   ],
   "source": [
    "df_unpivot = df_pivot.unpivot(\n",
    "    index='Producto',\n",
    "    on=['Enero', 'Febrero']\n",
    ")\n",
    "\n",
    "df_unpivot"
   ]
  },
  {
   "cell_type": "markdown",
   "metadata": {},
   "source": [
    "En este ejemplo, el método `pivot()` transforma la tabla de modo que los meses se convierten en columnas y las ventas se agregan como valores."
   ]
  },
  {
   "cell_type": "markdown",
   "metadata": {},
   "source": [
    "### **4. Visualización con Seaborn**\n",
    "\n",
    "Polars no tiene una biblioteca de visualización integrada, pero puedes utilizar bibliotecas de visualización como **Seaborn** o **Matplotlib** para crear gráficos a partir de DataFrames de Polars. Para ello, necesitas convertir el DataFrame de Polars a Pandas primero.\n",
    "\n",
    "#### **Ejemplo: Visualización con Seaborn**\n",
    "\n",
    "Convertiremos un DataFrame de Polars a Pandas para crear un gráfico de barras con Seaborn."
   ]
  },
  {
   "cell_type": "code",
   "execution_count": 7,
   "metadata": {},
   "outputs": [
    {
     "data": {
      "image/png": "[encoded data removed]",
      "text/plain": [
       "<Figure size 640x480 with 1 Axes>"
      ]
     },
     "metadata": {},
     "output_type": "display_data"
    }
   ],
   "source": [
    "import seaborn as sns\n",
    "import matplotlib.pyplot as plt\n",
    "\n",
    "# Convertir el DataFrame de Polars a Pandas\n",
    "df_pandas = df_pivot.to_pandas()\n",
    "\n",
    "# Crear un gráfico de barras con Seaborn\n",
    "sns.barplot(data=df_pandas, x='Producto', y='Enero')\n",
    "plt.title('Ventas de Enero por Producto')\n",
    "plt.xlabel('Producto')\n",
    "plt.ylabel('Ventas')\n",
    "plt.show()"
   ]
  },
  {
   "cell_type": "markdown",
   "metadata": {},
   "source": [
    "### **1. Concatenación de DataFrames con Polars**\n",
    "\n",
    "La **concatenación** de DataFrames se utiliza para unir dos o más DataFrames, ya sea apilándolos verticalmente (filas) o uniéndolos horizontalmente (columnas). En Polars, utilizamos la función **`pl.concat()`** para realizar esta operación.\n",
    "\n",
    "#### **Concatenación Vertical (Agregar Filas)**\n",
    "\n",
    "Esta es la forma más común de concatenación, en la que los DataFrames se apilan uno debajo del otro.\n",
    "\n",
    "**Ejemplo: Concatenar dos DataFrames verticalmente**"
   ]
  },
  {
   "cell_type": "code",
   "execution_count": 3,
   "metadata": {},
   "outputs": [
    {
     "name": "stdout",
     "output_type": "stream",
     "text": [
      "shape: (4, 2)\n",
      "┌────────────┬────────┐\n",
      "│ Producto   ┆ Precio │\n",
      "│ ---        ┆ ---    │\n",
      "│ str        ┆ i64    │\n",
      "╞════════════╪════════╡\n",
      "│ Laptop     ┆ 1000   │\n",
      "│ Tablet     ┆ 500    │\n",
      "│ Smartphone ┆ 800    │\n",
      "│ Monitor    ┆ 300    │\n",
      "└────────────┴────────┘\n"
     ]
    }
   ],
   "source": [
    "# Crear dos DataFrames de ejemplo\n",
    "df1 = pl.DataFrame({\n",
    "    'Producto': ['Laptop', 'Tablet'],\n",
    "    'Precio': [1000, 500]\n",
    "})\n",
    "\n",
    "df2 = pl.DataFrame({\n",
    "    'Producto': ['Smartphone', 'Monitor'],\n",
    "    'Precio': [800, 300]\n",
    "})\n",
    "\n",
    "# Concatenar los DataFrames verticalmente\n",
    "df_concatenado = pl.concat([df1, df2])\n",
    "\n",
    "print(df_concatenado)"
   ]
  },
  {
   "cell_type": "markdown",
   "metadata": {},
   "source": [
    "En este ejemplo, `pl.concat()` apila las filas de `df1` y `df2` en un solo DataFrame.\n",
    "\n",
    "#### **Concatenación Horizontal (Agregar Columnas)**\n",
    "\n",
    "Puedes usar `pl.concat()` con el argumento `how='horizontal'` para unir DataFrames por columnas.\n",
    "\n",
    "**Ejemplo: Concatenar dos DataFrames horizontalmente**"
   ]
  },
  {
   "cell_type": "code",
   "execution_count": 4,
   "metadata": {},
   "outputs": [
    {
     "name": "stdout",
     "output_type": "stream",
     "text": [
      "shape: (2, 4)\n",
      "┌──────────┬──────────┬────────┬───────────┐\n",
      "│ Producto ┆ Cantidad ┆ Precio ┆ Descuento │\n",
      "│ ---      ┆ ---      ┆ ---    ┆ ---       │\n",
      "│ str      ┆ i64      ┆ i64    ┆ f64       │\n",
      "╞══════════╪══════════╪════════╪═══════════╡\n",
      "│ Laptop   ┆ 5        ┆ 1000   ┆ 0.1       │\n",
      "│ Tablet   ┆ 10       ┆ 500    ┆ 0.2       │\n",
      "└──────────┴──────────┴────────┴───────────┘\n"
     ]
    }
   ],
   "source": [
    "# Crear dos DataFrames de ejemplo\n",
    "df3 = pl.DataFrame({\n",
    "    'Producto': ['Laptop', 'Tablet'],\n",
    "    'Cantidad': [5, 10]\n",
    "})\n",
    "\n",
    "df4 = pl.DataFrame({\n",
    "    'Precio': [1000, 500],\n",
    "    'Descuento': [0.1, 0.2]\n",
    "})\n",
    "\n",
    "# Concatenar los DataFrames horizontalmente\n",
    "df_concatenado_hor = pl.concat([df3, df4], how='horizontal')\n",
    "\n",
    "print(df_concatenado_hor)"
   ]
  },
  {
   "cell_type": "markdown",
   "metadata": {},
   "source": [
    "En este caso, las columnas de `df3` y `df4` se combinan en un solo DataFrame.\n",
    "\n",
    "### **2. Merge de DataFrames con Polars**\n",
    "\n",
    "El **merge** (unión) de DataFrames en Polars se realiza con la función **`join()`**, que es equivalente a una operación de JOIN en SQL. Esta función permite combinar dos DataFrames basándose en una o más columnas clave comunes.\n",
    "\n",
    "#### **Tipos de Merge (Join) en Polars:**\n",
    "\n",
    "- **Inner Join**: Retorna solo las filas que tienen coincidencias en ambos DataFrames.\n",
    "- **Left Join**: Retorna todas las filas del DataFrame izquierdo y las coincidencias del derecho.\n",
    "- **Right Join**: Retorna todas las filas del DataFrame derecho y las coincidencias del izquierdo.\n",
    "- **Outer Join**: Retorna todas las filas de ambos DataFrames, con valores nulos en las filas sin coincidencias.\n",
    "\n",
    "#### **Ejemplo: Merge usando `join()`**\n",
    "\n",
    "**Merge utilizando Inner Join**"
   ]
  },
  {
   "cell_type": "code",
   "execution_count": 5,
   "metadata": {},
   "outputs": [
    {
     "name": "stdout",
     "output_type": "stream",
     "text": [
      "shape: (2, 3)\n",
      "┌────────────┬────────┬────────┐\n",
      "│ Producto   ┆ Ventas ┆ Precio │\n",
      "│ ---        ┆ ---    ┆ ---    │\n",
      "│ str        ┆ i64    ┆ i64    │\n",
      "╞════════════╪════════╪════════╡\n",
      "│ Laptop     ┆ 100    ┆ 1000   │\n",
      "│ Smartphone ┆ 150    ┆ 800    │\n",
      "└────────────┴────────┴────────┘\n"
     ]
    }
   ],
   "source": [
    "# Crear dos DataFrames de ejemplo\n",
    "df5 = pl.DataFrame({\n",
    "    'Producto': ['Laptop', 'Tablet', 'Smartphone'],\n",
    "    'Ventas': [100, 200, 150]\n",
    "})\n",
    "\n",
    "df6 = pl.DataFrame({\n",
    "    'Producto': ['Laptop', 'Smartphone', 'Monitor'],\n",
    "    'Precio': [1000, 800, 300]\n",
    "})\n",
    "\n",
    "# Realizar un inner join en la columna 'Producto'\n",
    "df_merged = df5.join(df6, on='Producto', how='inner')\n",
    "\n",
    "print(df_merged)"
   ]
  },
  {
   "cell_type": "markdown",
   "metadata": {},
   "source": [
    "En este ejemplo, el resultado incluirá solo los productos que existen en ambos DataFrames.\n",
    "\n",
    "**Merge utilizando Left Join**"
   ]
  },
  {
   "cell_type": "code",
   "execution_count": 6,
   "metadata": {},
   "outputs": [
    {
     "name": "stdout",
     "output_type": "stream",
     "text": [
      "shape: (3, 3)\n",
      "┌────────────┬────────┬────────┐\n",
      "│ Producto   ┆ Ventas ┆ Precio │\n",
      "│ ---        ┆ ---    ┆ ---    │\n",
      "│ str        ┆ i64    ┆ i64    │\n",
      "╞════════════╪════════╪════════╡\n",
      "│ Laptop     ┆ 100    ┆ 1000   │\n",
      "│ Tablet     ┆ 200    ┆ null   │\n",
      "│ Smartphone ┆ 150    ┆ 800    │\n",
      "└────────────┴────────┴────────┘\n"
     ]
    }
   ],
   "source": [
    "# Realizar un left join en la columna 'Producto'\n",
    "df_merged_left = df5.join(df6, on='Producto', how='left')\n",
    "\n",
    "print(df_merged_left)"
   ]
  }
 ],
 "metadata": {
  "kernelspec": {
   "display_name": "curso-ine",
   "language": "python",
   "name": "python3"
  },
  "language_info": {
   "codemirror_mode": {
    "name": "ipython",
    "version": 3
   },
   "file_extension": ".py",
   "mimetype": "text/x-python",
   "name": "python",
   "nbconvert_exporter": "python",
   "pygments_lexer": "ipython3",
   "version": "3.11.9"
  }
 },
 "nbformat": 4,
 "nbformat_minor": 2
}
