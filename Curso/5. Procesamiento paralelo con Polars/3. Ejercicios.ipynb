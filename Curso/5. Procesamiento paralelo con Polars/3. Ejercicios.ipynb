{
 "cells": [
  {
   "cell_type": "markdown",
   "metadata": {},
   "source": [
    "### **Ejercicios con Polars**\n",
    "\n",
    "A continuación, te presento 5 ejercicios que cubren los conceptos vistos en Polars, además de un ejercicio adicional para explorar una funcionalidad no cubierta previamente.\n",
    "\n",
    "#### **Ejercicio 1: Creación de Nuevas Columnas y Cálculo de Ganancias**\n",
    "\n",
    "Utilizando el dataset `polars_dataset.csv`, realiza lo siguiente:\n",
    "\n",
    "1. Importa el dataset usando Polars.\n",
    "2. Crea una nueva columna llamada `Valor_Ventas` que multiplique la columna `Precio` por `Cantidad`.\n",
    "3. Aplica un descuento utilizando la columna `Descuento` y crea una nueva columna llamada `Valor_Final` que reste el descuento del `Valor_Ventas`.\n"
   ]
  },
  {
   "cell_type": "code",
   "execution_count": null,
   "metadata": {},
   "outputs": [],
   "source": []
  },
  {
   "cell_type": "markdown",
   "metadata": {},
   "source": [
    "#### **Ejercicio 2: Filtrado y Tratamiento de Valores Nulos**\n",
    "\n",
    "1. Filtra los productos vendidos en la región \"Norte\".\n",
    "2. Calcula el promedio de `Precio` por producto en esta región.\n",
    "3. Introduce valores nulos aleatorios en la columna `Cantidad` y luego reemplaza los valores nulos por la media de la columna."
   ]
  },
  {
   "cell_type": "code",
   "execution_count": null,
   "metadata": {},
   "outputs": [],
   "source": []
  },
  {
   "cell_type": "markdown",
   "metadata": {},
   "source": [
    "#### **Ejercicio 3: Eliminación de Duplicados y Resumen de Datos**\n",
    "\n",
    "1. Identifica y elimina las filas duplicadas basadas en las columnas `Producto` y `Mes`.\n",
    "2. Calcula la cantidad total de ventas (`Cantidad`) por `Mes` y `Producto` después de eliminar los duplicados.\n",
    "3. Realiza un resumen estadístico del DataFrame usando la función `describe()`."
   ]
  },
  {
   "cell_type": "code",
   "execution_count": null,
   "metadata": {},
   "outputs": [],
   "source": []
  },
  {
   "cell_type": "markdown",
   "metadata": {},
   "source": [
    "#### **Ejercicio 4: Pivotear Tablas y Visualización**\n",
    "\n",
    "1. Utiliza el dataset para pivotear los datos, de modo que cada columna represente un `Mes` y cada fila un `Producto`, con los valores de `Cantidad`.\n",
    "2. Convierte el DataFrame resultante a Pandas y crea un gráfico de barras que muestre las ventas totales de cada mes por producto."
   ]
  },
  {
   "cell_type": "code",
   "execution_count": null,
   "metadata": {},
   "outputs": [],
   "source": []
  },
  {
   "cell_type": "markdown",
   "metadata": {},
   "source": [
    "#### **Ejercicio 5: Uso de Lazy Execution en Polars**\n",
    "\n",
    "1. Carga el dataset en modo `lazy` y filtra todas las filas donde `Precio` sea mayor a 500.\n",
    "2. Agrupa los datos por `Producto` y calcula la suma de la columna `Valor_Final` para cada producto.\n",
    "3. Realiza estas operaciones en un solo paso utilizando `collect()` y compara el tiempo de ejecución con el modo normal."
   ]
  },
  {
   "cell_type": "code",
   "execution_count": null,
   "metadata": {},
   "outputs": [],
   "source": []
  },
  {
   "cell_type": "markdown",
   "metadata": {},
   "source": [
    "### **Ejercicio 6:Merge y Concatenación**\n",
    "\n",
    "1. **Concatenación:**\n",
    "   - Carga ambos datasets (`ventas_dataset.csv` y `precio_dataset.csv`) usando Polars.\n",
    "   - Concatenar ambos DataFrames verticalmente para crear un dataset extendido con información de ventas y precios, alineando las columnas comunes.\n",
    "\n",
    "2. **Merge (Join):**\n",
    "   - Realiza un `inner join` entre ambos datasets utilizando las columnas `Producto` y `Region` para combinar la información de ventas y precios.\n",
    "   - Luego, experimenta con un `left join` para entender cómo se manejan los valores sin coincidencias.\n",
    "\n",
    "3. **Desafío adicional:**\n",
    "   - Aplica transformaciones adicionales a las columnas no utilizadas en el índice, como calcular un precio final ajustado por región o mes, y analiza en qué contextos esta combinación puede ser útil para la toma de decisiones comerciales."
   ]
  },
  {
   "cell_type": "code",
   "execution_count": null,
   "metadata": {},
   "outputs": [],
   "source": []
  },
  {
   "cell_type": "markdown",
   "metadata": {},
   "source": [
    "#### **Ejercicio 7: Investigación - Usando la Función `window` para Operaciones de Ventanas**\n",
    "\n",
    "Investiga cómo usar la función `window` en Polars para realizar operaciones de ventanas, como cálculos de medias móviles o acumulativos. Aplícalo para calcular el promedio móvil de las ventas (`Valor_Ventas`) en un periodo de 3 meses."
   ]
  },
  {
   "cell_type": "code",
   "execution_count": null,
   "metadata": {},
   "outputs": [],
   "source": []
  }
 ],
 "metadata": {
  "language_info": {
   "name": "python"
  }
 },
 "nbformat": 4,
 "nbformat_minor": 2
}
