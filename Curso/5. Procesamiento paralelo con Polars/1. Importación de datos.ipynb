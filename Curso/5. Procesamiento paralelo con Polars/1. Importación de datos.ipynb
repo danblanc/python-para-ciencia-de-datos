{
 "cells": [
  {
   "cell_type": "markdown",
   "metadata": {},
   "source": [
    "### **Importación de Datos con Polars**\n",
    "\n",
    "En este apartado, aprenderemos a importar datos utilizando **Polars**. Al igual que **Pandas**, Polars ofrece funciones para cargar datos desde diferentes fuentes, como archivos CSV, JSON, Parquet, entre otros. La principal diferencia es que Polars está diseñado para ser más rápido y eficiente en el manejo de grandes volúmenes de datos gracias a su implementación en **Rust**.\n",
    "\n",
    "#### **1. Importación de Datos desde CSV**\n",
    "\n",
    "Los archivos **CSV** (Comma-Separated Values) son uno de los formatos más comunes para almacenar y compartir datos tabulares. Polars proporciona una función rápida y eficiente para cargar archivos CSV.\n",
    "\n",
    "**Ejemplo: Importar un archivo CSV**"
   ]
  },
  {
   "cell_type": "code",
   "execution_count": 3,
   "metadata": {},
   "outputs": [
    {
     "name": "stdout",
     "output_type": "stream",
     "text": [
      "shape: (5, 3)\n",
      "┌──────────┬───────────┬──────────┐\n",
      "│ columna1 ┆ columna2  ┆ columna3 │\n",
      "│ ---      ┆ ---       ┆ ---      │\n",
      "│ i64      ┆ f64       ┆ str      │\n",
      "╞══════════╪═══════════╪══════════╡\n",
      "│ 20       ┆ 85.404828 ┆ D        │\n",
      "│ 19       ┆ 53.357577 ┆ A        │\n",
      "│ 66       ┆ 47.322209 ┆ A        │\n",
      "│ 88       ┆ 64.075688 ┆ B        │\n",
      "│ 75       ┆ 24.14739  ┆ B        │\n",
      "└──────────┴───────────┴──────────┘\n"
     ]
    }
   ],
   "source": [
    "import polars as pl\n",
    "\n",
    "# Importar datos desde un archivo CSV\n",
    "df = pl.read_csv('data/archivo.csv')\n",
    "\n",
    "# Mostrar las primeras filas del DataFrame\n",
    "print(df.head())"
   ]
  },
  {
   "cell_type": "markdown",
   "metadata": {},
   "source": [
    "**Parámetros comunes de `read_csv`**:\n",
    "\n",
    "- `file`: Ruta del archivo CSV o URL del archivo.\n",
    "- `has_header`: Indica si el archivo CSV tiene una fila de encabezado (`True` por defecto).\n",
    "- `separator`: Especifica el delimitador del archivo CSV (`,` por defecto).\n",
    "- `columns`: Lista de columnas que se desean importar.\n",
    "- `n_rows`: Número de filas a leer (útil para pruebas o muestras).\n",
    "\n",
    "**Ejemplo con parámetros adicionales:**"
   ]
  },
  {
   "cell_type": "code",
   "execution_count": 6,
   "metadata": {},
   "outputs": [
    {
     "name": "stdout",
     "output_type": "stream",
     "text": [
      "shape: (5, 2)\n",
      "┌──────────┬───────────┐\n",
      "│ columna1 ┆ columna2  │\n",
      "│ ---      ┆ ---       │\n",
      "│ i64      ┆ f64       │\n",
      "╞══════════╪═══════════╡\n",
      "│ 20       ┆ 85.404828 │\n",
      "│ 19       ┆ 53.357577 │\n",
      "│ 66       ┆ 47.322209 │\n",
      "│ 88       ┆ 64.075688 │\n",
      "│ 75       ┆ 24.14739  │\n",
      "└──────────┴───────────┘\n"
     ]
    }
   ],
   "source": [
    "df = pl.read_csv(\n",
    "    'data/archivo.csv',\n",
    "    has_header=True,\n",
    "    separator=',',\n",
    "    columns=['columna1', 'columna2'],  # Solo carga las columnas seleccionadas\n",
    "    n_rows=100  # Solo carga las primeras 100 filas\n",
    ")\n",
    "\n",
    "print(df.head())"
   ]
  },
  {
   "cell_type": "markdown",
   "metadata": {},
   "source": [
    "#### **2. Importación de Datos desde JSON**\n",
    "\n",
    "El formato **JSON** (JavaScript Object Notation) es ampliamente utilizado para intercambiar datos estructurados, especialmente en aplicaciones web.\n",
    "\n",
    "**Ejemplo: Importar datos desde un archivo JSON**"
   ]
  },
  {
   "cell_type": "code",
   "execution_count": 7,
   "metadata": {},
   "outputs": [
    {
     "name": "stdout",
     "output_type": "stream",
     "text": [
      "shape: (5, 3)\n",
      "┌─────┬───────────┬───────────┐\n",
      "│ id  ┆ valor     ┆ categoria │\n",
      "│ --- ┆ ---       ┆ ---       │\n",
      "│ i64 ┆ f64       ┆ str       │\n",
      "╞═════╪═══════════╪═══════════╡\n",
      "│ 1   ┆ -1.438251 ┆ Y         │\n",
      "│ 2   ┆ -0.171892 ┆ Z         │\n",
      "│ 3   ┆ -0.765144 ┆ X         │\n",
      "│ 4   ┆ 0.618289  ┆ Y         │\n",
      "│ 5   ┆ -0.36431  ┆ Z         │\n",
      "└─────┴───────────┴───────────┘\n"
     ]
    }
   ],
   "source": [
    "# Importar datos desde un archivo JSON\n",
    "df = pl.read_json('data/archivo.json')\n",
    "\n",
    "print(df.head())"
   ]
  },
  {
   "cell_type": "markdown",
   "metadata": {},
   "source": [
    "#### **3. Importación de Datos desde Excel (utilizando intermediarios)**\n",
    "\n",
    "Polars no tiene soporte directo para archivos Excel, pero puedes leer archivos Excel utilizando **Pandas** como intermediario y luego convertir el DataFrame de Pandas a Polars.\n",
    "\n",
    "**Ejemplo: Importar datos desde un archivo Excel**"
   ]
  },
  {
   "cell_type": "code",
   "execution_count": 10,
   "metadata": {},
   "outputs": [
    {
     "name": "stdout",
     "output_type": "stream",
     "text": [
      "shape: (5, 3)\n",
      "┌───────────┬──────────┬───────────┐\n",
      "│ Empresa   ┆ Ingresos ┆ Empleados │\n",
      "│ ---       ┆ ---      ┆ ---       │\n",
      "│ str       ┆ i64      ┆ i64       │\n",
      "╞═══════════╪══════════╪═══════════╡\n",
      "│ Microsoft ┆ 232121   ┆ 3850      │\n",
      "│ Amazon    ┆ 402821   ┆ 5362      │\n",
      "│ Amazon    ┆ 329157   ┆ 2696      │\n",
      "│ Google    ┆ 175779   ┆ 9509      │\n",
      "│ Amazon    ┆ 71964    ┆ 6630      │\n",
      "└───────────┴──────────┴───────────┘\n"
     ]
    }
   ],
   "source": [
    "import pandas as pd\n",
    "import polars as pl\n",
    "\n",
    "# Leer datos desde Excel con Pandas\n",
    "df_pandas = pd.read_excel('data/archivo.xlsx', sheet_name='Hoja1')\n",
    "\n",
    "# Convertir DataFrame de Pandas a Polars\n",
    "df_polars = pl.from_pandas(df_pandas)\n",
    "\n",
    "print(df_polars.head())"
   ]
  },
  {
   "cell_type": "markdown",
   "metadata": {},
   "source": [
    "En Polars, no hay una función directa equivalente a info, pero se puede usar la combinación de funciones para obtener información básica del DataFrame.\n",
    "\n",
    "Ejemplo: Verificar la estructura del DataFrame\n",
    "\n",
    "\t•\tdf.dtypes: Devuelve los tipos de datos de cada columna.\n",
    "\t•\tdf.shape: Devuelve el número de filas y columnas del DataFrame."
   ]
  },
  {
   "cell_type": "code",
   "execution_count": 12,
   "metadata": {},
   "outputs": [
    {
     "name": "stdout",
     "output_type": "stream",
     "text": [
      "[Int64, Float64, String]\n",
      "(1000, 3)\n"
     ]
    }
   ],
   "source": [
    "import polars as pl\n",
    "\n",
    "# Cargar datos desde un archivo CSV\n",
    "df = pl.read_csv('data/archivo.csv')\n",
    "\n",
    "# Obtener tipos de datos de cada columna\n",
    "print(df.dtypes)\n",
    "\n",
    "# Obtener la forma del DataFrame\n",
    "print(df.shape)"
   ]
  },
  {
   "cell_type": "code",
   "execution_count": 13,
   "metadata": {},
   "outputs": [
    {
     "name": "stdout",
     "output_type": "stream",
     "text": [
      "shape: (9, 4)\n",
      "┌────────────┬──────────┬───────────┬──────────┐\n",
      "│ statistic  ┆ columna1 ┆ columna2  ┆ columna3 │\n",
      "│ ---        ┆ ---      ┆ ---       ┆ ---      │\n",
      "│ str        ┆ f64      ┆ f64       ┆ str      │\n",
      "╞════════════╪══════════╪═══════════╪══════════╡\n",
      "│ count      ┆ 1000.0   ┆ 1000.0    ┆ 1000     │\n",
      "│ null_count ┆ 0.0      ┆ 0.0       ┆ 0        │\n",
      "│ mean       ┆ 50.992   ┆ 50.008492 ┆ null     │\n",
      "│ std        ┆ 28.38707 ┆ 28.754661 ┆ null     │\n",
      "│ min        ┆ 1.0      ┆ 0.29567   ┆ A        │\n",
      "│ 25%        ┆ 28.0     ┆ 24.407716 ┆ null     │\n",
      "│ 50%        ┆ 51.0     ┆ 50.015555 ┆ null     │\n",
      "│ 75%        ┆ 75.0     ┆ 75.042902 ┆ null     │\n",
      "│ max        ┆ 99.0     ┆ 99.904654 ┆ D        │\n",
      "└────────────┴──────────┴───────────┴──────────┘\n"
     ]
    }
   ],
   "source": [
    "# Generar estadísticas descriptivas del DataFrame\n",
    "print(df.describe())"
   ]
  },
  {
   "cell_type": "code",
   "execution_count": 14,
   "metadata": {},
   "outputs": [
    {
     "name": "stdout",
     "output_type": "stream",
     "text": [
      "shape: (1_000, 2)\n",
      "┌──────────┬───────────┐\n",
      "│ columna1 ┆ columna2  │\n",
      "│ ---      ┆ ---       │\n",
      "│ i64      ┆ f64       │\n",
      "╞══════════╪═══════════╡\n",
      "│ 20       ┆ 85.404828 │\n",
      "│ 19       ┆ 53.357577 │\n",
      "│ 66       ┆ 47.322209 │\n",
      "│ 88       ┆ 64.075688 │\n",
      "│ 75       ┆ 24.14739  │\n",
      "│ …        ┆ …         │\n",
      "│ 69       ┆ 95.261299 │\n",
      "│ 16       ┆ 48.270071 │\n",
      "│ 63       ┆ 97.16859  │\n",
      "│ 37       ┆ 47.592691 │\n",
      "│ 6        ┆ 87.57347  │\n",
      "└──────────┴───────────┘\n"
     ]
    }
   ],
   "source": [
    "# Seleccionar columnas específicas\n",
    "df_seleccion = df.select(['columna1', 'columna2'])\n",
    "print(df_seleccion)"
   ]
  },
  {
   "cell_type": "code",
   "execution_count": 15,
   "metadata": {},
   "outputs": [
    {
     "name": "stdout",
     "output_type": "stream",
     "text": [
      "shape: (505, 3)\n",
      "┌──────────┬───────────┬──────────┐\n",
      "│ columna1 ┆ columna2  ┆ columna3 │\n",
      "│ ---      ┆ ---       ┆ ---      │\n",
      "│ i64      ┆ f64       ┆ str      │\n",
      "╞══════════╪═══════════╪══════════╡\n",
      "│ 66       ┆ 47.322209 ┆ A        │\n",
      "│ 88       ┆ 64.075688 ┆ B        │\n",
      "│ 75       ┆ 24.14739  ┆ B        │\n",
      "│ 57       ┆ 33.824126 ┆ D        │\n",
      "│ 85       ┆ 0.71501   ┆ B        │\n",
      "│ …        ┆ …         ┆ …        │\n",
      "│ 97       ┆ 64.663124 ┆ C        │\n",
      "│ 97       ┆ 24.407716 ┆ B        │\n",
      "│ 97       ┆ 47.146153 ┆ D        │\n",
      "│ 69       ┆ 95.261299 ┆ B        │\n",
      "│ 63       ┆ 97.16859  ┆ C        │\n",
      "└──────────┴───────────┴──────────┘\n"
     ]
    }
   ],
   "source": [
    "# Filtrar filas donde los valores de una columna son mayores a un valor específico\n",
    "df_filtrado = df.filter(pl.col('columna1') > 50)\n",
    "print(df_filtrado)"
   ]
  }
 ],
 "metadata": {
  "kernelspec": {
   "display_name": "curso-ine",
   "language": "python",
   "name": "python3"
  },
  "language_info": {
   "codemirror_mode": {
    "name": "ipython",
    "version": 3
   },
   "file_extension": ".py",
   "mimetype": "text/x-python",
   "name": "python",
   "nbconvert_exporter": "python",
   "pygments_lexer": "ipython3",
   "version": "3.11.9"
  }
 },
 "nbformat": 4,
 "nbformat_minor": 2
}
