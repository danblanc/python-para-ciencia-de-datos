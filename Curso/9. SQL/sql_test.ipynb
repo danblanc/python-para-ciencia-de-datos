{
 "cells": [
  {
   "cell_type": "markdown",
   "metadata": {},
   "source": [
    "### **Cuestionario de Evaluación sobre SQL (Opción Múltiple)**\n",
    "\n",
    "A continuación, se presenta un cuestionario de 10 preguntas con opciones múltiples, basado en los conceptos fundamentales de SQL. A continuación de cada pregunta, tendrás un `input` de Python para ingresar la respuesta, y al final, se te devolverá la calificación. Recuerda que puedes sobreescribir los inputs si cambias de opinión. Al ingresar la respuesta, hazlo siempre ingresando únicamente la letra de la opción que entiendas correcta y en minúscula."
   ]
  },
  {
   "cell_type": "markdown",
   "metadata": {},
   "source": [
    "#### **1. ¿Cuál de las siguientes sentencias pertenece al DML (Data Manipulation Language) de SQL?**\n",
    "\n",
    "a) CREATE TABLE  \n",
    "b) DROP DATABASE  \n",
    "c) UPDATE clientes SET nombre = 'Carlos' WHERE id = 5  \n",
    "d) GRANT SELECT ON productos TO usuario1  "
   ]
  },
  {
   "cell_type": "code",
   "execution_count": 31,
   "metadata": {},
   "outputs": [],
   "source": [
    "p1 = ''"
   ]
  },
  {
   "cell_type": "markdown",
   "metadata": {},
   "source": [
    "#### **2. ¿Qué comando se utiliza para crear una nueva base de datos en SQL?**\n",
    "\n",
    "a) CREATE DATABASE  \n",
    "b) NEW DATABASE  \n",
    "c) ADD DATABASE  \n",
    "d) INSERT DATABASE  "
   ]
  },
  {
   "cell_type": "code",
   "execution_count": 32,
   "metadata": {},
   "outputs": [],
   "source": [
    "p2 = ''"
   ]
  },
  {
   "cell_type": "markdown",
   "metadata": {},
   "source": [
    "#### **3. Dada la siguiente tabla `ventas`, ¿cuál es la consulta correcta para obtener el nombre del producto y el total de ingresos (cantidad * precio) solo para aquellos productos cuyo ingreso total sea mayor a 500?**\n",
    "\n",
    "```sql\n",
    "producto | cantidad | precio\n",
    "----------------------------\n",
    "A        |   10     |  20\n",
    "B        |   5      |  15\n",
    "C        |   30     |  18\n",
    "```\n",
    "\n",
    "a) `SELECT producto, cantidad * precio AS total_ingresos FROM ventas WHERE cantidad > 500;`  \n",
    "b) `SELECT producto, (cantidad * precio) AS total_ingresos FROM ventas WHERE total_ingresos > 500;`  \n",
    "c) `SELECT producto, cantidad * precio AS total_ingresos FROM ventas HAVING total_ingresos > 500;`  \n",
    "d) `SELECT producto, (cantidad * precio) AS total_ingresos FROM ventas WHERE cantidad * precio > 500;`  "
   ]
  },
  {
   "cell_type": "code",
   "execution_count": 33,
   "metadata": {},
   "outputs": [],
   "source": [
    "p3 = ''"
   ]
  },
  {
   "cell_type": "markdown",
   "metadata": {},
   "source": [
    "#### **4. ¿Cuál de las siguientes consultas devuelve el nombre y el departamento de todos los empleados que trabajan en los departamentos de 'Marketing' o 'Ventas' y tienen más de 5 años de experiencia?**\n",
    "\n",
    "```sql\n",
    "empleados\n",
    "----------\n",
    "nombre     | departamento | experiencia\n",
    "---------------------------------------\n",
    "Laura      | Marketing    | 4\n",
    "José       | Ventas       | 6\n",
    "Carla      | IT           | 5\n",
    "Ana        | Marketing    | 7\n",
    "```\n",
    "\n",
    "a) `SELECT nombre, departamento FROM empleados WHERE departamento = 'Marketing' AND 'Ventas' AND experiencia > 5;`  \n",
    "b) `SELECT nombre, departamento FROM empleados WHERE departamento IN ('Marketing', 'Ventas') AND experiencia > 5;`  \n",
    "c) `SELECT nombre, departamento FROM empleados WHERE experiencia > 5 IN ('Marketing', 'Ventas');`  \n",
    "d) `SELECT nombre, departamento WHERE departamento IN ('Marketing', 'Ventas') AND experiencia > 5 FROM empleados;`  "
   ]
  },
  {
   "cell_type": "code",
   "execution_count": 34,
   "metadata": {},
   "outputs": [],
   "source": [
    "p4 = ''"
   ]
  },
  {
   "cell_type": "markdown",
   "metadata": {},
   "source": [
    "#### **5. ¿Cuál es el resultado de la siguiente consulta?**\n",
    "```sql\n",
    "SELECT departamento, COUNT(*) AS total_empleados\n",
    "FROM empleados\n",
    "GROUP BY departamento\n",
    "HAVING COUNT(*) > 2;\n",
    "```\n",
    "- Si `departamento` tiene las siguientes filas:\n",
    "```sql\n",
    "departamento\n",
    "------------\n",
    "Marketing\n",
    "Ventas\n",
    "IT\n",
    "Ventas\n",
    "Marketing\n",
    "Ventas\n",
    "IT\n",
    "```\n",
    "\n",
    "a) Devuelve todos los departamentos con más de 2 empleados, es decir, 'Ventas'.  \n",
    "b) Devuelve todos los departamentos con exactamente 2 empleados.  \n",
    "c) Devuelve todos los departamentos con menos de 2 empleados.  \n",
    "d) Devuelve los departamentos 'Marketing' y 'Ventas' con más de 2 empleados."
   ]
  },
  {
   "cell_type": "code",
   "execution_count": 35,
   "metadata": {},
   "outputs": [],
   "source": [
    "p5 = ''"
   ]
  },
  {
   "cell_type": "markdown",
   "metadata": {},
   "source": [
    "#### **6. La siguiente consulta SQL busca transformar datos en la tabla `productos`. Completa la consulta para agregar una columna calculada llamada `descuento_aplicado`, que reduzca el precio en un 10% si el precio es mayor a 50, y en un 5% en caso contrario. ¿Cuál es la opción correcta?**\n",
    "\n",
    "```sql\n",
    "SELECT nombre, precio,\n",
    "       CASE\n",
    "           WHEN precio > 50 THEN __________\n",
    "           ELSE __________\n",
    "       END AS descuento_aplicado\n",
    "FROM productos;\n",
    "```\n",
    "\n",
    "a) `precio * 0.9, precio * 0.95`  \n",
    "b) `precio - (precio * 0.1), precio - (precio * 0.05)`  \n",
    "c) `precio + (precio * 0.1), precio + (precio * 0.05)`  \n",
    "d) `precio * 0.10, precio * 0.05` "
   ]
  },
  {
   "cell_type": "code",
   "execution_count": 36,
   "metadata": {},
   "outputs": [],
   "source": [
    "p6 = ''"
   ]
  },
  {
   "cell_type": "markdown",
   "metadata": {},
   "source": [
    "#### **7. ¿Cómo se debe estructurar una consulta para obtener los tres empleados con los salarios más altos en la tabla `empleados`?**\n",
    "\n",
    "```sql\n",
    "empleados\n",
    "---------\n",
    "nombre    | salario\n",
    "-------------------\n",
    "Carlos    | 5000\n",
    "Ana       | 7000\n",
    "Miguel    | 4500\n",
    "Luisa     | 6000\n",
    "```\n",
    "\n",
    "a) `SELECT nombre, salario FROM empleados ORDER BY salario ASC LIMIT 3;`  \n",
    "b) `SELECT nombre, salario FROM empleados ORDER BY salario DESC LIMIT 3;`  \n",
    "c) `SELECT nombre, salario FROM empleados ORDER BY salario ASC TOP 3;`  \n",
    "d) `SELECT nombre, salario FROM empleados WHERE salario >= 5000;`  "
   ]
  },
  {
   "cell_type": "code",
   "execution_count": 37,
   "metadata": {},
   "outputs": [],
   "source": [
    "p7 = ''"
   ]
  },
  {
   "cell_type": "markdown",
   "metadata": {},
   "source": [
    "#### **8. La tabla `pedidos` tiene las columnas `cliente_id`, `producto_id` y `fecha_pedido`. ¿Cuál de las siguientes consultas encuentra el número total de pedidos realizados por cada cliente en el año 2022?**\n",
    "\n",
    "```sql\n",
    "pedidos\n",
    "---------\n",
    "cliente_id | producto_id | fecha_pedido\n",
    "----------------------------------------\n",
    "1          | 101         | 2022-01-15\n",
    "2          | 102         | 2021-12-12\n",
    "1          | 103         | 2022-07-22\n",
    "3          | 101         | 2022-04-30\n",
    "```\n",
    "\n",
    "a) `SELECT cliente_id, COUNT(*) AS total_pedidos FROM pedidos GROUP BY cliente_id;`  \n",
    "b) `SELECT cliente_id, COUNT(*) AS total_pedidos FROM pedidos WHERE fecha_pedido = 2022 GROUP BY cliente_id;`  \n",
    "c) `SELECT cliente_id, COUNT(*) AS total_pedidos FROM pedidos WHERE YEAR(fecha_pedido) = 2022 GROUP BY cliente_id;`  \n",
    "d) `SELECT cliente_id, COUNT(*) AS total_pedidos FROM pedidos WHERE fecha_pedido LIKE '2022%' GROUP BY cliente_id;`  \n"
   ]
  },
  {
   "cell_type": "code",
   "execution_count": 38,
   "metadata": {},
   "outputs": [],
   "source": [
    "p8 = ''"
   ]
  },
  {
   "cell_type": "markdown",
   "metadata": {},
   "source": [
    "#### **9. ¿Cuál es el propósito de la cláusula `LIMIT` en una consulta SQL y cómo se utiliza? ¿Cuál es la opción correcta para mostrar los primeros 3 productos con el precio más alto de la tabla `productos`?**\n",
    "\n",
    "```sql\n",
    "productos\n",
    "---------\n",
    "producto  | precio\n",
    "------------------\n",
    "X         | 50\n",
    "Y         | 80\n",
    "Z         | 30\n",
    "W         | 90\n",
    "```\n",
    "\n",
    "a) `SELECT producto, precio FROM productos ORDER BY precio DESC LIMIT 3;`  \n",
    "b) `SELECT producto, precio FROM productos ORDER BY precio ASC LIMIT 3;`  \n",
    "c) `SELECT producto, precio FROM productos LIMIT 3 ORDER BY precio DESC;`  \n",
    "d) `SELECT producto, precio FROM productos WHERE precio > 30;` "
   ]
  },
  {
   "cell_type": "code",
   "execution_count": 39,
   "metadata": {},
   "outputs": [],
   "source": [
    "p9 = ''"
   ]
  },
  {
   "cell_type": "markdown",
   "metadata": {},
   "source": [
    "#### **10. Escribe una consulta que devuelva el nombre del departamento y salario promedio por departamento, solo para aquellos departamentos donde el salario promedio sea superior a 3000. ¿Cuál es la opción correcta?**\n",
    "\n",
    "```sql\n",
    "empleados\n",
    "---------\n",
    "nombre    | departamento | salario\n",
    "-----------------------------\n",
    "Juan      | IT           | 3500\n",
    "Ana       | HR           | 2500\n",
    "Carlos    | IT           | 4000\n",
    "Beatriz   | Ventas       | 3000\n",
    "```\n",
    "\n",
    "a) `SELECT departamento, AVG(salario) FROM empleados WHERE AVG(salario) > 3000 GROUP BY departamento;`  \n",
    "b) `SELECT nombre, departamento, AVG(salario) FROM empleados GROUP BY departamento HAVING AVG(salario) > 3000;`  \n",
    "c) `SELECT departamento, AVG(salario) AS salario_promedio FROM empleados GROUP BY departamento HAVING AVG(salario) > 3000;`  \n",
    "d) `SELECT nombre, departamento FROM empleados WHERE salario > 3000;`  "
   ]
  },
  {
   "cell_type": "code",
   "execution_count": 40,
   "metadata": {},
   "outputs": [],
   "source": [
    "p10 = ''"
   ]
  },
  {
   "cell_type": "markdown",
   "metadata": {},
   "source": [
    "Enviar resultados:"
   ]
  },
  {
   "cell_type": "code",
   "execution_count": 43,
   "metadata": {},
   "outputs": [
    {
     "name": "stdout",
     "output_type": "stream",
     "text": [
      "A row has been added successfully.\n",
      "Nombre: daniel4, Respuestas correctas: 6, Resultado: Reprobado\n"
     ]
    }
   ],
   "source": [
    "from sqlalchemy import create_engine, text\n",
    "\n",
    "nombre = '' # Completa con tu nombre\n",
    "\n",
    "user = 'ine_user'\n",
    "password = ''\n",
    "host = 'db-ine.postgres.database.azure.com'\n",
    "port = 5432\n",
    "db = 'postgres'\n",
    "\n",
    "# Crear un engine\n",
    "engine = create_engine(f'postgresql+psycopg2://{user}:{password}@{host}:{port}/{db}')\n",
    "\n",
    "# Ejecutar una consulta simple\n",
    "with engine.begin() as connection:  # engine.begin() se asegura de que la transacción se haga commit\n",
    "    query = text(f\"\"\"\n",
    "        INSERT INTO respuestas (nombre, p1, p2, p3, p4, p5, p6, p7, p8, p9, p10)\n",
    "        VALUES (:nombre, :p1, :p2, :p3, :p4, :p5, :p6, :p7, :p8, :p9, :p10)\n",
    "    \"\"\")\n",
    "    result = connection.execute(query, {\n",
    "        'nombre': nombre,\n",
    "        'p1': p1,\n",
    "        'p2': p2,\n",
    "        'p3': p3,\n",
    "        'p4': p4,\n",
    "        'p5': p5,\n",
    "        'p6': p6,\n",
    "        'p7': p7,\n",
    "        'p8': p8,\n",
    "        'p9': p9,\n",
    "        'p10': p10\n",
    "    })\n",
    "    if result.rowcount == 1:\n",
    "        print(\"A row has been added successfully.\")\n",
    "    else:\n",
    "        print(f\"{result.rowcount} rows have been added.\")\n",
    "\n",
    "    score = connection.execute(text(f\"select * from resultados where nombre = '{nombre}'\"))\n",
    "\n",
    "    for row in score:\n",
    "        print(f\"Nombre: {row.nombre}, Respuestas correctas: {row.total_score}, Resultado: {row.calificacion}\")\n",
    "    "
   ]
  },
  {
   "cell_type": "markdown",
   "metadata": {},
   "source": []
  }
 ],
 "metadata": {
  "kernelspec": {
   "display_name": "loop",
   "language": "python",
   "name": "python3"
  },
  "language_info": {
   "codemirror_mode": {
    "name": "ipython",
    "version": 3
   },
   "file_extension": ".py",
   "mimetype": "text/x-python",
   "name": "python",
   "nbconvert_exporter": "python",
   "pygments_lexer": "ipython3",
   "version": "3.11.9"
  }
 },
 "nbformat": 4,
 "nbformat_minor": 2
}
