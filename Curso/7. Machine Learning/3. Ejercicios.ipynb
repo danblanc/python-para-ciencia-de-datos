{
 "cells": [
  {
   "cell_type": "markdown",
   "metadata": {},
   "source": [
    "### **Ejercicios de Machine Learning:**\n",
    "\n",
    "#### **Ejercicio 1: Regresión Simple**\n",
    "\n",
    "Utiliza el dataset `exercise1_regression.csv` para entrenar un modelo de regresión lineal que prediga la columna `Target` utilizando las demás características del dataset. Evalúa el modelo usando el error cuadrático medio (MSE) y el coeficiente de determinación (R²).\n",
    "\n",
    "\n",
    "\n"
   ]
  },
  {
   "cell_type": "code",
   "execution_count": null,
   "metadata": {},
   "outputs": [],
   "source": []
  },
  {
   "cell_type": "markdown",
   "metadata": {},
   "source": [
    "#### **Ejercicio 2: Clustering Simple**\n",
    "\n",
    "Usa el dataset `exercise2_clustering.csv` para aplicar un modelo de clustering **K-Means** y agrupar los datos en 3 clusters. Visualiza los clusters utilizando un gráfico de dispersión y analiza los resultados.\n"
   ]
  },
  {
   "cell_type": "code",
   "execution_count": null,
   "metadata": {},
   "outputs": [],
   "source": []
  },
  {
   "cell_type": "markdown",
   "metadata": {},
   "source": [
    "\n",
    "#### **Ejercicio 3: Clasificación con Transformación**\n",
    "\n",
    "Utiliza el dataset `exercise3_classification.csv` para entrenar un modelo de clasificación (por ejemplo, **Logistic Regression**) que prediga la columna `Purchased` utilizando las demás características del dataset. Antes del entrenamiento, aplica One-Hot Encoding a la columna `Gender` y normaliza las características numéricas. Evalúa el modelo usando la matriz de confusión y el reporte de clasificación.\n",
    "\n"
   ]
  },
  {
   "cell_type": "code",
   "execution_count": null,
   "metadata": {},
   "outputs": [],
   "source": []
  },
  {
   "cell_type": "markdown",
   "metadata": {},
   "source": [
    "#### **Ejercicio 4: Regresión con Transformación**\n",
    "\n",
    "Usa el dataset `exercise4_regression_transform.csv` para entrenar un modelo de regresión lineal que prediga `Performance_Score` utilizando las demás características del dataset. Antes de entrenar, aplica imputación para manejar valores faltantes en `Experience` y One-Hot Encoding en `Education`.\n",
    "\n"
   ]
  },
  {
   "cell_type": "code",
   "execution_count": null,
   "metadata": {},
   "outputs": [],
   "source": []
  },
  {
   "cell_type": "markdown",
   "metadata": {},
   "source": [
    "#### **Ejercicio 5: Pipeline con Múltiples Transformaciones**\n",
    "\n",
    "Utiliza el dataset `exercise5_pipeline.csv` para construir un `Pipeline` de Scikit-Learn que incluya:\n",
    "- Imputación de valores faltantes en cualquier columna con valores nulos.\n",
    "- Estandarización de características numéricas (`Height` y `Weight`).\n",
    "- One-Hot Encoding para la columna categórica `Activity_Level`.\n",
    "Entrena un modelo de regresión lineal para predecir `Calories_Burned`."
   ]
  },
  {
   "cell_type": "code",
   "execution_count": null,
   "metadata": {},
   "outputs": [],
   "source": []
  }
 ],
 "metadata": {
  "language_info": {
   "name": "python"
  }
 },
 "nbformat": 4,
 "nbformat_minor": 2
}
