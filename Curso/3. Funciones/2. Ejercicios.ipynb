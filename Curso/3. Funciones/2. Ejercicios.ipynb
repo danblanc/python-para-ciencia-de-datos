{
 "cells": [
  {
   "cell_type": "markdown",
   "metadata": {},
   "source": [
    "## Ejercicios sobre Funciones"
   ]
  },
  {
   "cell_type": "markdown",
   "metadata": {},
   "source": [
    "### 1. Función \"Multiplicar lista\"\n",
    "Escribe una función llamada `multiplicar_lista` que reciba una lista de números y un número entero, y devuelva una nueva lista con cada número multiplicado por el entero."
   ]
  },
  {
   "cell_type": "code",
   "execution_count": null,
   "metadata": {},
   "outputs": [],
   "source": [
    "def multiplicar_lista(lista, n):\n",
    "    # Tu código aquí\n",
    "    pass\n",
    "\n",
    "# Prueba la función\n",
    "lista_numeros = [1, 2, 3, 4]\n",
    "resultado = multiplicar_lista(lista_numeros, 3)\n",
    "print(resultado)  # Output esperado: [3, 6, 9, 12]"
   ]
  },
  {
   "cell_type": "markdown",
   "metadata": {},
   "source": [
    "### 2. Función \"Contar vocales\"\n",
    "Escribe una función llamada `contar_vocales` que reciba una cadena de texto y devuelva el número de vocales que contiene."
   ]
  },
  {
   "cell_type": "code",
   "execution_count": null,
   "metadata": {},
   "outputs": [],
   "source": [
    "def contar_vocales(cadena):\n",
    "    # Tu código aquí\n",
    "    pass\n",
    "\n",
    "# Prueba la función\n",
    "resultado = contar_vocales(\"Python es divertido\")\n",
    "print(resultado)  # Output esperado: 6"
   ]
  },
  {
   "cell_type": "markdown",
   "metadata": {},
   "source": [
    "### 3. Combinación de funciones con listas y condicionales\n",
    "Crea una función llamada `filtrar_pares` que reciba una lista de números y devuelva solo los números pares. Luego, crea una segunda función llamada `sumar_lista` que reciba una lista de números y devuelva su suma total."
   ]
  },
  {
   "cell_type": "code",
   "execution_count": null,
   "metadata": {},
   "outputs": [],
   "source": [
    "def filtrar_pares(lista):\n",
    "    # Tu código aquí\n",
    "    pass\n",
    "\n",
    "def sumar_lista(lista):\n",
    "    # Tu código aquí\n",
    "    pass\n",
    "\n",
    "# Prueba las funciones\n",
    "numeros = [1, 2, 3, 4, 5, 6, 7, 8]\n",
    "pares = filtrar_pares(numeros)\n",
    "suma_pares = sumar_lista(pares)\n",
    "print(pares)  # Output esperado: [2, 4, 6, 8]\n",
    "print(suma_pares)  # Output esperado: 20"
   ]
  },
  {
   "cell_type": "markdown",
   "metadata": {},
   "source": [
    "### 4. Función con tuplas y condicionales\n",
    "Escribe una función llamada `mejor_alumno` que reciba una lista de tuplas, donde cada tupla contiene el nombre del alumno y su promedio. La función debe devolver el nombre del alumno con el mayor promedio."
   ]
  },
  {
   "cell_type": "code",
   "execution_count": null,
   "metadata": {},
   "outputs": [],
   "source": [
    "def mejor_alumno(lista_alumnos):\n",
    "    # Tu código aquí\n",
    "    pass\n",
    "\n",
    "# Prueba la función\n",
    "alumnos = [(\"Ana\", 8.5), (\"Luis\", 7.2), (\"Jorge\", 9.1), (\"Marta\", 8.9)]\n",
    "mejor = mejor_alumno(alumnos)\n",
    "print(mejor)  # Output esperado: \"Jorge\""
   ]
  },
  {
   "cell_type": "markdown",
   "metadata": {},
   "source": [
    "### 5. Combinación de listas, condicionales y control de flujo\n",
    "Escribe una función llamada `aprobar_alumnos` que reciba una lista de tuplas, donde cada tupla contiene el nombre del alumno y su promedio. La función debe devolver una lista con los nombres de los alumnos que han aprobado (nota mayor o igual a 6)."
   ]
  },
  {
   "cell_type": "code",
   "execution_count": null,
   "metadata": {},
   "outputs": [],
   "source": [
    "def aprobar_alumnos(lista_alumnos):\n",
    "    # Tu código aquí\n",
    "    pass\n",
    "\n",
    "# Prueba la función\n",
    "alumnos = [(\"Ana\", 8.5), (\"Luis\", 4.2), (\"Jorge\", 6.1), (\"Marta\", 5.9)]\n",
    "aprobados = aprobar_alumnos(alumnos)\n",
    "print(aprobados)  # Output esperado: [\"Ana\", \"Jorge\"]"
   ]
  },
  {
   "cell_type": "markdown",
   "metadata": {},
   "source": [
    "## Ejercicio sobre Clases\n",
    "\n",
    "### 6. Clase \"Producto\"\n",
    "Crea una clase llamada `Producto` que tenga los atributos `nombre`, `precio` y `stock`. Define un método llamado `vender` que disminuya el stock en una cantidad dada. Si el stock no es suficiente para cubrir la venta, muestra un mensaje indicando que no hay suficiente stock."
   ]
  },
  {
   "cell_type": "code",
   "execution_count": null,
   "metadata": {},
   "outputs": [],
   "source": [
    "class Producto:\n",
    "    def __init__(self, nombre, precio, stock):\n",
    "        # Inicializa los atributos\n",
    "        pass\n",
    "    \n",
    "    def vender(self, cantidad):\n",
    "        # Vende una cantidad del producto\n",
    "        pass\n",
    "\n",
    "# Prueba la clase\n",
    "producto1 = Producto(\"Laptop\", 1000, 10)\n",
    "producto1.vender(3)\n",
    "producto1.vender(8)  # Debería mostrar un mensaje de stock insuficiente"
   ]
  },
  {
   "cell_type": "markdown",
   "metadata": {},
   "source": [
    "## Ejercicio de Investigación\n",
    "\n",
    "### 7. Investigación: Funciones recursivas\n",
    "Investiga qué es una **función recursiva** y cómo funciona en Python. Implementa una función recursiva que calcule el **factorial** de un número dado. Ejemplo: `factorial(5)` debería devolver 120."
   ]
  },
  {
   "cell_type": "code",
   "execution_count": 2,
   "metadata": {},
   "outputs": [
    {
     "name": "stdout",
     "output_type": "stream",
     "text": [
      "None\n"
     ]
    }
   ],
   "source": [
    "def factorial(n):\n",
    "    # Tu código aquí\n",
    "    pass\n",
    "\n",
    "# Prueba la función\n",
    "print(factorial(5))  # Output esperado: 120"
   ]
  }
 ],
 "metadata": {
  "kernelspec": {
   "display_name": "curso-ine",
   "language": "python",
   "name": "python3"
  },
  "language_info": {
   "codemirror_mode": {
    "name": "ipython",
    "version": 3
   },
   "file_extension": ".py",
   "mimetype": "text/x-python",
   "name": "python",
   "nbconvert_exporter": "python",
   "pygments_lexer": "ipython3",
   "version": "3.11.9"
  }
 },
 "nbformat": 4,
 "nbformat_minor": 2
}
