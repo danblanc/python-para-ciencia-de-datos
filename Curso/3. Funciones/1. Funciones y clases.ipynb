{
 "cells": [
  {
   "cell_type": "markdown",
   "metadata": {},
   "source": [
    "# Funciones y Clases en Python\n",
    "\n",
    "Python es un lenguaje que permite estructurar el código de manera eficiente y organizada utilizando **funciones** y **clases**. En este módulo, aprenderemos qué son las funciones, cómo se declaran, y su importancia para evitar la repetición de código. También haremos una introducción a las **clases**, un concepto clave en la programación orientada a objetos, que permite estructurar el código en torno a objetos que contienen datos y métodos."
   ]
  },
  {
   "cell_type": "markdown",
   "metadata": {},
   "source": [
    "## 1. ¿Qué es una función en Python?\n",
    "\n",
    "Una **función** en Python es un bloque de código que realiza una tarea específica y puede reutilizarse en diferentes partes del programa. Las funciones permiten dividir el código en porciones manejables y evitan la repetición.\n",
    "\n",
    "### ¿Por qué usar funciones?\n",
    "\n",
    "- **Reutilización**: Una vez que has definido una función, puedes llamarla tantas veces como sea necesario.\n",
    "- **Organización**: Permiten estructurar el código de manera más legible.\n",
    "- **Mantenimiento**: Facilitan la modificación del código sin afectar otras partes del programa.\n",
    "\n",
    "### Declaración de una función\n",
    "\n",
    "Para declarar una función en Python, utilizamos la palabra clave `def` seguida del nombre de la función y paréntesis:"
   ]
  },
  {
   "cell_type": "code",
   "execution_count": 1,
   "metadata": {},
   "outputs": [],
   "source": [
    "def saludar(nombre):\n",
    "    print(f\"Hola, {nombre}!\")"
   ]
  },
  {
   "cell_type": "markdown",
   "metadata": {},
   "source": [
    "### Llamada a una función\n",
    "\n",
    "Para **llamar** a una función, simplemente escribimos su nombre seguido de paréntesis, pasando los argumentos si es necesario:"
   ]
  },
  {
   "cell_type": "code",
   "execution_count": 2,
   "metadata": {},
   "outputs": [
    {
     "name": "stdout",
     "output_type": "stream",
     "text": [
      "Hola, María!\n"
     ]
    }
   ],
   "source": [
    "saludar(\"María\")"
   ]
  },
  {
   "cell_type": "markdown",
   "metadata": {},
   "source": [
    "### Ejemplo: Función para sumar dos números"
   ]
  },
  {
   "cell_type": "code",
   "execution_count": 3,
   "metadata": {},
   "outputs": [
    {
     "name": "stdout",
     "output_type": "stream",
     "text": [
      "8\n"
     ]
    }
   ],
   "source": [
    "def sumar(a, b):\n",
    "    return a + b\n",
    "\n",
    "resultado = sumar(5, 3)\n",
    "print(resultado)"
   ]
  },
  {
   "cell_type": "markdown",
   "metadata": {},
   "source": [
    "## 2. Parámetros y valores de retorno\n",
    "\n",
    "Las funciones pueden recibir **parámetros** y devolver un **valor** utilizando la palabra clave `return`.\n",
    "\n",
    "- **Parámetros**: Son los valores que pasamos a la función para que los utilice.\n",
    "- **Return**: Define lo que la función devuelve una vez completada su tarea.\n",
    "\n",
    "**Ejemplo de función con retorno:**"
   ]
  },
  {
   "cell_type": "code",
   "execution_count": 4,
   "metadata": {},
   "outputs": [
    {
     "name": "stdout",
     "output_type": "stream",
     "text": [
      "50\n"
     ]
    }
   ],
   "source": [
    "def area_rectangulo(base, altura):\n",
    "    return base * altura\n",
    "\n",
    "area = area_rectangulo(10, 5)\n",
    "print(area)"
   ]
  },
  {
   "cell_type": "markdown",
   "metadata": {},
   "source": [
    "## 3. Funciones con valores por defecto\n",
    "\n",
    "Las funciones pueden tener **valores por defecto** en sus parámetros. Si el valor no se proporciona, se utiliza el valor por defecto.\n",
    "\n",
    "**Ejemplo de valores por defecto:**"
   ]
  },
  {
   "cell_type": "code",
   "execution_count": 5,
   "metadata": {},
   "outputs": [
    {
     "name": "stdout",
     "output_type": "stream",
     "text": [
      "Hola, Mundo!\n"
     ]
    }
   ],
   "source": [
    "def saludar(nombre=\"Mundo\"):\n",
    "    print(f\"Hola, {nombre}!\")\n",
    "\n",
    "saludar()"
   ]
  },
  {
   "cell_type": "code",
   "execution_count": 7,
   "metadata": {},
   "outputs": [
    {
     "name": "stdout",
     "output_type": "stream",
     "text": [
      "Hola, Daniel!\n"
     ]
    }
   ],
   "source": [
    "saludar(\"Daniel\")"
   ]
  },
  {
   "cell_type": "markdown",
   "metadata": {},
   "source": [
    "## 4. Funciones lambda\n",
    "\n",
    "Las **funciones lambda** son funciones anónimas que se definen en una sola línea y pueden tener múltiples parámetros. Son útiles para operaciones simples.\n",
    "\n",
    "**Ejemplo de función lambda:**"
   ]
  },
  {
   "cell_type": "code",
   "execution_count": 6,
   "metadata": {},
   "outputs": [
    {
     "name": "stdout",
     "output_type": "stream",
     "text": [
      "10\n"
     ]
    }
   ],
   "source": [
    "suma = lambda x, y: x + y\n",
    "print(suma(4, 6))"
   ]
  },
  {
   "cell_type": "markdown",
   "metadata": {},
   "source": [
    "## 5. Introducción a las Clases\n",
    "\n",
    "Las **clases** son la base de la programación orientada a objetos en Python. Permiten agrupar datos (atributos) y funciones (métodos) en una misma entidad llamada **objeto**.\n",
    "\n",
    "### ¿Qué es una clase?\n",
    "\n",
    "Una **clase** es un plano o plantilla para crear objetos. Define las propiedades (atributos) y comportamientos (métodos) que los objetos de esa clase tendrán.\n",
    "\n",
    "**Ejemplo básico de una clase:**"
   ]
  },
  {
   "cell_type": "code",
   "execution_count": 8,
   "metadata": {},
   "outputs": [],
   "source": [
    "class Persona:\n",
    "    def __init__(self, nombre, edad):\n",
    "        self.nombre = nombre\n",
    "        self.edad = edad \n",
    "\n",
    "    def saludo(self):\n",
    "        return f\"Hola, soy {self.nombre}!\"\n",
    "    \n",
    "    def cumpleanios(self):\n",
    "        self.edad = self.edad + 1"
   ]
  },
  {
   "cell_type": "markdown",
   "metadata": {},
   "source": [
    "### Explicación del ejemplo:\n",
    "\n",
    "- **`__init__`**: Es el **constructor** de la clase. Se llama automáticamente al crear una instancia (objeto) de la clase. En este caso, inicializa los atributos `nombre` y `edad`.\n",
    "- **`self`**: Es una referencia al objeto actual. Se utiliza para acceder a los atributos y métodos de la clase dentro de sus métodos.\n",
    "- **Atributos**: Son variables que pertenecen a una clase. Describen las propiedades de un objeto.\n",
    "- **Métodos**: Son funciones que pertenecen a una clase. Definen el comportamiento de los objetos."
   ]
  },
  {
   "cell_type": "code",
   "execution_count": 9,
   "metadata": {},
   "outputs": [
    {
     "data": {
      "text/plain": [
       "'Hola, soy Daniel!'"
      ]
     },
     "execution_count": 9,
     "metadata": {},
     "output_type": "execute_result"
    }
   ],
   "source": [
    "dan = Persona(\"Daniel\", 32)\n",
    "dan.saludo()"
   ]
  },
  {
   "cell_type": "code",
   "execution_count": 10,
   "metadata": {},
   "outputs": [
    {
     "name": "stdout",
     "output_type": "stream",
     "text": [
      "32\n",
      "33\n"
     ]
    }
   ],
   "source": [
    "print(dan.edad)\n",
    "dan.cumpleanios()\n",
    "print(dan.edad)"
   ]
  }
 ],
 "metadata": {
  "kernelspec": {
   "display_name": "curso-ine",
   "language": "python",
   "name": "python3"
  },
  "language_info": {
   "codemirror_mode": {
    "name": "ipython",
    "version": 3
   },
   "file_extension": ".py",
   "mimetype": "text/x-python",
   "name": "python",
   "nbconvert_exporter": "python",
   "pygments_lexer": "ipython3",
   "version": "3.11.9"
  }
 },
 "nbformat": 4,
 "nbformat_minor": 2
}
