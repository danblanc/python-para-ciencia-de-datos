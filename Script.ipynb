{
  "nbformat": 4,
  "nbformat_minor": 0,
  "metadata": {
    "colab": {
      "provenance": [],
      "include_colab_link": true
    },
    "kernelspec": {
      "name": "python3",
      "display_name": "Python 3"
    },
    "language_info": {
      "name": "python"
    }
  },
  "cells": [
    {
      "cell_type": "markdown",
      "metadata": {
        "id": "view-in-github",
        "colab_type": "text"
      },
      "source": [
        "<a href=\"https://colab.research.google.com/github/danblanc/python-para-ciencia-de-datos/blob/nueva_rama/Script.ipynb\" target=\"_parent\"><img src=\"https://colab.research.google.com/assets/colab-badge.svg\" alt=\"Open In Colab\"/></a>"
      ]
    },
    {
      "cell_type": "markdown",
      "source": [
        "En este curso de Python, empleamos diversas librerías para realizar tareas específicas relacionadas con la visualización de datos y el desarrollo de aplicaciones interactivas. A continuación, se detallan las razones para elegir cada una de estas librerías y cómo se complementan entre sí.\n",
        "\n",
        "1. Streamlit (streamlit)\n",
        "Propósito: Streamlit permite crear aplicaciones web interactivas de manera rápida y sencilla. A través de una interfaz de usuario minimalista, los usuarios pueden interactuar con los datos y ver los resultados en tiempo real.\n",
        "Por qué se utiliza:\n",
        "Facilita la creación de dashboards y aplicaciones interactivas sin necesidad de profundos conocimientos de desarrollo web.\n",
        "Ideal para prototipado rápido y compartir análisis de datos con otros usuarios.\n",
        "Se integra bien con otras librerías de visualización de datos como Matplotlib, Plotly, y Altair.\n",
        "2. Seaborn (seaborn)\n",
        "Propósito: Seaborn se especializa en la visualización de datos estadísticos. Está construido sobre Matplotlib, pero simplifica la creación de gráficos complejos con líneas de código mínimas.\n",
        "Por qué se utiliza:\n",
        "Permite la creación de gráficos estadísticos complejos como mapas de calor, gráficos de correlación, y gráficos categóricos de manera sencilla.\n",
        "Proporciona una estética predeterminada que facilita la creación de gráficos profesionales.\n",
        "Simplifica el manejo de conjuntos de datos grandes y la visualización de relaciones entre variables.\n",
        "3. Pandas (pandas)\n",
        "Propósito: Pandas es la librería fundamental para la manipulación y análisis de datos en Python. Facilita el manejo de datos tabulares (similar a las hojas de cálculo de Excel).\n",
        "Por qué se utiliza:\n",
        "Permite la manipulación eficiente de grandes conjuntos de datos, incluyendo operaciones de filtrado, agrupación y agregación.\n",
        "Es indispensable para la preparación y limpieza de datos antes de su análisis o visualización.\n",
        "Se integra perfectamente con las librerías de visualización como Seaborn, Matplotlib, y Plotly.\n",
        "4. Matplotlib (matplotlib.pyplot)\n",
        "Propósito: Matplotlib es una librería versátil para crear gráficos estáticos. Permite el control total sobre los gráficos, lo que lo hace muy flexible.\n",
        "Por qué se utiliza:\n",
        "Es la base sobre la que están construidas otras librerías de visualización como Seaborn.\n",
        "Proporciona una amplia gama de tipos de gráficos: líneas, dispersión, barras, histogramas, entre otros.\n",
        "Aunque no es tan sencilla como Seaborn o Plotly, su flexibilidad es ideal para personalizar gráficos al máximo.\n",
        "5. Numpy (numpy)\n",
        "Propósito: Numpy es la librería fundamental para cálculos numéricos eficientes en Python. Proporciona una gran variedad de funciones para manejar matrices multidimensionales y realizar operaciones matemáticas avanzadas.\n",
        "Por qué se utiliza:\n",
        "Ofrece un rendimiento superior en comparación con las estructuras de datos nativas de Python (listas, diccionarios) para operaciones numéricas.\n",
        "Es esencial para trabajar con grandes cantidades de datos y para optimizar cálculos complejos.\n",
        "Proporciona las bases numéricas para otras librerías de análisis de datos como Pandas.\n",
        "6. Plotly Express (plotly.express)\n",
        "Propósito: Plotly Express es una librería de gráficos interactivos que permite crear gráficos complejos con pocos comandos. Los gráficos generados son altamente interactivos, lo que es útil para explorar datos.\n",
        "Por qué se utiliza:\n",
        "Facilita la creación de gráficos interactivos que permiten a los usuarios explorar datos a través de zoom, selección y otros controles.\n",
        "Proporciona visualizaciones atractivas y dinámicas que se pueden integrar fácilmente en aplicaciones web con Streamlit.\n",
        "Es ideal para gráficos tridimensionales, mapas de dispersión y gráficos de líneas interactivos.\n",
        "7. Folium (folium)\n",
        "Propósito: Folium es una librería utilizada para la creación de mapas interactivos. Permite integrar capas geoespaciales y personalizar los estilos de los mapas.\n",
        "Por qué se utiliza:\n",
        "Es ideal para visualizar datos geoespaciales en un mapa.\n",
        "Permite la superposición de datos sobre mapas interactivos de manera sencilla, lo que es útil para análisis de geolocalización.\n",
        "Se puede integrar directamente en aplicaciones web con Streamlit usando el control st_folium.\n",
        "8. Streamlit Folium (streamlit_folium)\n",
        "Propósito: Esta extensión de Streamlit permite integrar los mapas interactivos de Folium directamente en las aplicaciones de Streamlit.\n",
        "Por qué se utiliza:\n",
        "Facilita la visualización de mapas interactivos dentro de aplicaciones web sin necesidad de cambiar de entorno.\n",
        "Permite a los usuarios interactuar con los mapas directamente desde la interfaz web.\n",
        "9. Altair (altair)\n",
        "Propósito: Altair es una librería de gráficos declarativos, lo que significa que define los gráficos especificando las relaciones entre los datos en lugar de controlar cada aspecto visual.\n",
        "Por qué se utiliza:\n",
        "Permite crear gráficos complejos y altamente personalizados de manera eficiente y con pocas líneas de código.\n",
        "Facilita la interactividad y la visualización de grandes conjuntos de datos sin perder claridad.\n",
        "Su enfoque declarativo hace que los gráficos sean fáciles de modificar y actualizar."
      ],
      "metadata": {
        "id": "_DS13nX1dcMN"
      }
    },
    {
      "cell_type": "code",
      "source": [
        "#########################################################import streamlit as st\n",
        "import seaborn as sns\n",
        "import pandas as pd\n",
        "import matplotlib.pyplot as plt\n",
        "import numpy as np\n",
        "import plotly.express as px\n",
        "import folium\n",
        "# ################################################3###from streamlit_folium\n",
        "import altair as alt"
      ],
      "metadata": {
        "id": "bx4N0oi3dkoW"
      },
      "execution_count": 3,
      "outputs": []
    },
    {
      "cell_type": "markdown",
      "source": [
        "Mediante la lectura del archivo CSV con Pandas, los datos son transformados en una estructura de fácil manipulación, lo que permite una presentación clara y eficiente dentro de la interfaz de usuario. Esto garantiza una experiencia interactiva fluida para el análisis y visualización de los datos de la encuesta.Los usuarios van a interactuar con ellos mediante tablas, gráficos o mapas."
      ],
      "metadata": {
        "id": "NAr7yz82jYKB"
      }
    },
    {
      "cell_type": "code",
      "source": [
        "ECH_Seg_12024 = pd.read_csv('data/ECH_Seguimiento_Mes_1_2024.csv')"
      ],
      "metadata": {
        "id": "MppellUfirCS"
      },
      "execution_count": null,
      "outputs": []
    },
    {
      "cell_type": "markdown",
      "source": [
        " Se introdujo un elemento visual, que en este caso puede ser el logo del Instituto Nacional de Estadística (INE), para mejorar el aspecto gráfico de la aplicación y reforzar la identidad institucional. La imagen, almacenada en la ruta data/ine.jpg, se ajusta automáticamente al ancho de la columna disponible.  \n",
        " La creación de la estructura de navegación mediante pestañas y la barra lateral de filtros, ambos elementos implementados para facilitar la interacción del usuario\n",
        "\n",
        "**Función:** Añadir una referencia visual institucional (logo del INE).\n",
        "\n",
        "**Impacto en la interfaz:** Mejora la presentación gráfica y refuerza la identidad de la fuente de datos.\n",
        "\n",
        "**Impacto en la Experiencia del Usuario**\n",
        "La combinación de pestañas y la barra lateral proporciona una interfaz intuitiva y amigable. Los usuarios pueden navegar de manera eficiente entre diferentes vistas de los datos y aplicar filtros dinámicos para adaptar las visualizaciones a sus necesidades. Esta estructura permite una exploración flexible y profundiza el análisis, lo que es crucial en aplicaciones de análisis de datos como la presentada en esta Encuesta Continua de Hogares (ECH)."
      ],
      "metadata": {
        "id": "kuxBNGKxdqdp"
      }
    },
    {
      "cell_type": "code",
      "source": [
        "st.image(\"data/ine.jpg\", caption=\"\", use_column_width=True)\n",
        "st.title('PRESENTACION DE DATOS DE LA ENCUESTA CONTINUA DE HOGARES (ECH)')\n",
        "st.header('CORRESPODIENTE A ENERO DEL 2024')\n",
        "tabs = st.tabs([\"Inicio\", \"Tabla\", \"Graficos\", \"Mapas\"])\n",
        "st.sidebar.title('Filtros')\n"
      ],
      "metadata": {
        "id": "o8Xomv9DfLNH"
      },
      "execution_count": null,
      "outputs": []
    },
    {
      "cell_type": "markdown",
      "source": [
        "Estos filtros implementados en la barra lateral permiten a los usuarios seleccionar diferentes criterios para personalizar la visualización de los datos, lo que facilita un análisis más detallado y específico. La adición de selectboxes para filtrar datos de acuerdo a **departamento**, **localidad**, **sexo** y **rango de edad** proporciona a los usuarios una experiencia interactiva enriquecida. Les permite explorar los datos de manera más efectiva y tomar decisiones informadas basadas en criterios específicos. Esta funcionalidad es crucial en la presentación de datos, ya que transforma una visión general en análisis más detallados y significativos.\n",
        "**Interactividad:** La implementación de estos filtros interactivos en la barra lateral mejora la usabilidad de la aplicación, permitiendo a los usuarios ajustar los datos que desean analizar con facilidad. Esto fomenta un enfoque más específico y relevante en la visualización de datos.\n",
        "\n",
        "**Análisis Personalizado:** Estos filtros permiten que los usuarios realicen análisis más focalizados y personalizados, ya que pueden seleccionar criterios relevantes para sus intereses o necesidades específicas."
      ],
      "metadata": {
        "id": "kYtkOkO7nZvJ"
      }
    },
    {
      "cell_type": "markdown",
      "source": [],
      "metadata": {
        "id": "P_HoPHR4fpnr"
      }
    },
    {
      "cell_type": "code",
      "source": [
        "\n",
        "# Selectbox para elegir el departamento\n",
        "option_depto = st.sidebar.selectbox(\"Seleccione el Departamento:\", ['Todos'] + ECH_Seg_12024[\"nom_dpto\"].unique().tolist())\n",
        "\n",
        "# Selectbox para elegir el localidad segun el departamento\n",
        "if option_depto == 'Todos':\n",
        "    option_localidad= st.sidebar.selectbox(\"Seleccione la Localidad:\", ['Todos'] + ECH_Seg_12024[\"NOM_LOC_AGR_13\"].unique().tolist())\n",
        "else:\n",
        "    option_localidad= st.sidebar.selectbox(\"Seleccione la Localidad:\", ['Todos'] + ECH_Seg_12024[ECH_Seg_12024['nom_dpto'] == option_depto][\"NOM_LOC_AGR_13\"].unique().tolist())\n",
        "\n",
        "#seleccion de sexo\n",
        "sexo = ['Todos','Hombre', 'Mujer']\n",
        "option_sexo = st.sidebar.selectbox(\"Seleccione el sexo:\", sexo)\n",
        "\n",
        "# Selectbox rango de edad\n",
        "rango = ['Todos','0-18', '19-30', '31-40', '41-50', '51-60', '61-100', '>100']\n",
        "option_rango = st.sidebar.selectbox(\"Seleccione rango de edad:\", rango)\n"
      ],
      "metadata": {
        "id": "e2-BOrnzhDGi"
      },
      "execution_count": null,
      "outputs": []
    },
    {
      "cell_type": "markdown",
      "source": [
        "se presenta la lógica de filtrado implementada en la aplicación para la Encuesta Continua de Hogares (ECH), que permite a los usuarios personalizar su análisis de datos según múltiples criterios, incluyendo departamento, localidad, sexo y rango de edad.La lógica de filtrado se organiza a través de condiciones que utilizan los valores seleccionados en la barra lateral por el usuario para construir un DataFrame filtrado, df_filtradoFiltrado\n",
        "Según el **Rango de Edad y Sexo** se implementa una estructura condicional que evalúa el rango de edad y el sexo para construir el DataFrame filtrado. Para cada combinación de rango de edad y sexo, se filtran los datos .\n",
        "Filtrado para **Otros Rangos de Edad** Al final de las condiciones, también se incluye el filtrado para aquellos mayores de 100 años\n",
        "\n",
        "**Propósito y Funcionalidad General**\n",
        "Segmentación de Datos: Esta lógica de filtrado permite segmentar los datos de manera detallada, lo que permite a los usuarios realizar análisis más precisos en función de su selección.\n",
        "\n",
        "**Interacción Personalizada:** Al permitir a los usuarios elegir sus criterios de filtrado, la aplicación se vuelve más interactiva y centrada en el usuario, mejorando la experiencia de análisis de datos."
      ],
      "metadata": {
        "id": "ba5PG1Pa1wf7"
      }
    },
    {
      "cell_type": "code",
      "source": [
        "if ((option_depto != 'Todos') and (option_localidad != 'Todos')):\n",
        "\n",
        "        if option_rango == 'Todos':\n",
        "            if option_sexo == 'Hombre':\n",
        "                df_filtrado = ECH_Seg_12024[(ECH_Seg_12024['nom_dpto'] == option_depto) & (ECH_Seg_12024['NOM_LOC_AGR_13'] == option_localidad) &\n",
        "                                            (ECH_Seg_12024['e26'] == 1)]\n",
        "\n",
        "            elif option_sexo == 'Mujer':\n",
        "                df_filtrado = ECH_Seg_12024[(ECH_Seg_12024['nom_dpto'] == option_depto) & (ECH_Seg_12024['NOM_LOC_AGR_13'] == option_localidad) &\n",
        "                                            (ECH_Seg_12024['e26'] == 2)]\n",
        "\n",
        "            else:\n",
        "                df_filtrado = ECH_Seg_12024[(ECH_Seg_12024['nom_dpto'] == option_depto) & (ECH_Seg_12024['NOM_LOC_AGR_13'] == option_localidad)]\n",
        "\n",
        "\n",
        "        elif option_rango == '0-18':\n",
        "            if option_sexo == 'Hombre':\n",
        "                df_filtrado = ECH_Seg_12024[(ECH_Seg_12024['nom_dpto'] == option_depto) & (ECH_Seg_12024['NOM_LOC_AGR_13'] == option_localidad) &\n",
        "                                            (ECH_Seg_12024['e26'] == 1) & (ECH_Seg_12024['e27'] < 19)]\n",
        "\n",
        "            elif option_sexo == 'Mujer':\n",
        "                df_filtrado = ECH_Seg_12024[(ECH_Seg_12024['nom_dpto'] == option_depto) & (ECH_Seg_12024['NOM_LOC_AGR_13'] == option_localidad) &\n",
        "                                            (ECH_Seg_12024['e26'] == 2) & (ECH_Seg_12024['e27'] < 19)]\n",
        "\n",
        "            else:\n",
        "                df_filtrado = ECH_Seg_12024[(ECH_Seg_12024['nom_dpto'] == option_depto) & (ECH_Seg_12024['NOM_LOC_AGR_13'] == option_localidad) &\n",
        "                                            (ECH_Seg_12024['e27'] < 19)]\n",
        "\n",
        "\n",
        "        elif option_rango == '19-30':\n",
        "            if option_sexo == 'Hombre':\n",
        "                df_filtrado = ECH_Seg_12024[(ECH_Seg_12024['nom_dpto'] == option_depto) & (ECH_Seg_12024['NOM_LOC_AGR_13'] == option_localidad) &\n",
        "                                            (ECH_Seg_12024['e26'] == 1) & (ECH_Seg_12024['e27'] > 18) & (ECH_Seg_12024['e27'] < 31)]\n",
        "\n",
        "            elif option_sexo == 'Mujer':\n",
        "                df_filtrado = ECH_Seg_12024[(ECH_Seg_12024['nom_dpto'] == option_depto) & (ECH_Seg_12024['NOM_LOC_AGR_13'] == option_localidad) &\n",
        "                                            (ECH_Seg_12024['e26'] == 2) & (ECH_Seg_12024['e27'] > 18) & (ECH_Seg_12024['e27'] < 31)]\n",
        "\n",
        "            else:\n",
        "                df_filtrado = ECH_Seg_12024[(ECH_Seg_12024['nom_dpto'] == option_depto) & (ECH_Seg_12024['NOM_LOC_AGR_13'] == option_localidad) &\n",
        "                                            (ECH_Seg_12024['e27'] > 18) & (ECH_Seg_12024['e27'] < 31)]\n",
        "\n",
        "\n",
        "        elif option_rango == '31-40':\n",
        "            if option_sexo == 'Hombre':\n",
        "                df_filtrado = ECH_Seg_12024[(ECH_Seg_12024['nom_dpto'] == option_depto) & (ECH_Seg_12024['NOM_LOC_AGR_13'] == option_localidad) &\n",
        "                                            (ECH_Seg_12024['e26'] == 1) & (ECH_Seg_12024['e27'] > 30) & (ECH_Seg_12024['e27'] < 41)]\n",
        "\n",
        "            elif option_sexo == 'Mujer':\n",
        "                df_filtrado = ECH_Seg_12024[(ECH_Seg_12024['nom_dpto'] == option_depto) & (ECH_Seg_12024['NOM_LOC_AGR_13'] == option_localidad) &\n",
        "                                            (ECH_Seg_12024['e26'] == 2) & (ECH_Seg_12024['e27'] > 30) & (ECH_Seg_12024['e27'] < 41)]\n",
        "\n",
        "            else:\n",
        "                df_filtrado = ECH_Seg_12024[(ECH_Seg_12024['nom_dpto'] == option_depto) & (ECH_Seg_12024['NOM_LOC_AGR_13'] == option_localidad) &\n",
        "                                            (ECH_Seg_12024['e27'] > 30) & (ECH_Seg_12024['e27'] < 41)]\n",
        "\n",
        "\n",
        "        elif option_rango == '41-50':\n",
        "            if option_sexo == 'Hombre':\n",
        "                df_filtrado = ECH_Seg_12024[(ECH_Seg_12024['nom_dpto'] == option_depto) & (ECH_Seg_12024['NOM_LOC_AGR_13'] == option_localidad) &\n",
        "                                            (ECH_Seg_12024['e26'] == 1) & (ECH_Seg_12024['e27'] > 40) & (ECH_Seg_12024['e27'] < 51)]\n",
        "\n",
        "            elif option_sexo == 'Mujer':\n",
        "                df_filtrado = ECH_Seg_12024[(ECH_Seg_12024['nom_dpto'] == option_depto) & (ECH_Seg_12024['NOM_LOC_AGR_13'] == option_localidad) &\n",
        "                                            (ECH_Seg_12024['e26'] == 2) & (ECH_Seg_12024['e27'] > 40) & (ECH_Seg_12024['e27'] < 51)]\n",
        "\n",
        "            else:\n",
        "                df_filtrado = ECH_Seg_12024[(ECH_Seg_12024['nom_dpto'] == option_depto) & (ECH_Seg_12024['NOM_LOC_AGR_13'] == option_localidad) &\n",
        "                                            (ECH_Seg_12024['e27'] > 40) & (ECH_Seg_12024['e27'] < 51)]\n",
        "\n",
        "\n",
        "        elif option_rango == '51-60':\n",
        "            if option_sexo == 'Hombre':\n",
        "                df_filtrado = ECH_Seg_12024[(ECH_Seg_12024['nom_dpto'] == option_depto) & (ECH_Seg_12024['NOM_LOC_AGR_13'] == option_localidad) &\n",
        "                                            (ECH_Seg_12024['e26'] == 1) & (ECH_Seg_12024['e27'] > 50) & (ECH_Seg_12024['e27'] < 61)]\n",
        "\n",
        "            elif option_sexo == 'Mujer':\n",
        "                df_filtrado = ECH_Seg_12024[(ECH_Seg_12024['nom_dpto'] == option_depto) & (ECH_Seg_12024['NOM_LOC_AGR_13'] == option_localidad) &\n",
        "                                            (ECH_Seg_12024['e26'] == 2) & (ECH_Seg_12024['e27'] > 50) & (ECH_Seg_12024['e27'] < 61)]\n",
        "\n",
        "            else:\n",
        "                df_filtrado = ECH_Seg_12024[(ECH_Seg_12024['nom_dpto'] == option_depto) & (ECH_Seg_12024['NOM_LOC_AGR_13'] == option_localidad) &\n",
        "                                            (ECH_Seg_12024['e27'] > 50) & (ECH_Seg_12024['e27'] < 61)]\n",
        "\n",
        "\n",
        "        elif option_rango == '61-100':\n",
        "            if option_sexo == 'Hombre':\n",
        "                df_filtrado = ECH_Seg_12024[(ECH_Seg_12024['nom_dpto'] == option_depto) & (ECH_Seg_12024['NOM_LOC_AGR_13'] == option_localidad) &\n",
        "                                            (ECH_Seg_12024['e26'] == 1) & (ECH_Seg_12024['e27'] > 60) & (ECH_Seg_12024['e27'] < 101)]\n",
        "\n",
        "            elif option_sexo == 'Mujer':\n",
        "                df_filtrado = ECH_Seg_12024[(ECH_Seg_12024['nom_dpto'] == option_depto) & (ECH_Seg_12024['NOM_LOC_AGR_13'] == option_localidad) &\n",
        "                                            (ECH_Seg_12024['e26'] == 2) & (ECH_Seg_12024['e27'] > 60) & (ECH_Seg_12024['e27'] < 101)]\n",
        "\n",
        "            else:\n",
        "                df_filtrado = ECH_Seg_12024[(ECH_Seg_12024['nom_dpto'] == option_depto) & (ECH_Seg_12024['NOM_LOC_AGR_13'] == option_localidad) &\n",
        "                                            (ECH_Seg_12024['e27'] > 60) & (ECH_Seg_12024['e27'] < 101)]\n",
        "\n",
        "\n",
        "        else:\n",
        "            if option_sexo == 'Hombre':\n",
        "                df_filtrado = ECH_Seg_12024[(ECH_Seg_12024['nom_dpto'] == option_depto) & (ECH_Seg_12024['NOM_LOC_AGR_13'] == option_localidad) &\n",
        "                                            (ECH_Seg_12024['e26'] == 1) & (ECH_Seg_12024['e27'] > 100)]\n",
        "\n",
        "            elif option_sexo == 'Mujer':\n",
        "                df_filtrado = ECH_Seg_12024[(ECH_Seg_12024['nom_dpto'] == option_depto) & (ECH_Seg_12024['NOM_LOC_AGR_13'] == option_localidad) &\n",
        "                                            (ECH_Seg_12024['e26'] == 2) & (ECH_Seg_12024['e27'] > 100)]\n",
        "\n",
        "            else:\n",
        "                df_filtrado = ECH_Seg_12024[(ECH_Seg_12024['nom_dpto'] == option_depto) & (ECH_Seg_12024['NOM_LOC_AGR_13'] == option_localidad) &\n",
        "                                            (ECH_Seg_12024['e27'] > 100)]"
      ],
      "metadata": {
        "id": "JvhGG5vW2tVE"
      },
      "execution_count": null,
      "outputs": []
    }
  ]
}